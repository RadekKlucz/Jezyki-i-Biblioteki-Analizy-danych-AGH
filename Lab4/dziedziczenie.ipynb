{
 "cells": [
  {
   "cell_type": "markdown",
   "metadata": {
    "slideshow": {
     "slide_type": "slide"
    }
   },
   "source": [
    "# Języki i Biblioteki Analizy Danych\n",
    "\n",
    "## Laboratorium 5.: Dziedziczenie\n",
    "\n",
    "#### mgr inż. Zbigniew Kaleta"
   ]
  },
  {
   "cell_type": "markdown",
   "metadata": {
    "slideshow": {
     "slide_type": "subslide"
    }
   },
   "source": [
    "Dziedziczenie jest jedną z metod wielokrotnego wykorzystania kodu.\n",
    "\n",
    "Polega na stworzeniu klasy, która posiada wszystkie funkcjonalności rozszerzanej klasy (dziedziczy pola i metody) i rozszerza ją w jakiś sposób (dodaje nowe składowe).\n",
    "\n",
    "Klasa dziedzicząca (potomna) może nadpisywać metody klasy bazowej (rodzica; patrz: polimorfizm), ale powinna to robić w taki sposób, żeby jej obiekty mogły być używane w miejsce obiektów przodka (patrz: zasada podstawienia Liskov) - dziedziczenie jest relacją typu 'is a'."
   ]
  },
  {
   "cell_type": "code",
   "execution_count": 1,
   "metadata": {
    "slideshow": {
     "slide_type": "subslide"
    }
   },
   "outputs": [
    {
     "name": "stdout",
     "output_type": "stream",
     "text": [
      "Yup, this is parent method\n",
      "Method of a child\n",
      "Yup, this is parent method\n"
     ]
    },
    {
     "ename": "AttributeError",
     "evalue": "'Foo' object has no attribute 'child_method'",
     "output_type": "error",
     "traceback": [
      "\u001b[1;31m---------------------------------------------------------------------------\u001b[0m",
      "\u001b[1;31mAttributeError\u001b[0m                            Traceback (most recent call last)",
      "Cell \u001b[1;32mIn [1], line 16\u001b[0m\n\u001b[0;32m     14\u001b[0m bar\u001b[39m.\u001b[39mchild_method()\n\u001b[0;32m     15\u001b[0m foo\u001b[39m.\u001b[39mparent_method()\n\u001b[1;32m---> 16\u001b[0m foo\u001b[39m.\u001b[39mchild_method()\n",
      "\u001b[1;31mAttributeError\u001b[0m: 'Foo' object has no attribute 'child_method'"
     ]
    }
   ],
   "source": [
    "class Foo:\n",
    "    \n",
    "    def parent_method(self):\n",
    "        print(\"Yup, this is parent method\")\n",
    "        \n",
    "class Bar(Foo):\n",
    "    \n",
    "    def child_method(self):\n",
    "        print(\"Method of a child\")\n",
    "\n",
    "foo = Foo()\n",
    "bar = Bar()\n",
    "bar.parent_method()\n",
    "bar.child_method()\n",
    "foo.parent_method()\n",
    "foo.child_method()"
   ]
  },
  {
   "cell_type": "markdown",
   "metadata": {},
   "source": [
    "Klasa `Foo` nie dziedziczy z niczego (a właściwie niejawnie dziedziczy z klasy `object`), natomiast `Bar` dziedziczy z `Foo`.\n",
    "\n",
    "Obiekt klasy `Bar` posiada zarówno metodę `child_method` zdefiniowaną wprost w tej klasie, jak i odziedziczoną `parent_method`.\n",
    "\n",
    "Obiekt `Foo` metody `child_method` nie posiada."
   ]
  },
  {
   "cell_type": "code",
   "execution_count": 2,
   "metadata": {
    "slideshow": {
     "slide_type": "subslide"
    }
   },
   "outputs": [
    {
     "name": "stdout",
     "output_type": "stream",
     "text": [
      "This is overriden parent method\n"
     ]
    }
   ],
   "source": [
    "class Baz(Foo):\n",
    "    \n",
    "    def parent_method(self):\n",
    "        print(\"This is overriden parent method\")\n",
    "        \n",
    "baz = Baz()\n",
    "baz.parent_method()"
   ]
  },
  {
   "cell_type": "markdown",
   "metadata": {},
   "source": [
    "W tym przypadku klasa `Baz` całkowicie nadpisała metodę `parent_method` i tylko ta nowa wersja będzie uruchamiana w przypadku obiektów tej klasy."
   ]
  },
  {
   "cell_type": "code",
   "execution_count": 3,
   "metadata": {
    "slideshow": {
     "slide_type": "subslide"
    }
   },
   "outputs": [
    {
     "name": "stdout",
     "output_type": "stream",
     "text": [
      "Yup, this is parent method\n",
      "This is overriden parent method\n"
     ]
    }
   ],
   "source": [
    "class Baz(Foo):\n",
    "    \n",
    "    def parent_method(self):\n",
    "        super().parent_method()  # <- note the parenthesis after super keyword\n",
    "        print(\"This is overriden parent method\")\n",
    "        \n",
    "baz = Baz()\n",
    "baz.parent_method()"
   ]
  },
  {
   "cell_type": "markdown",
   "metadata": {},
   "source": [
    "Tutaj też mamy do czynienia z nadpisaną metodą, ale nowa wersja wywołuje starą, a później wykonuje dodatkowe operacje. Wywołanie metody odziedziczonej jest traktowane jak normalne wywołanie metody, więc nie ma żadnych ograniczeń odnośnie kiedy i ile razy to zrobimy."
   ]
  },
  {
   "cell_type": "code",
   "execution_count": 4,
   "metadata": {
    "slideshow": {
     "slide_type": "subslide"
    }
   },
   "outputs": [
    {
     "name": "stdout",
     "output_type": "stream",
     "text": [
      "Initializing Bar\n"
     ]
    }
   ],
   "source": [
    "class Foo:\n",
    "    \n",
    "    def __init__(self):\n",
    "        print(\"Initializing Foo\")\n",
    "        \n",
    "class Bar(Foo):\n",
    "    \n",
    "    def __init__(self):\n",
    "        print(\"Initializing Bar\")\n",
    "        \n",
    "bar = Bar()"
   ]
  },
  {
   "cell_type": "markdown",
   "metadata": {},
   "source": [
    "Konieczność jawnego wywołania metody odziedziczonej (jeżeli uważamy, że jest taka potrzeba) dotyczy także konstruktora. Jest to istotna różnica w stosunku do Javy, gdzie konstruktor przodka musi być wywołany w pierwszej linii konstruktora potomka i dzieje się to także niejawnie, o ile przodek posiada konstruktor bezparanetrowy."
   ]
  },
  {
   "cell_type": "code",
   "execution_count": 5,
   "metadata": {
    "slideshow": {
     "slide_type": "subslide"
    }
   },
   "outputs": [
    {
     "name": "stdout",
     "output_type": "stream",
     "text": [
      "B2\n"
     ]
    }
   ],
   "source": [
    "class A:\n",
    "    def foo(self):\n",
    "        print(\"A\")\n",
    "    \n",
    "    \n",
    "class B1(A):\n",
    "#     def foo(self):\n",
    "#         print(\"B1\")\n",
    "    pass\n",
    "\n",
    "class B2(A):\n",
    "    def foo(self):\n",
    "        print(\"B2\")\n",
    "    \n",
    "\n",
    "class C(B1, B2):\n",
    "#     def foo(self):\n",
    "#         print(\"C\")\n",
    "    pass\n",
    "\n",
    "oc = C()\n",
    "oc.foo() # problem co sei wywol, czy foo z A czy foo z B2. \n",
    "# Zalatwia to algorytm linearyzacji i wywola sie B2"
   ]
  },
  {
   "cell_type": "markdown",
   "metadata": {},
   "source": [
    "Python (podobnie jak C++, a inaczej niż Java) pozwala na dziedziczenie wielobazowe. Jest to dość potężna technika, ale nierozsądnie używana prowadzi do problemów. M.in. do pytania \"Metoda odziedziczona z której klasy bazowej zostanie wywołana?\".\n",
    "\n",
    "W Pythonie decyduje o tym algorytm linearyzacji C3..."
   ]
  },
  {
   "cell_type": "code",
   "execution_count": 6,
   "metadata": {
    "slideshow": {
     "slide_type": "subslide"
    }
   },
   "outputs": [
    {
     "data": {
      "text/plain": [
       "(__main__.C, __main__.B1, __main__.B2, __main__.A, object)"
      ]
     },
     "execution_count": 6,
     "metadata": {},
     "output_type": "execute_result"
    }
   ],
   "source": [
    "C.__mro__ # klasy w jjakiej kolejnosci beda poszukiwane metody, obowiazuje tez dla super()"
   ]
  },
  {
   "cell_type": "markdown",
   "metadata": {},
   "source": [
    "...a efekt jego działania można podejrzeć korzystając z atrybutu specjalnego `__mro__` (od Method Resolution Order).\n",
    "\n",
    "To samo MRO obowiązuje w momencie sięgania po metodę odziedziczoną przy pomocy super()."
   ]
  },
  {
   "cell_type": "markdown",
   "metadata": {},
   "source": [
    "Lektura dodatkowa:\n",
    " - https://www.geeksforgeeks.org/inheritance-in-python/\n",
    " - https://pythongeeks.org/inheritance-in-python/"
   ]
  }
 ],
 "metadata": {
  "celltoolbar": "Slideshow",
  "kernelspec": {
   "display_name": "Python 3.10.8 64-bit (microsoft store)",
   "language": "python",
   "name": "python3"
  },
  "language_info": {
   "codemirror_mode": {
    "name": "ipython",
    "version": 3
   },
   "file_extension": ".py",
   "mimetype": "text/x-python",
   "name": "python",
   "nbconvert_exporter": "python",
   "pygments_lexer": "ipython3",
   "version": "3.10.8"
  },
  "vscode": {
   "interpreter": {
    "hash": "d5a4eec0f89c02024410392738afe4e55f5cd470d4beb3f4f756e4a1d55a9a27"
   }
  }
 },
 "nbformat": 4,
 "nbformat_minor": 2
}
