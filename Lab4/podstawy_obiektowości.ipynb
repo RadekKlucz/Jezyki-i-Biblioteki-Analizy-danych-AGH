{
 "cells": [
  {
   "cell_type": "markdown",
   "metadata": {
    "slideshow": {
     "slide_type": "slide"
    }
   },
   "source": [
    "# Języki i Biblioteki Analizy Danych\n",
    "\n",
    "## Laboratorium 5.: Podstawy obiektowości - klasy\n",
    "\n",
    "#### mgr inż. Zbigniew Kaleta"
   ]
  },
  {
   "cell_type": "markdown",
   "metadata": {
    "slideshow": {
     "slide_type": "subslide"
    }
   },
   "source": [
    "Obiekty w programowaniu to zgrupowanie danych (pola, atrybuty) z wykonywanymi na nich operacjami (metody).\n",
    "\n",
    "Pola nazywa się stanem obiektu, a metody zachowaniem."
   ]
  },
  {
   "cell_type": "markdown",
   "metadata": {},
   "source": [
    "int tez jest klasa (brak typow prymitywnych)"
   ]
  },
  {
   "cell_type": "code",
   "execution_count": 1,
   "metadata": {
    "slideshow": {
     "slide_type": "subslide"
    }
   },
   "outputs": [
    {
     "name": "stdout",
     "output_type": "stream",
     "text": [
      "123\n",
      "<class 'int'>\n"
     ]
    }
   ],
   "source": [
    "n = int(\"123\")\n",
    "\n",
    "print(n)\n",
    "print(int)"
   ]
  },
  {
   "cell_type": "markdown",
   "metadata": {
    "slideshow": {
     "slide_type": "-"
    }
   },
   "source": [
    "W Pythonie, żeby utworzyć obiekt klasy (zainstancjonować ją) wystarczy wywołać tę klasę tak, jakby była funkcją."
   ]
  },
  {
   "cell_type": "markdown",
   "metadata": {
    "slideshow": {
     "slide_type": "subslide"
    }
   },
   "source": [
    "Konwencje nazewnicze:\n",
    " - nazwy klas piszemy w PascalCase, czyli wszystkie słowa zaczynają się wielką literą, nie używamy podkreślników do oddzielania słów\n",
    " - nazwy składowych klasy - pól i metod - piszemy tak jak nazwy zmiennych i funkcji, czyli snake_casem - wszystkie litery małe, kolejne słowa oddzielamy podkreślnikami\n",
    " - zapis składowej wielkimi literami wskazuje, że jest ona stała (jest to wyłącznie kwestia konwencji, bo w Pythonie nie ma stałych sensu stricto)"
   ]
  },
  {
   "cell_type": "markdown",
   "metadata": {
    "slideshow": {
     "slide_type": "subslide"
    }
   },
   "source": [
    "Najprostsza klasa (nie umie nic, oprócz tego, co odziedziczyła po object)"
   ]
  },
  {
   "cell_type": "code",
   "execution_count": 2,
   "metadata": {},
   "outputs": [],
   "source": [
    "class Foo:\n",
    "    pass"
   ]
  },
  {
   "cell_type": "code",
   "execution_count": 3,
   "metadata": {
    "slideshow": {
     "slide_type": "subslide"
    }
   },
   "outputs": [],
   "source": [
    "class Foo:\n",
    "    \n",
    "    def __init__(self, n):\n",
    "        self.x = n\n",
    "    \n",
    "    def bar(self):\n",
    "        print(self.x)"
   ]
  },
  {
   "cell_type": "markdown",
   "metadata": {},
   "source": [
    "Rzeczy o których koniecznie trzeba pamiętać:\n",
    " - pierwszym parametrem każdej metody (instancyjnej) musi być `self` (teoretycznie można zmienić tę nazwę, ale stanowczo odradzam). W momencie wywołania metody do `self` jest przekazywana referencja na obiekt, dla którego została wywołana (odpowiednik javowego `this`)\n",
    " - odwołanie do składowych obiektów zawsze należy poprzedzać `self.` - jego brak oznacza odwołanie do zmiennej lokalnej/globalnej, a nie atrybutu\n",
    " - atrybuty obiektu, podobnie jak zmienne, nie wymagają deklaracji - można je tworzyć w dowolnym momencie (nawet poza metodami)\n",
    " - na przekór poprzedniemu punktowi, zalecane jest, aby wszystkie atrybuty obiektu tworzyć w jego konstruktorze, czyli metodzie `__init__`"
   ]
  },
  {
   "cell_type": "code",
   "execution_count": 4,
   "metadata": {
    "slideshow": {
     "slide_type": "fragment"
    }
   },
   "outputs": [
    {
     "name": "stdout",
     "output_type": "stream",
     "text": [
      "2\n"
     ]
    }
   ],
   "source": [
    "foo = Foo(2)\n",
    "foo.bar()"
   ]
  },
  {
   "cell_type": "markdown",
   "metadata": {},
   "source": [
    "przyklady poza metodami, funkcja init:"
   ]
  },
  {
   "cell_type": "code",
   "execution_count": 5,
   "metadata": {
    "slideshow": {
     "slide_type": "fragment"
    }
   },
   "outputs": [
    {
     "name": "stdout",
     "output_type": "stream",
     "text": [
      "3\n",
      "4\n"
     ]
    }
   ],
   "source": [
    "foo.y = 3\n",
    "print(foo.y)\n",
    "foo.z = 4\n",
    "print(foo.z)"
   ]
  },
  {
   "cell_type": "markdown",
   "metadata": {},
   "source": [
    "brak hermetyzacji w pythonie w porównaniu np do java "
   ]
  },
  {
   "cell_type": "markdown",
   "metadata": {
    "slideshow": {
     "slide_type": "slide"
    }
   },
   "source": [
    "### Składowe \"chronione\" i \"prywatne\""
   ]
  },
  {
   "cell_type": "markdown",
   "metadata": {
    "slideshow": {
     "slide_type": "subslide"
    }
   },
   "source": [
    "Składowe (atrybuty i metody) chronione to takie, których nazwa zaczyna się pojedynczym podkreślnikiem.\n",
    "\n",
    "Interpreter Pythona nie blokuje dostępu do składowych chronionych, chroni je właściwie tylko konwencja i statyczne analizatory kodu.\n",
    "\n",
    "Składowe prywatne to takie, których nazwa zaczyna się, ale nie kończy, podwójnym podkreślnikiem.\n",
    "\n",
    "Dostęp do składowych prywatnych spoza klasy jest chroniony przez tzw. name mangling, czyli są one dostępne, ale pod zmienioną nazwą (podkreślnik + nazwa klasy + nazwa składowej). Ma to znaczenie w przypadku dziedziczenia."
   ]
  },
  {
   "cell_type": "code",
   "execution_count": 7,
   "metadata": {
    "slideshow": {
     "slide_type": "subslide"
    }
   },
   "outputs": [],
   "source": [
    "class Bar():\n",
    "    \n",
    "    def __init__(self, x, y, z):\n",
    "        self._x = x # chronione \n",
    "        self.__y = y # prywatne, nie konczace sie __. \n",
    "        # Jesli konczy sie __ to jest to skladowa specjalnego \n",
    "        self.z = z # zwykla"
   ]
  },
  {
   "cell_type": "code",
   "execution_count": 8,
   "metadata": {
    "slideshow": {
     "slide_type": "fragment"
    }
   },
   "outputs": [
    {
     "name": "stdout",
     "output_type": "stream",
     "text": [
      "1\n",
      "3\n"
     ]
    },
    {
     "ename": "AttributeError",
     "evalue": "'Bar' object has no attribute '__y'",
     "output_type": "error",
     "traceback": [
      "\u001b[1;31m---------------------------------------------------------------------------\u001b[0m",
      "\u001b[1;31mAttributeError\u001b[0m                            Traceback (most recent call last)",
      "Cell \u001b[1;32mIn [8], line 4\u001b[0m\n\u001b[0;32m      2\u001b[0m \u001b[39mprint\u001b[39m(bar\u001b[39m.\u001b[39m_x)\n\u001b[0;32m      3\u001b[0m \u001b[39mprint\u001b[39m(bar\u001b[39m.\u001b[39mz)\n\u001b[1;32m----> 4\u001b[0m \u001b[39mprint\u001b[39m(bar\u001b[39m.\u001b[39m__y)\n",
      "\u001b[1;31mAttributeError\u001b[0m: 'Bar' object has no attribute '__y'"
     ]
    }
   ],
   "source": [
    "bar = Bar(1, 2, 3)\n",
    "print(bar._x)\n",
    "print(bar.z)\n",
    "print(bar.__y)\n"
   ]
  },
  {
   "cell_type": "markdown",
   "metadata": {},
   "source": [
    "to jest przyklad dostepu do zmiennej prywatnej:"
   ]
  },
  {
   "cell_type": "code",
   "execution_count": 9,
   "metadata": {
    "slideshow": {
     "slide_type": "fragment"
    }
   },
   "outputs": [
    {
     "name": "stdout",
     "output_type": "stream",
     "text": [
      "2\n"
     ]
    }
   ],
   "source": [
    "print(bar._Bar__y)"
   ]
  },
  {
   "cell_type": "markdown",
   "metadata": {},
   "source": [
    "pokazuje nam katalog zmiennych bez znaczenia czy to prywatne czy chronione czy tez zwykle:"
   ]
  },
  {
   "cell_type": "code",
   "execution_count": 11,
   "metadata": {
    "slideshow": {
     "slide_type": "subslide"
    }
   },
   "outputs": [
    {
     "data": {
      "text/plain": [
       "{'_x': 1, '_Bar__y': 2, 'z': 3}"
      ]
     },
     "execution_count": 11,
     "metadata": {},
     "output_type": "execute_result"
    }
   ],
   "source": [
    "bar.__dict__"
   ]
  },
  {
   "cell_type": "markdown",
   "metadata": {
    "slideshow": {
     "slide_type": "slide"
    }
   },
   "source": [
    "### Składowe klasowe i statyczne"
   ]
  },
  {
   "cell_type": "markdown",
   "metadata": {
    "slideshow": {
     "slide_type": "subslide"
    }
   },
   "source": [
    "Składowe klasowe należą do całej klasy - mają tylko jeden egzamplarz, niezależnie od liczby instancji klasy. Ich odpowiednikiem w Javie są składowe statyczne.\n",
    "\n",
    "Atrybut klasowy definiujemy poza metodami. Nie poprzedzamy go słowem `self`.\n",
    "\n",
    "Modyfikacja atrybutu klasowego jest możliwa tylko poprzez odwołanie do niego przez `<nazwa_klasy>.<nazwa_atrybutu>`, natomiast odczyt również przez `<instancja>.<nazwa_atrybutu>`, albo (wewnątrz metody) `self.<nazwa_atrybutu>`.\n",
    "\n",
    "Definicję metody klasowej poprzedzamy dekoratorem `@classmethod`, a jej pierwszy parametr powinien się nazywać `cls`, a nie `self` - będzie do niego przypisana klasa, a nie instancja.\n",
    "\n",
    "Metoda statyczna to właściwie funkcja, zdefiniowana w obrębie klasy (ze względu na czytelność i porządek w kodzie). Poprzedza ją dekorator `@staticmethod` i nie ma specjalnego pierwszego parametru."
   ]
  },
  {
   "cell_type": "code",
   "execution_count": 1,
   "metadata": {
    "slideshow": {
     "slide_type": "subslide"
    }
   },
   "outputs": [],
   "source": [
    "class Baz:\n",
    "    \n",
    "    n = 14\n",
    "    \n",
    "    def print(self):\n",
    "        print(self.n)\n",
    "        \n",
    "    def change(self, increment):\n",
    "        self.n = self.n + increment\n",
    "    \n",
    "    @classmethod\n",
    "    def print_class(cls):\n",
    "        print(cls.n)\n",
    "        \n",
    "    @staticmethod\n",
    "    def print_static():\n",
    "        print(\"Uhm... Hello world?\")"
   ]
  },
  {
   "cell_type": "code",
   "execution_count": 2,
   "metadata": {
    "slideshow": {
     "slide_type": "subslide"
    }
   },
   "outputs": [
    {
     "name": "stdout",
     "output_type": "stream",
     "text": [
      "14\n",
      "18\n",
      "14\n",
      "----------\n",
      "14\n",
      "Uhm... Hello world?\n",
      "14\n",
      "Uhm... Hello world?\n"
     ]
    }
   ],
   "source": [
    "baz1 = Baz()\n",
    "baz1.print()\n",
    "baz1.change(4)\n",
    "baz1.print()\n",
    "print(Baz.n)\n",
    "print(\"----------\")\n",
    "Baz.print_class()\n",
    "Baz.print_static()\n",
    "baz1.print_class()\n",
    "baz1.print_static()"
   ]
  },
  {
   "cell_type": "markdown",
   "metadata": {
    "slideshow": {
     "slide_type": "slide"
    }
   },
   "source": [
    "### Pola Specjalne\n",
    "\n",
    "    __class__ - typ obiektu\n",
    "    __bases__ - klasy przodków\n",
    "    __mro__ - Method Resolution Order\n",
    "    __dict__ - stan obiektu\n",
    "    __doc__ - docstring"
   ]
  },
  {
   "cell_type": "markdown",
   "metadata": {
    "slideshow": {
     "slide_type": "slide"
    }
   },
   "source": [
    "### Metody specjalne\n",
    "    __init__ - konstruktor\n",
    "    __del__ - destruktor (nie korzystamy - bo garbage collector jest nieprzewidywalny)\n",
    "    __len__ - \"długość\" obiektu (jezeli posiada to a bool nie to wszystkie obiekty > 0 sa prawdziwe, jezeli nie posiada tego i bool to wszystkie obiekty true)\n",
    "    __bool__ - wartość logiczna obiektu (0 dowolnego typu int lob float, pusta lista i inne puste kolekcje maja wartosc falszywa natomiast wszystkie inne obiekty sa prowadziwe)\n",
    "    __str__ i __repr__ - konwersja na napis\n",
    "    __add__, __sub__, __mul__, __truediv__, __floordiv__ etc. - przeciążanie operatorów\n",
    "    __iadd__, __isub__, __imul__ etc. - j.w.\n",
    "    __radd__, __rsub__, __ror__, __rand__ etc. - j.w. (+= itd)\n",
    "    __eq__ (==), __le__ (<=), __gt__ (>), __ne__ (!=), etc. - porównywanie\n",
    "    __call__ - obiekt staje się funktorem - można go wywołać jak funkcję"
   ]
  },
  {
   "cell_type": "code",
   "execution_count": 16,
   "metadata": {
    "slideshow": {
     "slide_type": "subslide"
    }
   },
   "outputs": [
    {
     "name": "stdout",
     "output_type": "stream",
     "text": [
      "5\n",
      "'5'\n"
     ]
    },
    {
     "data": {
      "text/plain": [
       "'5'"
      ]
     },
     "execution_count": 16,
     "metadata": {},
     "output_type": "execute_result"
    }
   ],
   "source": [
    "# __repr__ vs. __str__\n",
    "\n",
    "print('5')\n",
    "print(repr('5')) # pojawiaja sie '' zeby zasygnalizowac ze to byl napis a nie liczba\n",
    "'5'"
   ]
  },
  {
   "cell_type": "code",
   "execution_count": 28,
   "metadata": {
    "slideshow": {
     "slide_type": "subslide"
    }
   },
   "outputs": [],
   "source": [
    "class Vector2d:\n",
    "    def __init__(self, x, y):\n",
    "        self.x = x\n",
    "        self.y = y\n",
    "        \n",
    "    def __add__(self, other):\n",
    "        print(\"Adding\")\n",
    "        return Vector2d(self.x + other.x, self.y + other.y)\n",
    "    \n",
    "    def __mul__(self, scalar):\n",
    "        print(\"Multiplying\")\n",
    "        return Vector2d(self.x * scalar, self.y * scalar)\n",
    "    \n",
    "    def __str__(self):\n",
    "        return f\"({self.x:d}, {self.y:d})\""
   ]
  },
  {
   "cell_type": "code",
   "execution_count": 29,
   "metadata": {
    "slideshow": {
     "slide_type": "subslide"
    }
   },
   "outputs": [],
   "source": [
    "a = Vector2d(1, 1)\n",
    "b = Vector2d(2, 2)"
   ]
  },
  {
   "cell_type": "code",
   "execution_count": 36,
   "metadata": {
    "slideshow": {
     "slide_type": "fragment"
    }
   },
   "outputs": [
    {
     "name": "stdout",
     "output_type": "stream",
     "text": [
      "Adding\n"
     ]
    },
    {
     "data": {
      "text/plain": [
       "False"
      ]
     },
     "execution_count": 36,
     "metadata": {},
     "output_type": "execute_result"
    }
   ],
   "source": [
    "c = a\n",
    "a += b\n",
    "c is a"
   ]
  },
  {
   "cell_type": "code",
   "execution_count": 25,
   "metadata": {
    "slideshow": {
     "slide_type": "fragment"
    }
   },
   "outputs": [
    {
     "name": "stdout",
     "output_type": "stream",
     "text": [
      "Multiplying\n",
      "(6, 6)\n"
     ]
    },
    {
     "ename": "TypeError",
     "evalue": "unsupported operand type(s) for *: 'int' and 'Vector2d'",
     "output_type": "error",
     "traceback": [
      "\u001b[1;31m---------------------------------------------------------------------------\u001b[0m",
      "\u001b[1;31mTypeError\u001b[0m                                 Traceback (most recent call last)",
      "Cell \u001b[1;32mIn [25], line 2\u001b[0m\n\u001b[0;32m      1\u001b[0m \u001b[39mprint\u001b[39m(a\u001b[39m*\u001b[39m\u001b[39m2\u001b[39m)\n\u001b[1;32m----> 2\u001b[0m \u001b[39mprint\u001b[39m(\u001b[39m2\u001b[39m\u001b[39m*\u001b[39ma)\n",
      "\u001b[1;31mTypeError\u001b[0m: unsupported operand type(s) for *: 'int' and 'Vector2d'"
     ]
    }
   ],
   "source": [
    "print(a*2)\n",
    "print(2*a)"
   ]
  },
  {
   "cell_type": "code",
   "execution_count": 37,
   "metadata": {
    "slideshow": {
     "slide_type": "subslide"
    }
   },
   "outputs": [],
   "source": [
    "class Vector2d:\n",
    "    def __init__(self, x, y):\n",
    "        self.x = x\n",
    "        self.y = y\n",
    "        \n",
    "    def __add__(self, other):\n",
    "        print(\"Adding\")\n",
    "        return Vector2d(self.x + other.x, self.y + other.y)\n",
    "    \n",
    "    def __iadd__(self, other):\n",
    "        self.x += other.x\n",
    "        self.y += other.y\n",
    "        return self  # <- note this return statement\n",
    "    \n",
    "    def __mul__(self, scalar):\n",
    "        if type(scalar) != int:\n",
    "            return NotImplemented  # <- and this\n",
    "        print(\"Multiplying\")\n",
    "        return Vector2d(self.x * scalar, self.y * scalar)\n",
    "    \n",
    "    def __rmul__(self, scalar):\n",
    "        return self.__mul__(scalar)\n",
    "    \n",
    "    def __str__(self):\n",
    "        return f\"({self.x:d}, {self.y:d})\""
   ]
  },
  {
   "cell_type": "code",
   "execution_count": 38,
   "metadata": {
    "slideshow": {
     "slide_type": "subslide"
    }
   },
   "outputs": [],
   "source": [
    "a = Vector2d(1, 1)\n",
    "b = Vector2d(2, 2)"
   ]
  },
  {
   "cell_type": "code",
   "execution_count": 39,
   "metadata": {
    "slideshow": {
     "slide_type": "fragment"
    }
   },
   "outputs": [
    {
     "data": {
      "text/plain": [
       "True"
      ]
     },
     "execution_count": 39,
     "metadata": {},
     "output_type": "execute_result"
    }
   ],
   "source": [
    "c = a\n",
    "a += b\n",
    "c is a"
   ]
  },
  {
   "cell_type": "code",
   "execution_count": 40,
   "metadata": {
    "scrolled": true,
    "slideshow": {
     "slide_type": "fragment"
    }
   },
   "outputs": [
    {
     "name": "stdout",
     "output_type": "stream",
     "text": [
      "Multiplying\n",
      "(6, 6)\n",
      "Multiplying\n",
      "(6, 6)\n"
     ]
    }
   ],
   "source": [
    "print(a*2)\n",
    "print(2*a)"
   ]
  },
  {
   "cell_type": "markdown",
   "metadata": {},
   "source": [
    "Lektura dodatkowa:\n",
    " - https://realpython.com/python3-object-oriented-programming/\n",
    " - https://www.tutorialspoint.com/python/python_classes_objects.htm\n",
    " - https://www.freecodecamp.org/news/object-oriented-programming-in-python/"
   ]
  }
 ],
 "metadata": {
  "celltoolbar": "Slideshow",
  "kernelspec": {
   "display_name": "Python 3.10.8 64-bit (microsoft store)",
   "language": "python",
   "name": "python3"
  },
  "language_info": {
   "codemirror_mode": {
    "name": "ipython",
    "version": 3
   },
   "file_extension": ".py",
   "mimetype": "text/x-python",
   "name": "python",
   "nbconvert_exporter": "python",
   "pygments_lexer": "ipython3",
   "version": "3.10.8"
  },
  "vscode": {
   "interpreter": {
    "hash": "d5a4eec0f89c02024410392738afe4e55f5cd470d4beb3f4f756e4a1d55a9a27"
   }
  }
 },
 "nbformat": 4,
 "nbformat_minor": 2
}
