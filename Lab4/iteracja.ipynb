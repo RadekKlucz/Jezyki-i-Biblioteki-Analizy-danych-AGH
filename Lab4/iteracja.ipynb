{
 "cells": [
  {
   "cell_type": "markdown",
   "metadata": {
    "slideshow": {
     "slide_type": "slide"
    }
   },
   "source": [
    "# Języki i Biblioteki Analizy Danych\n",
    "\n",
    "## Laboratorium 5.: Iteracja\n",
    "\n",
    "#### mgr inż. Zbigniew Kaleta"
   ]
  },
  {
   "cell_type": "markdown",
   "metadata": {
    "slideshow": {
     "slide_type": "subslide"
    }
   },
   "source": [
    "Tak się iteruje po liście"
   ]
  },
  {
   "cell_type": "code",
   "execution_count": 1,
   "metadata": {
    "slideshow": {
     "slide_type": "-"
    }
   },
   "outputs": [
    {
     "name": "stdout",
     "output_type": "stream",
     "text": [
      "1\n",
      "2\n",
      "3\n"
     ]
    }
   ],
   "source": [
    "l = [1, 2, 3]\n",
    "\n",
    "for x in l:\n",
    "    print(x)"
   ]
  },
  {
   "cell_type": "markdown",
   "metadata": {
    "slideshow": {
     "slide_type": "subslide"
    }
   },
   "source": [
    "A tak (w przybliżeniu) widzi to Python"
   ]
  },
  {
   "cell_type": "code",
   "execution_count": 2,
   "metadata": {
    "slideshow": {
     "slide_type": "-"
    }
   },
   "outputs": [
    {
     "name": "stdout",
     "output_type": "stream",
     "text": [
      "1\n",
      "2\n",
      "3\n"
     ]
    }
   ],
   "source": [
    "l = [1, 2, 3]\n",
    "\n",
    "i = iter(l)\n",
    "try:\n",
    "    while True:\n",
    "        x = next(i)\n",
    "        print(x)\n",
    "except StopIteration:\n",
    "    pass  # nothing to do, just ending the while loop"
   ]
  },
  {
   "cell_type": "code",
   "execution_count": 4,
   "metadata": {
    "slideshow": {
     "slide_type": "subslide"
    }
   },
   "outputs": [],
   "source": [
    "from random import shuffle\n",
    "\n",
    "class Foo:  # Iterable\n",
    "    \n",
    "    def __init__(self, content):\n",
    "        self.content = content\n",
    "    \n",
    "    def __iter__(self):\n",
    "        return FooIterator(self)\n",
    "        \n",
    "class FooIterator:  # Iterator\n",
    "    def __init__(self, foo):\n",
    "        self.foo = foo\n",
    "        self.order = list(range(len(foo.content)))\n",
    "        shuffle(self.order)\n",
    "        \n",
    "    def __next__(self):\n",
    "        try:\n",
    "            return self.foo.content[self.order.pop()]\n",
    "        except IndexError:\n",
    "            raise StopIteration\n",
    "            \n",
    "#     def __iter__(self):\n",
    "#         return self"
   ]
  },
  {
   "cell_type": "markdown",
   "metadata": {},
   "source": [
    "Żeby umożliwić iterację po obiektach zdefiniowanej przez nas klasy, dostarczamy metodę `__iter__`, która zwraca iterator.\n",
    "\n",
    "Iterator jest zwykle obiektem osobnej klasy, żeby umożliwić dwukrotną iterację po tej samej kolekcji, np. przy pomocy zagnieżdżonych pętli.\n",
    "\n",
    "Iterator dostarcza metodę `__next__`, która zwraca następny element do przetworzenia, lub rzuca wyjątek StopIteration, jeśli nie ma następnego elementu.\n",
    "\n",
    "Opcjonalnie, dla wygody, może dostarczyć także metodę `__iter__` najczęściej zwracającą jego samego."
   ]
  },
  {
   "cell_type": "code",
   "execution_count": 4,
   "metadata": {
    "slideshow": {
     "slide_type": "subslide"
    }
   },
   "outputs": [
    {
     "name": "stdout",
     "output_type": "stream",
     "text": [
      "0\n",
      "1\n",
      "4\n",
      "9\n",
      "16\n",
      "25\n",
      "36\n",
      "49\n",
      "64\n",
      "81\n",
      "------------\n",
      "0\n",
      "9\n",
      "16\n",
      "25\n",
      "49\n",
      "81\n",
      "4\n",
      "36\n",
      "64\n",
      "1\n"
     ]
    }
   ],
   "source": [
    "foo = Foo([i**2 for i in range(10)])\n",
    "\n",
    "for i in foo.content:\n",
    "    print(i)\n",
    "\n",
    "print(\"------------\")\n",
    "\n",
    "for i in foo:\n",
    "    print(i)"
   ]
  },
  {
   "cell_type": "markdown",
   "metadata": {},
   "source": [
    "Lektura dodatkowa:\n",
    " - https://python.land/deep-dives/python-iterator\n",
    " - https://www.w3schools.com/python/python_iterators.asp"
   ]
  }
 ],
 "metadata": {
  "celltoolbar": "Slideshow",
  "kernelspec": {
   "display_name": "Python 3.10.8 64-bit (microsoft store)",
   "language": "python",
   "name": "python3"
  },
  "language_info": {
   "codemirror_mode": {
    "name": "ipython",
    "version": 3
   },
   "file_extension": ".py",
   "mimetype": "text/x-python",
   "name": "python",
   "nbconvert_exporter": "python",
   "pygments_lexer": "ipython3",
   "version": "3.10.8"
  },
  "vscode": {
   "interpreter": {
    "hash": "d5a4eec0f89c02024410392738afe4e55f5cd470d4beb3f4f756e4a1d55a9a27"
   }
  }
 },
 "nbformat": 4,
 "nbformat_minor": 2
}
