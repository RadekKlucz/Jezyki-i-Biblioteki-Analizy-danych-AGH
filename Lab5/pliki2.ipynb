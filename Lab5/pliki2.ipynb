{
 "cells": [
  {
   "cell_type": "markdown",
   "id": "847781ea",
   "metadata": {
    "slideshow": {
     "slide_type": "slide"
    }
   },
   "source": [
    "# Języki i Biblioteki Analizy Danych\n",
    "## Laboratorium 6.: Obsługa plików\n",
    "#### mgr inż. Zbigniew Kaleta"
   ]
  },
  {
   "cell_type": "markdown",
   "id": "ce25d1cf",
   "metadata": {},
   "source": [
    "Najwygodniejszy dostęp do pliku, to użycie context managera."
   ]
  },
  {
   "cell_type": "code",
   "execution_count": null,
   "id": "671d22dc",
   "metadata": {
    "slideshow": {
     "slide_type": "subslide"
    }
   },
   "outputs": [],
   "source": [
    "from pprint import pprint\n",
    "\n",
    "with open('pliki.ipynb') as notebook:\n",
    "    lines = notebook.readlines()\n",
    "    pprint(lines)"
   ]
  },
  {
   "cell_type": "code",
   "execution_count": null,
   "id": "77c2d485",
   "metadata": {
    "slideshow": {
     "slide_type": "subslide"
    }
   },
   "outputs": [],
   "source": [
    "with open('pliki.ipynb') as notebook:\n",
    "    for line in notebook:\n",
    "        pprint(line)\n",
    "        break"
   ]
  },
  {
   "cell_type": "markdown",
   "id": "8988dff8",
   "metadata": {
    "slideshow": {
     "slide_type": "subslide"
    }
   },
   "source": [
    "Sposoby czytania z pliku:\n",
    " - `read()` - wczytuje cały plik do jednego napisu\n",
    " - `read(n)` - wczytuje maksymalnie n bajtów do napisu\n",
    " - `readline()` - wczytuje do końca linii (lub końca pliku)\n",
    " - `readlines()` - wczytuje cały plik do listy napisów - każda linia to osobny napis\n",
    " - iteracja po obiekcie pliku - działa jak `readlines`, ale bez konieczności wczytania całości do pamięci - istotne w przypadku dużych plików"
   ]
  },
  {
   "cell_type": "code",
   "execution_count": 1,
   "id": "e9950aeb",
   "metadata": {
    "slideshow": {
     "slide_type": "subslide"
    }
   },
   "outputs": [],
   "source": [
    "with open('output.txt', 'w') as outfile:\n",
    "    outfile.write(\"Hello \")\n",
    "    outfile.write(\"world!\\nWhat a lovely day!\\n\")\n",
    "    outfile.writelines([\"This is test file.\\n\", \"And also a text file.\\n\"])  # <- please note the newline characters"
   ]
  },
  {
   "cell_type": "markdown",
   "id": "bcd5184c",
   "metadata": {},
   "source": [
    "Tryby otwarcia pliku:\n",
    " - `\"r\"` - domyślny, otwarcie do odczytu\n",
    " - `\"w\"` - otwarcie do zapisu; jeżeli plik istniał, jego dotychczasowa zawartość zostaje usunięta\n",
    " - `\"a\"` - otwarcie do dopisywania; dotychczasowa zawartość zostaje zachowana, a nowa pojawia się na końcu\n",
    " - `\"rb\"`, `\"wb\"`, `\"ab\"` - analogicznie, ale dla plików binarnych\n",
    " \n",
    "Sposoby zapisu do pliku:\n",
    " - `write()` - przyjmuje pojedynczy napis\n",
    " - `writelines()` - przyjmuje listę napisów\n",
    " \n",
    "W obu przypadkach liczba napisów nie przekłada się na liczę linii - znaki końca linii (`\"\\n\"`) musimy wstawiać samodzielnie"
   ]
  },
  {
   "cell_type": "code",
   "execution_count": null,
   "id": "9a9ddb2b",
   "metadata": {
    "scrolled": false,
    "slideshow": {
     "slide_type": "subslide"
    }
   },
   "outputs": [],
   "source": [
    "f = open(\"output.txt\")\n",
    "help(f)\n",
    "f.close()"
   ]
  },
  {
   "cell_type": "code",
   "execution_count": null,
   "id": "17ff5b8b",
   "metadata": {
    "slideshow": {
     "slide_type": "subslide"
    }
   },
   "outputs": [],
   "source": [
    "import csv\n",
    "import json\n",
    "import pickle  # pozwala na zapisywanie całych pythonowych obiektów do pliku binarnego (uwaga na tryb dostępu)"
   ]
  },
  {
   "cell_type": "markdown",
   "id": "986ddb39",
   "metadata": {},
   "source": [
    "Inne biblioteki:\n",
    " - xlrd, xlwt - obsługa plików xls\n",
    " - Beautiful Soup - obługa XMLa (jest też wbudowany moduł xml)\n",
    " - PIL - pliki graficzne\n",
    " - pandas - obsługa niektórych formatów często wykorzystywanych w danologii, jak csv czy sql\n",
    " - ..."
   ]
  },
  {
   "cell_type": "markdown",
   "id": "f2f3c7c3",
   "metadata": {},
   "source": [
    "Lektura dodatkowa:\n",
    " - https://docs.python.org/3/library/functions.html#open\n",
    " - https://docs.python.org/3/library/io.html#io.TextIOBase\n",
    " - https://www.programiz.com/python-programming/file-operation"
   ]
  }
 ],
 "metadata": {
  "celltoolbar": "Slideshow",
  "kernelspec": {
   "display_name": "Python 3.10.8 64-bit (microsoft store)",
   "language": "python",
   "name": "python3"
  },
  "language_info": {
   "codemirror_mode": {
    "name": "ipython",
    "version": 3
   },
   "file_extension": ".py",
   "mimetype": "text/x-python",
   "name": "python",
   "nbconvert_exporter": "python",
   "pygments_lexer": "ipython3",
   "version": "3.10.8"
  },
  "vscode": {
   "interpreter": {
    "hash": "d5a4eec0f89c02024410392738afe4e55f5cd470d4beb3f4f756e4a1d55a9a27"
   }
  }
 },
 "nbformat": 4,
 "nbformat_minor": 5
}
