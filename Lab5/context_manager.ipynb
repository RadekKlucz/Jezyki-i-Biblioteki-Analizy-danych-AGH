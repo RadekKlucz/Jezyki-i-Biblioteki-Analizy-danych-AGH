{
 "cells": [
  {
   "cell_type": "markdown",
   "id": "bb5f388b",
   "metadata": {
    "slideshow": {
     "slide_type": "slide"
    }
   },
   "source": [
    "# Języki i Biblioteki Analizy Danych\n",
    "## Laboratorium 6.: Context managery\n",
    "#### mgr inż. Zbigniew Kaleta"
   ]
  },
  {
   "cell_type": "markdown",
   "id": "9019bd62",
   "metadata": {
    "slideshow": {
     "slide_type": "subslide"
    }
   },
   "source": [
    "Problem:    "
   ]
  },
  {
   "cell_type": "markdown",
   "id": "346f0fc1",
   "metadata": {},
   "source": [
    "w programowaniu to:"
   ]
  },
  {
   "cell_type": "code",
   "execution_count": null,
   "id": "38759045",
   "metadata": {
    "slideshow": {
     "slide_type": "-"
    }
   },
   "outputs": [],
   "source": [
    "# set things up\n",
    "# do something\n",
    "# tear things down"
   ]
  },
  {
   "cell_type": "markdown",
   "id": "16175a59",
   "metadata": {},
   "source": [
    "przykład: "
   ]
  },
  {
   "cell_type": "code",
   "execution_count": null,
   "id": "1cf0e04d",
   "metadata": {
    "slideshow": {
     "slide_type": "fragment"
    }
   },
   "outputs": [],
   "source": [
    "f = open(\"context_manager.ipynb\")\n",
    "f.readlines()\n",
    "f.close()"
   ]
  },
  {
   "cell_type": "markdown",
   "id": "473b084c",
   "metadata": {},
   "source": [
    "jeśli wystąpi błąd pomiędy open a close to nie zostanie zamknięty plik "
   ]
  },
  {
   "cell_type": "markdown",
   "id": "1c52b966",
   "metadata": {},
   "source": [
    "Jest dobrze, dopóki operacje na obiekcie (np. pliku) nie rzucą wyjątku, bo wtedy `close()` się nie wykona."
   ]
  },
  {
   "cell_type": "markdown",
   "id": "df0ca91c",
   "metadata": {
    "slideshow": {
     "slide_type": "subslide"
    }
   },
   "source": [
    "Rozwiązanie 1."
   ]
  },
  {
   "cell_type": "code",
   "execution_count": 1,
   "id": "722321b3",
   "metadata": {
    "slideshow": {
     "slide_type": "-"
    }
   },
   "outputs": [],
   "source": [
    "# set things up\n",
    "try:\n",
    "    ... # do something\n",
    "finally:\n",
    "    ... # tear things down tutaj plik zostanie zamknięty "
   ]
  },
  {
   "cell_type": "markdown",
   "id": "961999b0",
   "metadata": {},
   "source": [
    "tak poprawnie "
   ]
  },
  {
   "cell_type": "code",
   "execution_count": null,
   "id": "ff0915d1",
   "metadata": {
    "slideshow": {
     "slide_type": "fragment"
    }
   },
   "outputs": [],
   "source": [
    "f = open(\"context_manager.ipynb\")\n",
    "try:\n",
    "    f.readlines()\n",
    "finally:\n",
    "    f.close()"
   ]
  },
  {
   "cell_type": "markdown",
   "id": "8ac236d5",
   "metadata": {},
   "source": [
    "Bezpiecznie, ale programiści lubią zapominać o `try-finally`, albo nie piszą ich z lenistwa, bo przecież \"Co może pójść nie tak?\"™"
   ]
  },
  {
   "cell_type": "markdown",
   "id": "2326384e",
   "metadata": {
    "slideshow": {
     "slide_type": "subslide"
    }
   },
   "source": [
    "Rozwiązanie 2."
   ]
  },
  {
   "cell_type": "code",
   "execution_count": 2,
   "id": "d4ce6e66",
   "metadata": {
    "slideshow": {
     "slide_type": "-"
    }
   },
   "outputs": [
    {
     "ename": "NameError",
     "evalue": "name 'thing' is not defined",
     "output_type": "error",
     "traceback": [
      "\u001b[1;31m---------------------------------------------------------------------------\u001b[0m",
      "\u001b[1;31mNameError\u001b[0m                                 Traceback (most recent call last)",
      "Cell \u001b[1;32mIn [2], line 11\u001b[0m\n\u001b[0;32m      8\u001b[0m \u001b[39mdef\u001b[39;00m \u001b[39mmy_function\u001b[39m(thing):\n\u001b[0;32m      9\u001b[0m     \u001b[39m.\u001b[39m\u001b[39m.\u001b[39m\u001b[39m.\u001b[39m \u001b[39m# do something with thing\u001b[39;00m\n\u001b[1;32m---> 11\u001b[0m controlled_execution(my_function)\n",
      "Cell \u001b[1;32mIn [2], line 4\u001b[0m, in \u001b[0;36mcontrolled_execution\u001b[1;34m(callback)\u001b[0m\n\u001b[0;32m      1\u001b[0m \u001b[39mdef\u001b[39;00m \u001b[39mcontrolled_execution\u001b[39m(callback):\n\u001b[0;32m      2\u001b[0m     \u001b[39m# set things up\u001b[39;00m\n\u001b[0;32m      3\u001b[0m     \u001b[39mtry\u001b[39;00m:\n\u001b[1;32m----> 4\u001b[0m         callback(thing)\n\u001b[0;32m      5\u001b[0m     \u001b[39mfinally\u001b[39;00m:\n\u001b[0;32m      6\u001b[0m         \u001b[39m.\u001b[39m\u001b[39m.\u001b[39m\u001b[39m.\u001b[39m\n",
      "\u001b[1;31mNameError\u001b[0m: name 'thing' is not defined"
     ]
    }
   ],
   "source": [
    "def controlled_execution(callback):\n",
    "    # set things up\n",
    "    try:\n",
    "        callback(thing)\n",
    "    finally:\n",
    "        ... # tear things down\n",
    "\n",
    "def my_function(thing):\n",
    "    ... # do something with thing\n",
    "\n",
    "controlled_execution(my_function) "
   ]
  },
  {
   "cell_type": "code",
   "execution_count": 3,
   "id": "bf0e556e",
   "metadata": {
    "slideshow": {
     "slide_type": "subslide"
    }
   },
   "outputs": [
    {
     "name": "stdout",
     "output_type": "stream",
     "text": [
      "Enter\n",
      "X\n",
      "Exit\n"
     ]
    },
    {
     "ename": "IndexError",
     "evalue": "",
     "output_type": "error",
     "traceback": [
      "\u001b[1;31m---------------------------------------------------------------------------\u001b[0m",
      "\u001b[1;31mIndexError\u001b[0m                                Traceback (most recent call last)",
      "Cell \u001b[1;32mIn [3], line 12\u001b[0m\n\u001b[0;32m      9\u001b[0m     \u001b[39mfinally\u001b[39;00m:\n\u001b[0;32m     10\u001b[0m         \u001b[39mprint\u001b[39m(\u001b[39m\"\u001b[39m\u001b[39mExit\u001b[39m\u001b[39m\"\u001b[39m)\n\u001b[1;32m---> 12\u001b[0m controlled_execution(foo)\n",
      "Cell \u001b[1;32mIn [3], line 8\u001b[0m, in \u001b[0;36mcontrolled_execution\u001b[1;34m(f)\u001b[0m\n\u001b[0;32m      6\u001b[0m \u001b[39mprint\u001b[39m(\u001b[39m\"\u001b[39m\u001b[39mEnter\u001b[39m\u001b[39m\"\u001b[39m)\n\u001b[0;32m      7\u001b[0m \u001b[39mtry\u001b[39;00m:\n\u001b[1;32m----> 8\u001b[0m     f()\n\u001b[0;32m      9\u001b[0m \u001b[39mfinally\u001b[39;00m:\n\u001b[0;32m     10\u001b[0m     \u001b[39mprint\u001b[39m(\u001b[39m\"\u001b[39m\u001b[39mExit\u001b[39m\u001b[39m\"\u001b[39m)\n",
      "Cell \u001b[1;32mIn [3], line 3\u001b[0m, in \u001b[0;36mfoo\u001b[1;34m()\u001b[0m\n\u001b[0;32m      1\u001b[0m \u001b[39mdef\u001b[39;00m \u001b[39mfoo\u001b[39m():\n\u001b[0;32m      2\u001b[0m     \u001b[39mprint\u001b[39m(\u001b[39m\"\u001b[39m\u001b[39mX\u001b[39m\u001b[39m\"\u001b[39m)\n\u001b[1;32m----> 3\u001b[0m     \u001b[39mraise\u001b[39;00m \u001b[39mIndexError\u001b[39;00m()\n",
      "\u001b[1;31mIndexError\u001b[0m: "
     ]
    }
   ],
   "source": [
    "def foo():\n",
    "    print(\"X\")\n",
    "    raise IndexError()\n",
    "    \n",
    "def controlled_execution(f):\n",
    "    print(\"Enter\")\n",
    "    try:\n",
    "        f()\n",
    "    finally:\n",
    "        print(\"Exit\")\n",
    "    \n",
    "controlled_execution(foo)"
   ]
  },
  {
   "cell_type": "markdown",
   "id": "fef3685f",
   "metadata": {},
   "source": [
    "Bezpiecznie, ale też niezbyt wygodnie, ze względu na konieczność definiowania funkcji, na potrzeby obsługi pliku (tutaj symuluje ją funkcja `foo`; zakładamy, że `controlled_execution` jest dostarczone)."
   ]
  },
  {
   "cell_type": "markdown",
   "id": "53a91de9",
   "metadata": {
    "slideshow": {
     "slide_type": "subslide"
    }
   },
   "source": [
    "Rozwiązanie 3."
   ]
  },
  {
   "cell_type": "code",
   "execution_count": 4,
   "id": "0321db92",
   "metadata": {
    "slideshow": {
     "slide_type": "-"
    }
   },
   "outputs": [
    {
     "ename": "NameError",
     "evalue": "name 'thing' is not defined",
     "output_type": "error",
     "traceback": [
      "\u001b[1;31m---------------------------------------------------------------------------\u001b[0m",
      "\u001b[1;31mNameError\u001b[0m                                 Traceback (most recent call last)",
      "Cell \u001b[1;32mIn [4], line 8\u001b[0m\n\u001b[0;32m      5\u001b[0m     \u001b[39mfinally\u001b[39;00m:\n\u001b[0;32m      6\u001b[0m         \u001b[39m.\u001b[39m\u001b[39m.\u001b[39m\u001b[39m.\u001b[39m \u001b[39m# tear things down\u001b[39;00m\n\u001b[1;32m----> 8\u001b[0m \u001b[39mfor\u001b[39;00m thing \u001b[39min\u001b[39;00m controlled_execution():\n\u001b[0;32m      9\u001b[0m     \u001b[39m.\u001b[39m\u001b[39m.\u001b[39m\u001b[39m.\u001b[39m\n",
      "Cell \u001b[1;32mIn [4], line 4\u001b[0m, in \u001b[0;36mcontrolled_execution\u001b[1;34m()\u001b[0m\n\u001b[0;32m      1\u001b[0m \u001b[39mdef\u001b[39;00m \u001b[39mcontrolled_execution\u001b[39m():\n\u001b[0;32m      2\u001b[0m     \u001b[39m# set things up\u001b[39;00m\n\u001b[0;32m      3\u001b[0m     \u001b[39mtry\u001b[39;00m:\n\u001b[1;32m----> 4\u001b[0m         \u001b[39myield\u001b[39;00m thing\n\u001b[0;32m      5\u001b[0m     \u001b[39mfinally\u001b[39;00m:\n\u001b[0;32m      6\u001b[0m         \u001b[39m.\u001b[39m\u001b[39m.\u001b[39m\u001b[39m.\u001b[39m\n",
      "\u001b[1;31mNameError\u001b[0m: name 'thing' is not defined"
     ]
    }
   ],
   "source": [
    "def controlled_execution():\n",
    "    # set things up\n",
    "    try:\n",
    "        yield thing\n",
    "    finally:\n",
    "        ... # tear things down\n",
    "\n",
    "for thing in controlled_execution():\n",
    "    ... # do something with thing"
   ]
  },
  {
   "cell_type": "code",
   "execution_count": 5,
   "id": "c9d1eee8",
   "metadata": {
    "slideshow": {
     "slide_type": "fragment"
    }
   },
   "outputs": [
    {
     "name": "stdout",
     "output_type": "stream",
     "text": [
      "Enter\n",
      "X\n",
      "Exit\n"
     ]
    },
    {
     "ename": "KeyError",
     "evalue": "",
     "output_type": "error",
     "traceback": [
      "\u001b[1;31m---------------------------------------------------------------------------\u001b[0m",
      "\u001b[1;31mKeyError\u001b[0m                                  Traceback (most recent call last)",
      "Cell \u001b[1;32mIn [5], line 12\u001b[0m\n\u001b[0;32m     10\u001b[0m \u001b[39mfor\u001b[39;00m x \u001b[39min\u001b[39;00m controlled_execution(\u001b[39m\"\u001b[39m\u001b[39mcontext_manager.ipynb\u001b[39m\u001b[39m\"\u001b[39m):\n\u001b[0;32m     11\u001b[0m     \u001b[39mprint\u001b[39m(\u001b[39m\"\u001b[39m\u001b[39mX\u001b[39m\u001b[39m\"\u001b[39m)\n\u001b[1;32m---> 12\u001b[0m     \u001b[39mraise\u001b[39;00m \u001b[39mKeyError\u001b[39;00m()\n",
      "\u001b[1;31mKeyError\u001b[0m: "
     ]
    }
   ],
   "source": [
    "def controlled_execution(filename):\n",
    "    print(\"Enter\")\n",
    "    f = open(filename)\n",
    "    try:\n",
    "        yield f\n",
    "    finally:\n",
    "        f.close()\n",
    "        print(\"Exit\")\n",
    "        \n",
    "for x in controlled_execution(\"context_manager.ipynb\"):\n",
    "    print(\"X\")\n",
    "    raise KeyError()"
   ]
  },
  {
   "cell_type": "markdown",
   "id": "41296dd4",
   "metadata": {},
   "source": [
    "Bezpieczne i wygodne, ale `for` sugeruje wielokrotne wykonanie tego kodu."
   ]
  },
  {
   "cell_type": "markdown",
   "id": "f0b4ccf0",
   "metadata": {
    "slideshow": {
     "slide_type": "subslide"
    }
   },
   "source": [
    "Rozwiązanie 4."
   ]
  },
  {
   "cell_type": "code",
   "execution_count": 6,
   "id": "2caa8694",
   "metadata": {
    "slideshow": {
     "slide_type": "-"
    }
   },
   "outputs": [
    {
     "ename": "NameError",
     "evalue": "name 'thing' is not defined",
     "output_type": "error",
     "traceback": [
      "\u001b[1;31m---------------------------------------------------------------------------\u001b[0m",
      "\u001b[1;31mNameError\u001b[0m                                 Traceback (most recent call last)",
      "Cell \u001b[1;32mIn [6], line 9\u001b[0m\n\u001b[0;32m      6\u001b[0m     \u001b[39mdef\u001b[39;00m \u001b[39m__exit__\u001b[39m(\u001b[39mself\u001b[39m, \u001b[39mtype\u001b[39m, value, traceback):\n\u001b[0;32m      7\u001b[0m         \u001b[39m.\u001b[39m\u001b[39m.\u001b[39m\u001b[39m.\u001b[39m \u001b[39m# tear things down\u001b[39;00m\n\u001b[1;32m----> 9\u001b[0m \u001b[39mwith\u001b[39;00m controlled_execution() \u001b[39mas\u001b[39;00m thing: \u001b[39m# blok specjalnie na to woprowadzony \u001b[39;00m\n\u001b[0;32m     10\u001b[0m      \u001b[39m.\u001b[39m\u001b[39m.\u001b[39m\u001b[39m.\u001b[39m\n",
      "Cell \u001b[1;32mIn [6], line 4\u001b[0m, in \u001b[0;36mcontrolled_execution.__enter__\u001b[1;34m(self)\u001b[0m\n\u001b[0;32m      2\u001b[0m \u001b[39mdef\u001b[39;00m \u001b[39m__enter__\u001b[39m(\u001b[39mself\u001b[39m):\n\u001b[0;32m      3\u001b[0m     \u001b[39m# set things up\u001b[39;00m\n\u001b[1;32m----> 4\u001b[0m     \u001b[39mreturn\u001b[39;00m thing\n",
      "\u001b[1;31mNameError\u001b[0m: name 'thing' is not defined"
     ]
    }
   ],
   "source": [
    "class controlled_execution:\n",
    "    def __enter__(self):\n",
    "        # set things up\n",
    "        return thing\n",
    "\n",
    "    def __exit__(self, type, value, traceback):\n",
    "        ... # tear things down\n",
    "\n",
    "with controlled_execution() as thing: # blok specjalnie na to woprowadzony \n",
    "     ... # do something with thing"
   ]
  },
  {
   "cell_type": "markdown",
   "id": "adcd5da4",
   "metadata": {},
   "source": [
    "O to chodziło! Osobny element składni. DEF context menegera\n",
    "\n",
    "Po zakończeniu bloku `with` zasób będzie zwolniony."
   ]
  },
  {
   "cell_type": "markdown",
   "id": "b908f5ff",
   "metadata": {},
   "source": [
    "przykład"
   ]
  },
  {
   "cell_type": "code",
   "execution_count": 7,
   "id": "ef33d9bd",
   "metadata": {
    "scrolled": true,
    "slideshow": {
     "slide_type": "subslide"
    }
   },
   "outputs": [
    {
     "name": "stdout",
     "output_type": "stream",
     "text": [
      "{\n",
      " \"cells\": [\n",
      "  {\n",
      "   \"cell_type\": \"markdown\",\n",
      "   \"\n"
     ]
    }
   ],
   "source": [
    "with open(\"context_manager.ipynb\") as notebook:\n",
    "    print(notebook.read(50))"
   ]
  },
  {
   "cell_type": "markdown",
   "id": "605b6515",
   "metadata": {},
   "source": [
    "Taki zapis wymaga tylko minimalnie więcej wysiłku niż napisanie `notebook = open(...)` i mniej wysiłku niż pamiętanie jeszcze o `notebook.close()`."
   ]
  },
  {
   "cell_type": "code",
   "execution_count": 8,
   "id": "df1b66f9",
   "metadata": {
    "slideshow": {
     "slide_type": "fragment"
    }
   },
   "outputs": [
    {
     "data": {
      "text/plain": [
       "<_io.TextIOWrapper name='context_manager.ipynb' mode='r' encoding='cp1252'>"
      ]
     },
     "execution_count": 8,
     "metadata": {},
     "output_type": "execute_result"
    }
   ],
   "source": [
    "notebook"
   ]
  },
  {
   "cell_type": "markdown",
   "id": "6305b92c",
   "metadata": {},
   "source": [
    "plik będzie zamknięty wiec nie da się wykonać read()"
   ]
  },
  {
   "cell_type": "code",
   "execution_count": 9,
   "id": "018c2510",
   "metadata": {
    "slideshow": {
     "slide_type": "fragment"
    }
   },
   "outputs": [
    {
     "ename": "ValueError",
     "evalue": "I/O operation on closed file.",
     "output_type": "error",
     "traceback": [
      "\u001b[1;31m---------------------------------------------------------------------------\u001b[0m",
      "\u001b[1;31mValueError\u001b[0m                                Traceback (most recent call last)",
      "Cell \u001b[1;32mIn [9], line 1\u001b[0m\n\u001b[1;32m----> 1\u001b[0m notebook\u001b[39m.\u001b[39mread(\u001b[39m50\u001b[39m)\n",
      "\u001b[1;31mValueError\u001b[0m: I/O operation on closed file."
     ]
    }
   ],
   "source": [
    "notebook.read(50)"
   ]
  },
  {
   "cell_type": "raw",
   "id": "d5e2857e",
   "metadata": {
    "slideshow": {
     "slide_type": "skip"
    }
   },
   "source": [
    "Konstrukcja:\n",
    "\n",
    "        with EXPR as VAR:\n",
    "            BLOCK\n",
    "\n",
    "tłumaczy się jako:\n",
    "\n",
    "        mgr = (EXPR)\n",
    "        exit = type(mgr).__exit__  # Not calling it yet\n",
    "        value = type(mgr).__enter__(mgr)\n",
    "        exc = True\n",
    "        try:\n",
    "            try:\n",
    "                VAR = value  # Only if \"as VAR\" is present\n",
    "                BLOCK\n",
    "            except:\n",
    "                # The exceptional case is handled here\n",
    "                exc = False\n",
    "                if not exit(mgr, *sys.exc_info()):\n",
    "                    raise\n",
    "                # The exception is swallowed if exit() returns true\n",
    "        finally:\n",
    "            # The normal and non-local-goto cases are handled here\n",
    "            if exc:\n",
    "                exit(mgr, None, None, None)"
   ]
  },
  {
   "cell_type": "markdown",
   "id": "2af0bbae",
   "metadata": {
    "slideshow": {
     "slide_type": "subslide"
    }
   },
   "source": [
    "Przykładowy context manager:"
   ]
  },
  {
   "cell_type": "code",
   "execution_count": 10,
   "id": "7851db95",
   "metadata": {
    "slideshow": {
     "slide_type": "-"
    }
   },
   "outputs": [
    {
     "name": "stdout",
     "output_type": "stream",
     "text": [
      "Context prepared\n",
      "Hello <__main__.MyContextManager object at 0x0000021C55762FE0>\n",
      "Context closed  None None None\n"
     ]
    }
   ],
   "source": [
    "class MyContextManager:\n",
    "    \n",
    "    def __enter__(self):\n",
    "        print(\"Context prepared\")\n",
    "        return self\n",
    "    \n",
    "    def __exit__(self, exc_type, exc_value, traceback):\n",
    "        print(\"Context closed \", exc_type, exc_value, traceback)\n",
    "\n",
    "        \n",
    "with MyContextManager() as f:\n",
    "    print(\"Hello\", f)"
   ]
  },
  {
   "cell_type": "code",
   "execution_count": null,
   "id": "6d08e3a6",
   "metadata": {
    "slideshow": {
     "slide_type": "subslide"
    }
   },
   "outputs": [],
   "source": [
    "class MyContextManager:\n",
    "    \n",
    "    def __enter__(self):\n",
    "        print(\"Context prepared\")\n",
    "    \n",
    "    def __exit__(self, exc_type, exc_value, traceback):\n",
    "        print(\"Context closed \", exc_type, exc_value, traceback)\n",
    "        return True  # zwrócenie True oznacza, że przyznajemy się do wyjątku, który został przekazany do exit i należy go uważać za obsłużony\n",
    "\n",
    "        \n",
    "with MyContextManager():\n",
    "    raise Exception()  # <- never do that at home"
   ]
  },
  {
   "cell_type": "markdown",
   "id": "97321cf3",
   "metadata": {
    "slideshow": {
     "slide_type": "slide"
    }
   },
   "source": [
    "### Context manager z użyciem dekoratora"
   ]
  },
  {
   "cell_type": "code",
   "execution_count": 11,
   "id": "77a1979a",
   "metadata": {},
   "outputs": [
    {
     "name": "stdout",
     "output_type": "stream",
     "text": [
      "<div>\n",
      "<a>\n",
      "foo\n",
      "</a>\n",
      "</div>\n"
     ]
    }
   ],
   "source": [
    "from contextlib import contextmanager\n",
    "\n",
    "@contextmanager\n",
    "def tag(name):\n",
    "    print(\"<%s>\" % name,)\n",
    "    try:\n",
    "        yield\n",
    "    finally:\n",
    "        print(\"</%s>\" % name,)\n",
    "\n",
    "with tag(\"div\"):\n",
    "    with tag(\"a\"):\n",
    "        print(\"foo\",)"
   ]
  },
  {
   "cell_type": "code",
   "execution_count": 12,
   "id": "0a7bd352",
   "metadata": {
    "slideshow": {
     "slide_type": "subslide"
    }
   },
   "outputs": [
    {
     "name": "stdout",
     "output_type": "stream",
     "text": [
      "<h1>\n",
      "</h1>\n"
     ]
    },
    {
     "ename": "TypeError",
     "evalue": "unsupported operand type(s) for +: 'int' and 'str'",
     "output_type": "error",
     "traceback": [
      "\u001b[1;31m---------------------------------------------------------------------------\u001b[0m",
      "\u001b[1;31mTypeError\u001b[0m                                 Traceback (most recent call last)",
      "Cell \u001b[1;32mIn [12], line 2\u001b[0m\n\u001b[0;32m      1\u001b[0m \u001b[39mwith\u001b[39;00m tag(\u001b[39m\"\u001b[39m\u001b[39mh1\u001b[39m\u001b[39m\"\u001b[39m):\n\u001b[1;32m----> 2\u001b[0m     \u001b[39m1\u001b[39m \u001b[39m+\u001b[39m \u001b[39m'\u001b[39m\u001b[39m1\u001b[39m\u001b[39m'\u001b[39m\n\u001b[0;32m      4\u001b[0m \u001b[39mprint\u001b[39m()\n",
      "\u001b[1;31mTypeError\u001b[0m: unsupported operand type(s) for +: 'int' and 'str'"
     ]
    }
   ],
   "source": [
    "with tag(\"h1\"):\n",
    "    1 + '1'\n",
    "    \n",
    "print()"
   ]
  },
  {
   "cell_type": "markdown",
   "id": "2a27f408",
   "metadata": {
    "slideshow": {
     "slide_type": "subslide"
    }
   },
   "source": [
    "Przykład z tymczasowym folderem\n",
    "\n",
    "(za http://stackoverflow.com/questions/3012488/what-is-the-python-with-statement-designed-for)"
   ]
  },
  {
   "cell_type": "code",
   "execution_count": 13,
   "id": "25e6ebe0",
   "metadata": {},
   "outputs": [
    {
     "name": "stdout",
     "output_type": "stream",
     "text": [
      "doing sth with C:\\Users\\Radosław\\AppData\\Local\\Temp\\tmpukyfthxf.temp\n"
     ]
    }
   ],
   "source": [
    "from tempfile import mkdtemp\n",
    "from shutil import rmtree\n",
    "\n",
    "@contextmanager\n",
    "def temporary_dir(*args, **kwds):\n",
    "    name = mkdtemp(*args, **kwds)\n",
    "    try:\n",
    "        yield name\n",
    "    finally:\n",
    "        rmtree(name)\n",
    "\n",
    "with temporary_dir(\".temp\") as dirname:\n",
    "    print(\"doing sth with\", dirname)"
   ]
  }
 ],
 "metadata": {
  "celltoolbar": "Slideshow",
  "kernelspec": {
   "display_name": "Python 3.10.8 64-bit (microsoft store)",
   "language": "python",
   "name": "python3"
  },
  "language_info": {
   "codemirror_mode": {
    "name": "ipython",
    "version": 3
   },
   "file_extension": ".py",
   "mimetype": "text/x-python",
   "name": "python",
   "nbconvert_exporter": "python",
   "pygments_lexer": "ipython3",
   "version": "3.10.8"
  },
  "vscode": {
   "interpreter": {
    "hash": "d5a4eec0f89c02024410392738afe4e55f5cd470d4beb3f4f756e4a1d55a9a27"
   }
  }
 },
 "nbformat": 4,
 "nbformat_minor": 5
}
