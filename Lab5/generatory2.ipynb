{
 "cells": [
  {
   "cell_type": "markdown",
   "id": "18d917f2",
   "metadata": {
    "slideshow": {
     "slide_type": "slide"
    }
   },
   "source": [
    "# Języki i Biblioteki Analizy Danych\n",
    "## Laboratorium 6.: Generatory\n",
    "#### mgr inż. Zbigniew Kaleta"
   ]
  },
  {
   "cell_type": "markdown",
   "id": "610c9eca",
   "metadata": {
    "slideshow": {
     "slide_type": "subslide"
    }
   },
   "source": [
    "* Generatorów używamy, aby oszczędzić pamięć (a także czas potrzebny na jej alokację).\n",
    "* Zysk wydajności powstaje przez ominięcie potrzeby tworzenia tymczasowych struktur pośrednich w pamięci, gdy zamiast tego możemy przeiterować kolejno po elementach i finalnie zapisać tylko te, które są potrzebne.\n",
    "* Generator to \"funkcja po której można iterować\", w każdej iteracji zwracająca kolejną wartość"
   ]
  },
  {
   "cell_type": "markdown",
   "id": "5e8da795",
   "metadata": {
    "slideshow": {
     "slide_type": "slide"
    }
   },
   "source": [
    "### polecenie ``yield``"
   ]
  },
  {
   "cell_type": "markdown",
   "id": "55668d79",
   "metadata": {
    "slideshow": {
     "slide_type": "subslide"
    }
   },
   "source": [
    "Funkcja zwracająca listę kolejnych elementów ciągu Fibonacciego nie przekraczających zadanej wartości."
   ]
  },
  {
   "cell_type": "code",
   "execution_count": null,
   "id": "4264f680",
   "metadata": {
    "slideshow": {
     "slide_type": "-"
    }
   },
   "outputs": [],
   "source": [
    "def fib(n=100):\n",
    "    result = []\n",
    "    a, b = 0, 1\n",
    "    while b < n:\n",
    "        result += [b]\n",
    "        a, b = b, a + b\n",
    "    return result"
   ]
  },
  {
   "cell_type": "code",
   "execution_count": null,
   "id": "260b336f",
   "metadata": {
    "slideshow": {
     "slide_type": "fragment"
    }
   },
   "outputs": [],
   "source": [
    "fib()"
   ]
  },
  {
   "cell_type": "markdown",
   "id": "ce5dd5a2",
   "metadata": {
    "slideshow": {
     "slide_type": "subslide"
    }
   },
   "source": [
    "To samo w postaci generatora"
   ]
  },
  {
   "cell_type": "code",
   "execution_count": null,
   "id": "4454fe39",
   "metadata": {
    "slideshow": {
     "slide_type": "-"
    }
   },
   "outputs": [],
   "source": [
    "def fib(n=100):\n",
    "    a, b = 0, 1\n",
    "    while b < n:\n",
    "        yield b  # <- please note 'yield' in place of appending to list\n",
    "        a, b = b, a + b"
   ]
  },
  {
   "cell_type": "code",
   "execution_count": null,
   "id": "647daddb",
   "metadata": {
    "slideshow": {
     "slide_type": "fragment"
    }
   },
   "outputs": [],
   "source": [
    "fib()"
   ]
  },
  {
   "cell_type": "code",
   "execution_count": null,
   "id": "c5c1400c",
   "metadata": {
    "scrolled": true,
    "slideshow": {
     "slide_type": "fragment"
    }
   },
   "outputs": [],
   "source": [
    "# typowy sposób użycia generatora\n",
    "for i in fib():\n",
    "    print(i)"
   ]
  },
  {
   "cell_type": "code",
   "execution_count": null,
   "id": "f731f211",
   "metadata": {
    "slideshow": {
     "slide_type": "fragment"
    }
   },
   "outputs": [],
   "source": [
    "# a jeśli chcę mieć wszystkie wartości w liście...\n",
    "list(fib())"
   ]
  },
  {
   "cell_type": "code",
   "execution_count": null,
   "id": "5fae3463",
   "metadata": {
    "slideshow": {
     "slide_type": "subslide"
    }
   },
   "outputs": [],
   "source": [
    "def f():\n",
    "    yield 2\n",
    "    yield 3\n",
    "    return 4  # return powoduje rzucenie StopIteration z wiadomością 4; ten generator nie wygeneruje ani 4, ani 5\n",
    "    yield 5\n",
    "\n",
    "for i in f():\n",
    "    print(i)"
   ]
  },
  {
   "cell_type": "code",
   "execution_count": null,
   "id": "46966aec",
   "metadata": {
    "slideshow": {
     "slide_type": "subslide"
    }
   },
   "outputs": [],
   "source": [
    "def xrange(n):\n",
    "    i = 0\n",
    "    while i < n:\n",
    "        yield i\n",
    "        i += 1\n",
    "        \n",
    "list(xrange(10))"
   ]
  },
  {
   "cell_type": "code",
   "execution_count": null,
   "id": "97e7790a",
   "metadata": {
    "scrolled": true,
    "slideshow": {
     "slide_type": "subslide"
    }
   },
   "outputs": [],
   "source": [
    "def xrange(n):\n",
    "    i = 0\n",
    "    while i < n:\n",
    "        j = yield i  # yield pozwala na komunikację dwukierunkową - \"zwracam wartość i czekam na odpowiedź\"\n",
    "        if j is not None:\n",
    "            i = j\n",
    "        else:\n",
    "            i += 1\n",
    "        \n",
    "g = xrange(10)\n",
    "print(next(g))"
   ]
  },
  {
   "cell_type": "code",
   "execution_count": null,
   "id": "4aee99a0",
   "metadata": {
    "slideshow": {
     "slide_type": "fragment"
    }
   },
   "outputs": [],
   "source": [
    "print(next(g))"
   ]
  },
  {
   "cell_type": "code",
   "execution_count": null,
   "id": "9ef74408",
   "metadata": {
    "slideshow": {
     "slide_type": "fragment"
    }
   },
   "outputs": [],
   "source": [
    "print(g.send(1))  # wysyłam odpowiedź do yielda i przekazuję sterowanie do generatora (tak jak w przypadku wywołania next)"
   ]
  },
  {
   "cell_type": "markdown",
   "id": "77510cc2",
   "metadata": {
    "slideshow": {
     "slide_type": "fragment"
    }
   },
   "source": [
    "Patrz: coroutines... ale potoki (pipeline) generatorów są lepsze"
   ]
  },
  {
   "cell_type": "markdown",
   "id": "df4b0716",
   "metadata": {
    "slideshow": {
     "slide_type": "slide"
    }
   },
   "source": [
    "### Krótka historia range'a"
   ]
  },
  {
   "cell_type": "code",
   "execution_count": null,
   "id": "a7f6a12f",
   "metadata": {
    "slideshow": {
     "slide_type": "fragment"
    }
   },
   "outputs": [],
   "source": [
    "%%python2\n",
    "\n",
    "print(range(10))\n",
    "print(xrange(10))"
   ]
  },
  {
   "cell_type": "code",
   "execution_count": null,
   "id": "fb54439c",
   "metadata": {
    "scrolled": true,
    "slideshow": {
     "slide_type": "fragment"
    }
   },
   "outputs": [],
   "source": [
    "%%python3\n",
    "\n",
    "print(range(10))\n",
    "print(xrange(10))"
   ]
  },
  {
   "cell_type": "markdown",
   "id": "499254ac",
   "metadata": {
    "slideshow": {
     "slide_type": "slide"
    }
   },
   "source": [
    "### Generator expression"
   ]
  },
  {
   "cell_type": "code",
   "execution_count": 1,
   "id": "7200edbd",
   "metadata": {
    "scrolled": true,
    "slideshow": {
     "slide_type": "-"
    }
   },
   "outputs": [],
   "source": [
    "g = (i*i for i in range(10))  # takie same możliwości jak list comprehension, tylko generator"
   ]
  },
  {
   "cell_type": "code",
   "execution_count": 2,
   "id": "20531b32",
   "metadata": {
    "slideshow": {
     "slide_type": "fragment"
    }
   },
   "outputs": [
    {
     "data": {
      "text/plain": [
       "<generator object <genexpr> at 0x0000025C43E32810>"
      ]
     },
     "execution_count": 2,
     "metadata": {},
     "output_type": "execute_result"
    }
   ],
   "source": [
    "g"
   ]
  },
  {
   "cell_type": "code",
   "execution_count": 3,
   "id": "922e48af",
   "metadata": {
    "slideshow": {
     "slide_type": "fragment"
    }
   },
   "outputs": [
    {
     "data": {
      "text/plain": [
       "generator"
      ]
     },
     "execution_count": 3,
     "metadata": {},
     "output_type": "execute_result"
    }
   ],
   "source": [
    "type(g)"
   ]
  },
  {
   "cell_type": "code",
   "execution_count": 4,
   "id": "acf95aa5",
   "metadata": {
    "slideshow": {
     "slide_type": "fragment"
    }
   },
   "outputs": [
    {
     "name": "stdout",
     "output_type": "stream",
     "text": [
      "0\n",
      "1\n",
      "4\n",
      "9\n"
     ]
    }
   ],
   "source": [
    "for i in g:\n",
    "    print(i)\n",
    "    if i>4:\n",
    "        break"
   ]
  },
  {
   "cell_type": "code",
   "execution_count": null,
   "id": "b848bb63",
   "metadata": {
    "slideshow": {
     "slide_type": "fragment"
    }
   },
   "outputs": [],
   "source": [
    "for i in g:\n",
    "    print(i)"
   ]
  },
  {
   "cell_type": "code",
   "execution_count": null,
   "id": "40b4e7b3",
   "metadata": {
    "slideshow": {
     "slide_type": "subslide"
    }
   },
   "outputs": [],
   "source": [
    "from time import perf_counter"
   ]
  },
  {
   "cell_type": "code",
   "execution_count": 5,
   "id": "b951adda",
   "metadata": {
    "slideshow": {
     "slide_type": "fragment"
    }
   },
   "outputs": [
    {
     "ename": "NameError",
     "evalue": "name 'perf_counter' is not defined",
     "output_type": "error",
     "traceback": [
      "\u001b[1;31m---------------------------------------------------------------------------\u001b[0m",
      "\u001b[1;31mNameError\u001b[0m                                 Traceback (most recent call last)",
      "Cell \u001b[1;32mIn [5], line 1\u001b[0m\n\u001b[1;32m----> 1\u001b[0m start_time \u001b[39m=\u001b[39m perf_counter()\n\u001b[0;32m      2\u001b[0m \u001b[39mfor\u001b[39;00m i \u001b[39min\u001b[39;00m [a\u001b[39m*\u001b[39m\u001b[39m*\u001b[39m\u001b[39m2\u001b[39m \u001b[39mfor\u001b[39;00m a \u001b[39min\u001b[39;00m \u001b[39mrange\u001b[39m(\u001b[39m20_000_000\u001b[39m)]:\n\u001b[0;32m      3\u001b[0m     \u001b[39mbreak\u001b[39;00m\n",
      "\u001b[1;31mNameError\u001b[0m: name 'perf_counter' is not defined"
     ]
    }
   ],
   "source": [
    "start_time = perf_counter()\n",
    "for i in [a**2 for a in range(20_000_000)]:\n",
    "    break\n",
    "print(\"DONE\")\n",
    "print(\"Time elapsed: {:.5f}s\".format(perf_counter() - start_time))"
   ]
  },
  {
   "cell_type": "code",
   "execution_count": null,
   "id": "67b53168",
   "metadata": {
    "slideshow": {
     "slide_type": "fragment"
    }
   },
   "outputs": [],
   "source": [
    "start_time = perf_counter()\n",
    "for i in (a**2 for a in range(20_000_000)):\n",
    "    break\n",
    "print(\"DONE\")\n",
    "print(\"Time elapsed: {:.5f}s\".format(perf_counter() - start_time))"
   ]
  },
  {
   "cell_type": "markdown",
   "id": "c8370d1c",
   "metadata": {},
   "source": [
    "Jedna z ważniejszych przewag generatora nad listą to możliwość przerwania generowania w dowolnym momencie. Nie marnujemy czasu na obliczenie wartości, które nie będą potrzebne.\n",
    "\n",
    "Generator może również zawierać w sobie pętlę nieskończoną, a \"obowiązek\" jej przerwania będzie spoczywał na użytkowniku tego generatora.\n",
    "\n",
    "Wynik testu z pełną iteracją po tej kolekcji (dla 2 mln elementów):\n",
    "\n",
    "Lista: 0.50881s\n",
    "\n",
    "Generator: 0.49612s"
   ]
  },
  {
   "cell_type": "code",
   "execution_count": null,
   "id": "1e9185d5",
   "metadata": {
    "slideshow": {
     "slide_type": "subslide"
    }
   },
   "outputs": [],
   "source": [
    "g = (i*i for i in range(10) if i%2 for j in range(2))\n",
    "list(g)"
   ]
  },
  {
   "cell_type": "markdown",
   "id": "53753cd9",
   "metadata": {
    "slideshow": {
     "slide_type": "slide"
    }
   },
   "source": [
    "### Lista czy generator?"
   ]
  },
  {
   "cell_type": "markdown",
   "id": "3e2d6da7",
   "metadata": {},
   "source": [
    "Jeżeli elementów do zwrócenia jest mało, to się nie zastanawiamy, tylko piszemy co nam wygodniej."
   ]
  },
  {
   "cell_type": "code",
   "execution_count": null,
   "id": "699b0efa",
   "metadata": {},
   "outputs": [],
   "source": [
    "def f():\n",
    "    return [1, 2, 3]\n",
    "    \n",
    "def g():\n",
    "    yield 1\n",
    "    yield 2\n",
    "    yield 3"
   ]
  },
  {
   "cell_type": "markdown",
   "id": "bf987f49",
   "metadata": {
    "slideshow": {
     "slide_type": "subslide"
    }
   },
   "source": [
    "Jeśli interesuje nas tylko jedna iteracja po elementach, to właściwie na jedno wychodzi."
   ]
  },
  {
   "cell_type": "code",
   "execution_count": null,
   "id": "6e304055",
   "metadata": {
    "slideshow": {
     "slide_type": "-"
    }
   },
   "outputs": [],
   "source": [
    "l = f()\n",
    "for i in l:\n",
    "    print(i)"
   ]
  },
  {
   "cell_type": "code",
   "execution_count": null,
   "id": "2c56d082",
   "metadata": {},
   "outputs": [],
   "source": [
    "l = g()\n",
    "for i in l:\n",
    "    print(i)"
   ]
  },
  {
   "cell_type": "markdown",
   "id": "cb60e48e",
   "metadata": {
    "slideshow": {
     "slide_type": "subslide"
    }
   },
   "source": [
    "Jeżeli potrzebujemy iterować wielokrotnie (albo tym bardziej potrzebujemy dostępu swobodnego), to lista jest nieodzowna..."
   ]
  },
  {
   "cell_type": "code",
   "execution_count": null,
   "id": "44d7833a",
   "metadata": {
    "slideshow": {
     "slide_type": "-"
    }
   },
   "outputs": [],
   "source": [
    "l = f()\n",
    "for i in l:\n",
    "    print(i)\n",
    "for i in l:\n",
    "    print(i)"
   ]
  },
  {
   "cell_type": "code",
   "execution_count": null,
   "id": "4c324cb1",
   "metadata": {
    "scrolled": true
   },
   "outputs": [],
   "source": [
    "l = g()\n",
    "for i in l:\n",
    "    print(i)\n",
    "for i in l:\n",
    "    print(i)"
   ]
  },
  {
   "cell_type": "markdown",
   "id": "505efa55",
   "metadata": {
    "slideshow": {
     "slide_type": "subslide"
    }
   },
   "source": [
    "... przy czym może ją sobie stworzyć kod wywołujący."
   ]
  },
  {
   "cell_type": "code",
   "execution_count": null,
   "id": "f2c9bf55",
   "metadata": {
    "slideshow": {
     "slide_type": "-"
    }
   },
   "outputs": [],
   "source": [
    "l = list(g())\n",
    "for i in l:\n",
    "    print(i)\n",
    "for i in l:\n",
    "    print(i)"
   ]
  },
  {
   "cell_type": "markdown",
   "id": "eadd4ba4",
   "metadata": {},
   "source": [
    "Dwukrotne wywołanie generatora będzie niewydajne, ale może się przydać, jeżeli pracujemy na sprzęcie z bardzo ograniczoną pamięcią, a nasz ciąg jest bardzo długi."
   ]
  },
  {
   "cell_type": "code",
   "execution_count": null,
   "id": "ab07767d",
   "metadata": {},
   "outputs": [],
   "source": [
    "l = g()\n",
    "for i in l:\n",
    "    print(i)\n",
    "l = g()\n",
    "for i in l:\n",
    "    print(i)"
   ]
  },
  {
   "cell_type": "markdown",
   "id": "2adc77c6",
   "metadata": {
    "slideshow": {
     "slide_type": "slide"
    }
   },
   "source": [
    "### Funkcja czy generator?"
   ]
  },
  {
   "cell_type": "code",
   "execution_count": null,
   "id": "ad6741ed",
   "metadata": {},
   "outputs": [],
   "source": [
    "def f():\n",
    "    return 1\n",
    "\n",
    "print(f())"
   ]
  },
  {
   "cell_type": "code",
   "execution_count": null,
   "id": "76de0366",
   "metadata": {
    "slideshow": {
     "slide_type": "fragment"
    }
   },
   "outputs": [],
   "source": [
    "def f():\n",
    "    yield 1\n",
    "\n",
    "print(f())"
   ]
  },
  {
   "cell_type": "code",
   "execution_count": null,
   "id": "49f8a690",
   "metadata": {
    "slideshow": {
     "slide_type": "fragment"
    }
   },
   "outputs": [],
   "source": [
    "print(next(f()))  # niewygodne w użyciu; generator nie zastąpi zwykłej funkcji"
   ]
  },
  {
   "cell_type": "code",
   "execution_count": null,
   "id": "a8ac3d9e",
   "metadata": {
    "slideshow": {
     "slide_type": "subslide"
    }
   },
   "outputs": [],
   "source": [
    "def f():\n",
    "    yield from [1, 2, 3]\n",
    "    \n",
    "print(f)\n",
    "print(f())"
   ]
  },
  {
   "cell_type": "markdown",
   "id": "e15026e3",
   "metadata": {
    "slideshow": {
     "slide_type": "slide"
    }
   },
   "source": [
    "### Chaining (pipelining) generatorów"
   ]
  },
  {
   "cell_type": "markdown",
   "id": "ea55a5a8",
   "metadata": {},
   "source": [
    "Potok generatorów polega na tym, że jeden generator pobiera wartości z drugiego i zwraca je dalej, gdzie może czekać kolejny generator. Na początku potoku może być generator, ale równie dobrze może to być cokolwiek innego iterowalnego, jak lista, czy plik.\n",
    "\n",
    "Poszczególne składowe potoku mogą zmniejszać liczbę elementów (np. odfiltrowywać liczby nieparzyste), zostawiać taką samą (np. podnosić liczby do kwadratu) lub zwiększać (np. rozbijać liczbę na poszczególne cyfry)."
   ]
  },
  {
   "cell_type": "code",
   "execution_count": null,
   "id": "d9f93830",
   "metadata": {},
   "outputs": [],
   "source": [
    "def gen1():\n",
    "    for i in range(100000):\n",
    "        yield i\n",
    "    \n",
    "def filter1(gen):\n",
    "    for i in gen:\n",
    "        if i%2:\n",
    "            yield i\n",
    "\n",
    "def filter2(gen):\n",
    "    for i in gen:\n",
    "        if not i%11:\n",
    "            yield i\n",
    "\n",
    "for i in filter2(filter1(gen1())):\n",
    "    print(i)"
   ]
  },
  {
   "cell_type": "markdown",
   "id": "b18bec4d",
   "metadata": {},
   "source": [
    "Gdyby każda z przedstawionych wyżej funkcji zwracała listę, to nadal by wszystko działało, tylko w każdym momencie potrzebowalibyśmy mieć dwie listy (lista zwrócona przez poprzedni element potoku i aktualnie tworzona). Przy dużych rozmiarach tych list zysk pamięciowy, a może również wydajnościowy, będzie zauważalny."
   ]
  },
  {
   "cell_type": "markdown",
   "id": "5d883d2b",
   "metadata": {},
   "source": [
    "Lektura dodatkowa:\n",
    " - https://www.geeksforgeeks.org/generators-in-python/\n",
    " - https://realpython.com/introduction-to-python-generators\n",
    " - https://wiki.python.org/moin/Generators"
   ]
  }
 ],
 "metadata": {
  "celltoolbar": "Slideshow",
  "kernelspec": {
   "display_name": "Python 3.10.8 64-bit (microsoft store)",
   "language": "python",
   "name": "python3"
  },
  "language_info": {
   "codemirror_mode": {
    "name": "ipython",
    "version": 3
   },
   "file_extension": ".py",
   "mimetype": "text/x-python",
   "name": "python",
   "nbconvert_exporter": "python",
   "pygments_lexer": "ipython3",
   "version": "3.10.8"
  },
  "vscode": {
   "interpreter": {
    "hash": "d5a4eec0f89c02024410392738afe4e55f5cd470d4beb3f4f756e4a1d55a9a27"
   }
  }
 },
 "nbformat": 4,
 "nbformat_minor": 5
}
