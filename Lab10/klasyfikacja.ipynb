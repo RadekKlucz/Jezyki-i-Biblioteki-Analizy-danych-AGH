{
 "cells": [
  {
   "cell_type": "markdown",
   "id": "bb5f388b",
   "metadata": {
    "slideshow": {
     "slide_type": "slide"
    }
   },
   "source": [
    "# Języki i Biblioteki Analizy Danych\n",
    "## Laboratorium 9.: Klasyfikacja\n",
    "#### mgr inż. Zbigniew Kaleta"
   ]
  },
  {
   "cell_type": "markdown",
   "id": "4d212806",
   "metadata": {
    "slideshow": {
     "slide_type": "slide"
    }
   },
   "source": [
    "Klasyfikacja statystyczna – rodzaj algorytmu statystycznego, który przydziela obserwacje statystyczne do klas, bazując na atrybutach (cechach) tych obserwacji. (https://pl.wikipedia.org/wiki/Klasyfikacja_statystyczna)"
   ]
  },
  {
   "cell_type": "markdown",
   "id": "dff21cd6",
   "metadata": {
    "slideshow": {
     "slide_type": "subslide"
    }
   },
   "source": [
    "Obserwacja statystyczna – pojedyncza realizacja zmiennej losowej. W praktyce zwykle jest to wielowymiarowa zmienna losowa, wówczas obserwacją statystyczną jest wektor realizacji składowych zmiennych losowych dotyczących tego samego badanego elementu populacji (jednostki statystycznej). (https://pl.wikipedia.org/wiki/Obserwacja_statystyczna)\n",
    "\n",
    "Przykłady obserwacji:\n",
    " - e-mail\n",
    " - zdjęcie\n",
    " - wyniki badań krwi pacjenta\n",
    " \n",
    "W uczeniu maszynowym najchętniej reprezentujemy obserwacje jako wektory liczb zmiennoprzecinkowych, ewentualnie całkowitych."
   ]
  },
  {
   "cell_type": "markdown",
   "id": "32ff2a98",
   "metadata": {
    "slideshow": {
     "slide_type": "subslide"
    }
   },
   "source": [
    "Klasyfikacja binarna polega na przypisaniu obserwacji do jednej z dwóch klas (tak/nie, chory/zdrowy, spam/nie-spam...).\n",
    "\n",
    "Klasyfikacja wieloklasowa polega na przypisaniu obserwacji do jednej z wielu klas (czy zdjęcie przedstawia psa, kota, chomika czy świnkę morską? czy artykuł należy do kategorii ekonomia, polityka, sport czy inne?).\n",
    "\n",
    "Klasyfikacja wieloetykietowa polega na przypisaniu obserwacji do żadnej, jednej lub więcej z wielu klas (j.w. ale na zdjęciu może być i pies, i kot)."
   ]
  },
  {
   "cell_type": "markdown",
   "id": "242aee80",
   "metadata": {
    "slideshow": {
     "slide_type": "slide"
    }
   },
   "source": [
    "Ogólna procedura w uczeniu maszynowym:\n",
    " - zdefiniuj dobrze swój problem\n",
    " - przygotuj odpowiednio duży i dobry zbiór danych\n",
    " - podziel (losowo lub metodycznie) zbiór na dane treningowe i testowe, względnie: treningowe, walidacyjne i testowe\n",
    " - wybierz algorytm i parametry\n",
    " - wyucz model\n",
    " - przetestuj model\n"
   ]
  },
  {
   "cell_type": "markdown",
   "id": "7785ec5b",
   "metadata": {
    "slideshow": {
     "slide_type": "slide"
    }
   },
   "source": [
    "### Ocena klasyfikacji binarnej:\n",
    "\n",
    "$$ Accuracy = \\frac{\\text{przypadki poprawnie zaklasyfikowane}}{\\text{wszystkie przypadki}} = \\frac{|TP| + |TN|}{|TP| + |TN| + |FP| + |FN|} $$"
   ]
  },
  {
   "cell_type": "markdown",
   "id": "51638420",
   "metadata": {
    "slideshow": {
     "slide_type": "subslide"
    }
   },
   "source": [
    "- klasyfikator dał odpowiedź 1, poprawna odpowiedź 1 - True Positive\n",
    "- klasyfikator dał odpowiedź 0, poprawna odpowiedź 0 - True Negative\n",
    "- klasyfikator dał odpowiedź 1, poprawna odpowiedź 0 - False Positive (błąd typu I)\n",
    "- klasyfikator dał odpowiedź 0, poprawna odpowiedź 1 - False Negative (błąd typu II)"
   ]
  },
  {
   "cell_type": "markdown",
   "id": "5d16b99b",
   "metadata": {
    "slideshow": {
     "slide_type": "subslide"
    }
   },
   "source": [
    "$$ Precision = \\frac{|TP|}{|TP| + |FP|} $$\n",
    "\n",
    "$$ Recall = \\frac{|TP|}{|TP|+|FN|} $$"
   ]
  },
  {
   "cell_type": "markdown",
   "id": "a4f2bb17",
   "metadata": {
    "slideshow": {
     "slide_type": "subslide"
    }
   },
   "source": [
    "F1 - średnia harmoniczna precyzji i recall\n",
    "\n",
    "$$ \\frac{2}{f_1} = \\frac{1}{prec} + \\frac{1}{rec} \\Rightarrow f_1 = \\frac{2·prec·rec}{prec + rec} $$\n",
    "\n",
    "Uogólniając (na średnią ważoną):\n",
    "\n",
    "$$ F_ß = \\frac{(1+ß²)·prec·rec}{ß²·prec+rec} $$ (im **większa** ß tym **mniejsze** znaczenie ma precyzja)"
   ]
  },
  {
   "cell_type": "markdown",
   "id": "a99d6a09",
   "metadata": {
    "slideshow": {
     "slide_type": "slide"
    }
   },
   "source": [
    "### Ocena klasyfikacji wieloklasowej:\n",
    "\n",
    "Macro-average precision - obliczamy precyzję dla poszczególnych klas i liczymy średnią arytmetyczną"
   ]
  },
  {
   "cell_type": "markdown",
   "id": "4bf67358",
   "metadata": {
    "slideshow": {
     "slide_type": "slide"
    }
   },
   "source": [
    "### Ocena klasyfikacji wieloetykietowej:\n",
    "Hamming loss - liczba odpowiedzi błędnych (każda etykieta liczona jako osobna odpowiedź) podzielona przez liczbę wszystkich odpowiedzi. Im mniej tym lepiej."
   ]
  },
  {
   "cell_type": "markdown",
   "id": "0a88bfbb",
   "metadata": {
    "slideshow": {
     "slide_type": "slide"
    }
   },
   "source": [
    "Algorytmy klasyfikacji:\n",
    " - drzewa decyzyjne\n",
    " - perceptron\n",
    " - kNN\n",
    " - Naiwny Klasyfikator Bayesa\n",
    " - SVM\n",
    " - sieci neuronowe\n",
    " - ..."
   ]
  },
  {
   "cell_type": "markdown",
   "id": "7ded3329",
   "metadata": {
    "slideshow": {
     "slide_type": "skip"
    }
   },
   "source": [
    "Lektura dodatkowa:\n",
    " - https://towardsdatascience.com/micro-macro-weighted-averages-of-f1-score-clearly-explained-b603420b292f\n",
    " - https://www.edureka.co/blog/classification-in-machine-learning/\n",
    " - https://machinelearningmastery.com/types-of-classification-in-machine-learning/\n",
    " - https://pythongeeks.org/classification-in-machine-learning/"
   ]
  }
 ],
 "metadata": {
  "celltoolbar": "Slideshow",
  "kernelspec": {
   "display_name": "Python 3 (ipykernel)",
   "language": "python",
   "name": "python3"
  },
  "language_info": {
   "codemirror_mode": {
    "name": "ipython",
    "version": 3
   },
   "file_extension": ".py",
   "mimetype": "text/x-python",
   "name": "python",
   "nbconvert_exporter": "python",
   "pygments_lexer": "ipython3",
   "version": "3.10.6"
  }
 },
 "nbformat": 4,
 "nbformat_minor": 5
}
