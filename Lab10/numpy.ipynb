{
 "cells": [
  {
   "cell_type": "markdown",
   "id": "bb5f388b",
   "metadata": {
    "slideshow": {
     "slide_type": "slide"
    }
   },
   "source": [
    "# Języki i Biblioteki Analizy Danych\n",
    "## Laboratorium 9.: NumPy\n",
    "#### mgr inż. Zbigniew Kaleta"
   ]
  },
  {
   "attachments": {},
   "cell_type": "markdown",
   "id": "8d7722ee",
   "metadata": {
    "slideshow": {
     "slide_type": "notes"
    }
   },
   "source": [
    "### Podstawowe informacje\n",
    "\n",
    "NumPy jest biblioteką do obliczeń numerycznych w Pythonie (hence the name), a konkretnie obliczeń macierzowych (choć zawiera też moduł związany z rozkładami prawdopodobieństwa).\n",
    "\n",
    "NumPy jest napisany w C, dzięki czemu jest bardzo wydajny oraz pozwala osiągnąć korzyści z przetwarzania współbieżnego (wielowątkowego)...\n",
    "\n",
    "... ale nic za darmo: ograniczają nas typy danych dostępne w C, np. ograniczony zakres inta. W C tylko ma 64 bity a w python nieograniczony. \n",
    "\n",
    "Python posiada modul do programowania współbierznego, ale jest on ułony, \n",
    "bo jest coś takiego jak GIL Global intrepeter log. W jednej chwili tylko jeden wątek jest wykonywany. \n",
    "\n",
    "NumPy leży u podstaw Pandasa, sklearn'a i wielu innych bibliotek związanych z analizą danych i sztuczną inteligencją."
   ]
  },
  {
   "cell_type": "code",
   "execution_count": 1,
   "id": "624e7328",
   "metadata": {
    "slideshow": {
     "slide_type": "subslide"
    }
   },
   "outputs": [],
   "source": [
    "import numpy as np"
   ]
  },
  {
   "cell_type": "markdown",
   "id": "aea28dcf",
   "metadata": {
    "slideshow": {
     "slide_type": "slide"
    }
   },
   "source": [
    "### 101 sposobów utworzenia macierzy"
   ]
  },
  {
   "cell_type": "code",
   "execution_count": 2,
   "id": "37ebad15",
   "metadata": {
    "slideshow": {
     "slide_type": "subslide"
    }
   },
   "outputs": [
    {
     "name": "stdout",
     "output_type": "stream",
     "text": [
      "[1 3 2]\n"
     ]
    }
   ],
   "source": [
    "v = np.array([1, 3, 2])\n",
    "print(v)"
   ]
  },
  {
   "cell_type": "code",
   "execution_count": 3,
   "id": "2c83fd8b",
   "metadata": {
    "scrolled": true,
    "slideshow": {
     "slide_type": "subslide"
    }
   },
   "outputs": [
    {
     "name": "stdout",
     "output_type": "stream",
     "text": [
      "[[2 2 2 2]\n",
      " [2 2 2 2]\n",
      " [2 2 2 2]\n",
      " [2 2 2 2]]\n"
     ]
    }
   ],
   "source": [
    "A = np.full((4, 4), 2)\n",
    "print(A)"
   ]
  },
  {
   "cell_type": "code",
   "execution_count": 4,
   "id": "46f3467b",
   "metadata": {
    "slideshow": {
     "slide_type": "subslide"
    }
   },
   "outputs": [
    {
     "data": {
      "text/plain": [
       "array([[1., 1., 1., 1.],\n",
       "       [1., 1., 1., 1.],\n",
       "       [1., 1., 1., 1.],\n",
       "       [1., 1., 1., 1.]])"
      ]
     },
     "execution_count": 4,
     "metadata": {},
     "output_type": "execute_result"
    }
   ],
   "source": [
    "np.ones((4, 4))  # <- please note the parenthesis: matrix size needs to be a tuple"
   ]
  },
  {
   "cell_type": "code",
   "execution_count": 5,
   "id": "7e6d9a1d",
   "metadata": {
    "slideshow": {
     "slide_type": "subslide"
    }
   },
   "outputs": [
    {
     "data": {
      "text/plain": [
       "array([[0., 0., 0., 0.],\n",
       "       [0., 0., 0., 0.],\n",
       "       [0., 0., 0., 0.],\n",
       "       [0., 0., 0., 0.]])"
      ]
     },
     "execution_count": 5,
     "metadata": {},
     "output_type": "execute_result"
    }
   ],
   "source": [
    "np.zeros((4,4))"
   ]
  },
  {
   "cell_type": "code",
   "execution_count": 6,
   "id": "245a2264",
   "metadata": {
    "slideshow": {
     "slide_type": "subslide"
    }
   },
   "outputs": [
    {
     "name": "stdout",
     "output_type": "stream",
     "text": [
      "[[1. 0. 0. 0.]\n",
      " [0. 1. 0. 0.]\n",
      " [0. 0. 1. 0.]\n",
      " [0. 0. 0. 1.]]\n"
     ]
    }
   ],
   "source": [
    "M = np.eye(4) # tworzący macierz jednostkową \n",
    "print(M)"
   ]
  },
  {
   "cell_type": "code",
   "execution_count": 7,
   "id": "a5c949be",
   "metadata": {
    "slideshow": {
     "slide_type": "subslide"
    }
   },
   "outputs": [
    {
     "data": {
      "text/plain": [
       "array([0, 1, 2, 3, 4, 5, 6, 7, 8, 9])"
      ]
     },
     "execution_count": 7,
     "metadata": {},
     "output_type": "execute_result"
    }
   ],
   "source": [
    "np.arange(10)  # arange to array range, nie mylić z arrange"
   ]
  },
  {
   "cell_type": "code",
   "execution_count": 10,
   "id": "5d5810c6",
   "metadata": {
    "slideshow": {
     "slide_type": "subslide"
    }
   },
   "outputs": [
    {
     "data": {
      "text/plain": [
       "array([[1., 0., 0., 0.],\n",
       "       [0., 1., 0., 0.],\n",
       "       [0., 0., 1., 0.],\n",
       "       [0., 0., 0., 1.]])"
      ]
     },
     "execution_count": 10,
     "metadata": {},
     "output_type": "execute_result"
    }
   ],
   "source": [
    "np.empty((4, 4)) # jak potrzebujemy jakąś macierz do zapisu. Nie obchodzi nas jej zawartość"
   ]
  },
  {
   "cell_type": "markdown",
   "id": "ef226b1d",
   "metadata": {
    "slideshow": {
     "slide_type": "slide"
    }
   },
   "source": [
    "### Indeksowanie macierzy"
   ]
  },
  {
   "cell_type": "code",
   "execution_count": 11,
   "id": "8417f35d",
   "metadata": {
    "slideshow": {
     "slide_type": "subslide"
    }
   },
   "outputs": [],
   "source": [
    "A = np.array([[0,  1,  2,  3], [4,  5,  6,  7], [8,  9, 10, 11], [12, 13, 14, 15]])"
   ]
  },
  {
   "cell_type": "code",
   "execution_count": 12,
   "id": "8d62a5ec",
   "metadata": {
    "scrolled": true,
    "slideshow": {
     "slide_type": "subslide"
    }
   },
   "outputs": [
    {
     "name": "stdout",
     "output_type": "stream",
     "text": [
      "6\n",
      "[[  0   1   2   3]\n",
      " [  4   5   6   7]\n",
      " [  8   9 102  11]\n",
      " [ 12  13  14  15]]\n"
     ]
    }
   ],
   "source": [
    "print(A[1, 2])  # można też A[1][2], tylko po co?\n",
    "A[2, 2] = 102\n",
    "print(A)"
   ]
  },
  {
   "cell_type": "code",
   "execution_count": 13,
   "id": "94b359ab",
   "metadata": {
    "slideshow": {
     "slide_type": "subslide"
    }
   },
   "outputs": [
    {
     "data": {
      "text/plain": [
       "array([4, 5, 6, 7])"
      ]
     },
     "execution_count": 13,
     "metadata": {},
     "output_type": "execute_result"
    }
   ],
   "source": [
    "A[1, :]"
   ]
  },
  {
   "cell_type": "code",
   "execution_count": 14,
   "id": "5654f88c",
   "metadata": {
    "slideshow": {
     "slide_type": "fragment"
    }
   },
   "outputs": [
    {
     "data": {
      "text/plain": [
       "array([4, 5, 6, 7])"
      ]
     },
     "execution_count": 14,
     "metadata": {},
     "output_type": "execute_result"
    }
   ],
   "source": [
    "A[1]  # mniej czytelne"
   ]
  },
  {
   "cell_type": "code",
   "execution_count": 15,
   "id": "4f43c7d8",
   "metadata": {
    "slideshow": {
     "slide_type": "fragment"
    }
   },
   "outputs": [
    {
     "data": {
      "text/plain": [
       "array([ 1,  5,  9, 13])"
      ]
     },
     "execution_count": 15,
     "metadata": {},
     "output_type": "execute_result"
    }
   ],
   "source": [
    "A[:, 1]"
   ]
  },
  {
   "cell_type": "code",
   "execution_count": 16,
   "id": "fd107b25",
   "metadata": {
    "slideshow": {
     "slide_type": "subslide"
    }
   },
   "outputs": [
    {
     "data": {
      "text/plain": [
       "array([[  0,   1,   2,   3],\n",
       "       [  4, 100,   6,   7],\n",
       "       [  8, 200, 102,  11],\n",
       "       [ 12,  13,  14,  15]])"
      ]
     },
     "execution_count": 16,
     "metadata": {},
     "output_type": "execute_result"
    }
   ],
   "source": [
    "A[1:3, 1] = [100, 200]\n",
    "A"
   ]
  },
  {
   "cell_type": "code",
   "execution_count": 17,
   "id": "9ddadb3b",
   "metadata": {
    "scrolled": true,
    "slideshow": {
     "slide_type": "subslide"
    }
   },
   "outputs": [
    {
     "ename": "IndexError",
     "evalue": "index 4 is out of bounds for axis 1 with size 4",
     "output_type": "error",
     "traceback": [
      "\u001b[1;31m---------------------------------------------------------------------------\u001b[0m",
      "\u001b[1;31mIndexError\u001b[0m                                Traceback (most recent call last)",
      "Cell \u001b[1;32mIn [17], line 1\u001b[0m\n\u001b[1;32m----> 1\u001b[0m A[\u001b[39m1\u001b[39m, \u001b[39m4\u001b[39m]\n",
      "\u001b[1;31mIndexError\u001b[0m: index 4 is out of bounds for axis 1 with size 4"
     ]
    }
   ],
   "source": [
    "A[1, 4]  # analogicznie jak w przypadku list"
   ]
  },
  {
   "cell_type": "code",
   "execution_count": 18,
   "id": "9e832772",
   "metadata": {
    "slideshow": {
     "slide_type": "subslide"
    }
   },
   "outputs": [
    {
     "data": {
      "text/plain": [
       "array([  4, 100,   6,   7])"
      ]
     },
     "execution_count": 18,
     "metadata": {},
     "output_type": "execute_result"
    }
   ],
   "source": [
    "A[1, :]"
   ]
  },
  {
   "cell_type": "code",
   "execution_count": 19,
   "id": "4388b8c6",
   "metadata": {
    "slideshow": {
     "slide_type": "fragment"
    }
   },
   "outputs": [
    {
     "data": {
      "text/plain": [
       "array([[  4, 100,   6,   7]])"
      ]
     },
     "execution_count": 19,
     "metadata": {},
     "output_type": "execute_result"
    }
   ],
   "source": [
    "A[1:2, :]  # please note the difference in number of brackets in output"
   ]
  },
  {
   "cell_type": "code",
   "execution_count": 20,
   "id": "dc7bb8b4",
   "metadata": {
    "slideshow": {
     "slide_type": "subslide"
    }
   },
   "outputs": [
    {
     "data": {
      "text/plain": [
       "array([  1, 100, 200,  13])"
      ]
     },
     "execution_count": 20,
     "metadata": {},
     "output_type": "execute_result"
    }
   ],
   "source": [
    "A[..., 1]"
   ]
  },
  {
   "cell_type": "markdown",
   "id": "8cc3c982",
   "metadata": {
    "slideshow": {
     "slide_type": "slide"
    }
   },
   "source": [
    "### Rozmiar i kształt macierzy"
   ]
  },
  {
   "cell_type": "code",
   "execution_count": 22,
   "id": "8cf209f7",
   "metadata": {
    "scrolled": true,
    "slideshow": {
     "slide_type": "subslide"
    }
   },
   "outputs": [
    {
     "name": "stdout",
     "output_type": "stream",
     "text": [
      "16\n",
      "2\n",
      "(4, 4)\n"
     ]
    }
   ],
   "source": [
    "print(M.size) # całkowita liczba elementów\n",
    "print(M.ndim) # liczba wymiarów\n",
    "print(M.shape) # wielkość w każdym wymiarze"
   ]
  },
  {
   "cell_type": "code",
   "execution_count": 23,
   "id": "376e8982",
   "metadata": {
    "slideshow": {
     "slide_type": "subslide"
    }
   },
   "outputs": [
    {
     "data": {
      "text/plain": [
       "array([[1., 0., 0., 0., 0., 1., 0., 0.],\n",
       "       [0., 0., 1., 0., 0., 0., 0., 1.]])"
      ]
     },
     "execution_count": 23,
     "metadata": {},
     "output_type": "execute_result"
    }
   ],
   "source": [
    "M.reshape((2, 8)) # zmiana wielkości macierzy"
   ]
  },
  {
   "cell_type": "code",
   "execution_count": 25,
   "id": "bf2add06",
   "metadata": {
    "slideshow": {
     "slide_type": "fragment"
    }
   },
   "outputs": [
    {
     "data": {
      "text/plain": [
       "array([[1., 0., 0., 0., 0., 1., 0., 0.],\n",
       "       [0., 0., 1., 0., 0., 0., 0., 1.]])"
      ]
     },
     "execution_count": 25,
     "metadata": {},
     "output_type": "execute_result"
    }
   ],
   "source": [
    "M.reshape((2, -1)) # -1 oznacza, że Python sam się domyśli"
   ]
  },
  {
   "cell_type": "code",
   "execution_count": 27,
   "id": "b2377b7c",
   "metadata": {
    "slideshow": {
     "slide_type": "subslide"
    }
   },
   "outputs": [
    {
     "data": {
      "text/plain": [
       "array([[1., 0., 0., 0.],\n",
       "       [0., 1., 0., 0.],\n",
       "       [0., 0., 1., 0.],\n",
       "       [0., 0., 0., 1.]])"
      ]
     },
     "execution_count": 27,
     "metadata": {},
     "output_type": "execute_result"
    }
   ],
   "source": [
    "M # jakbym chciał zachować macierz po przekształceniu to trzeba zapisać do zmiennej"
   ]
  },
  {
   "cell_type": "code",
   "execution_count": 29,
   "id": "98b360fb",
   "metadata": {
    "scrolled": true,
    "slideshow": {
     "slide_type": "fragment"
    }
   },
   "outputs": [
    {
     "ename": "ValueError",
     "evalue": "cannot reshape array of size 16 into shape (3,3)",
     "output_type": "error",
     "traceback": [
      "\u001b[1;31m---------------------------------------------------------------------------\u001b[0m",
      "\u001b[1;31mValueError\u001b[0m                                Traceback (most recent call last)",
      "Cell \u001b[1;32mIn [29], line 1\u001b[0m\n\u001b[1;32m----> 1\u001b[0m M\u001b[39m.\u001b[39mreshape((\u001b[39m3\u001b[39m, \u001b[39m3\u001b[39m))\n",
      "\u001b[1;31mValueError\u001b[0m: cannot reshape array of size 16 into shape (3,3)"
     ]
    }
   ],
   "source": [
    "M.reshape((3, 3)) # wszystkie elemeny orginalnej macierzy muszą się zmieścić w nowej macierzy"
   ]
  },
  {
   "cell_type": "code",
   "execution_count": 30,
   "id": "7fd46a11",
   "metadata": {
    "slideshow": {
     "slide_type": "fragment"
    }
   },
   "outputs": [
    {
     "data": {
      "text/plain": [
       "array([[[1., 0.],\n",
       "        [0., 0.]],\n",
       "\n",
       "       [[0., 1.],\n",
       "        [0., 0.]],\n",
       "\n",
       "       [[0., 0.],\n",
       "        [1., 0.]],\n",
       "\n",
       "       [[0., 0.],\n",
       "        [0., 1.]]])"
      ]
     },
     "execution_count": 30,
     "metadata": {},
     "output_type": "execute_result"
    }
   ],
   "source": [
    "M.reshape((4, 2, 2))"
   ]
  },
  {
   "cell_type": "markdown",
   "id": "800e1c95",
   "metadata": {
    "slideshow": {
     "slide_type": "slide"
    }
   },
   "source": [
    "### Typy danych"
   ]
  },
  {
   "cell_type": "markdown",
   "id": "bfa888bb",
   "metadata": {},
   "source": [
    "- int\n",
    "- int0, int8, int16, int32, int64\n",
    "- uint0, uint8, uint16, uint32, uint64\n",
    "- float\n",
    "- float_, float16, float32, float64, float128\n",
    "- complex\n",
    "- complex64, complex128, complex256\n",
    "- bool\n",
    "- bool_, bool8\n",
    "- longlong, longfloat, longdouble, longcomplex"
   ]
  },
  {
   "cell_type": "code",
   "execution_count": 31,
   "id": "403d3d45",
   "metadata": {
    "scrolled": true,
    "slideshow": {
     "slide_type": "fragment"
    }
   },
   "outputs": [
    {
     "name": "stdout",
     "output_type": "stream",
     "text": [
      "True\n",
      "True\n",
      "True\n"
     ]
    }
   ],
   "source": [
    "print(np.int0 is np.int64)\n",
    "print(np.float_ is np.float64)\n",
    "print(np.bool_ is np.bool8)"
   ]
  },
  {
   "cell_type": "code",
   "execution_count": 32,
   "id": "74d42cc0",
   "metadata": {
    "scrolled": false,
    "slideshow": {
     "slide_type": "subslide"
    }
   },
   "outputs": [
    {
     "name": "stderr",
     "output_type": "stream",
     "text": [
      "C:\\Users\\Radosław\\AppData\\Local\\Temp\\ipykernel_19380\\1713624351.py:1: DeprecationWarning: `np.int` is a deprecated alias for the builtin `int`. To silence this warning, use `int` by itself. Doing this will not modify any behavior and is safe. When replacing `np.int`, you may wish to use e.g. `np.int64` or `np.int32` to specify the precision. If you wish to review your current use, check the release note link for additional information.\n",
      "Deprecated in NumPy 1.20; for more details and guidance: https://numpy.org/devdocs/release/1.20.0-notes.html#deprecations\n",
      "  np.int is int\n"
     ]
    },
    {
     "data": {
      "text/plain": [
       "True"
      ]
     },
     "execution_count": 32,
     "metadata": {},
     "output_type": "execute_result"
    }
   ],
   "source": [
    "np.int is int"
   ]
  },
  {
   "cell_type": "code",
   "execution_count": 34,
   "id": "7d3d494f",
   "metadata": {
    "scrolled": true,
    "slideshow": {
     "slide_type": "subslide"
    }
   },
   "outputs": [
    {
     "ename": "OverflowError",
     "evalue": "Python int too large to convert to C long",
     "output_type": "error",
     "traceback": [
      "\u001b[1;31m---------------------------------------------------------------------------\u001b[0m",
      "\u001b[1;31mOverflowError\u001b[0m                             Traceback (most recent call last)",
      "Cell \u001b[1;32mIn [34], line 1\u001b[0m\n\u001b[1;32m----> 1\u001b[0m v[\u001b[39m1\u001b[39m] \u001b[39m=\u001b[39m \u001b[39m2\u001b[39m\u001b[39m*\u001b[39m\u001b[39m*\u001b[39m\u001b[39m64\u001b[39m \u001b[39m# ograniczenie C, dostajemy błąd przepełnienia\u001b[39;00m\n\u001b[0;32m      2\u001b[0m \u001b[39mprint\u001b[39m(v)\n",
      "\u001b[1;31mOverflowError\u001b[0m: Python int too large to convert to C long"
     ]
    }
   ],
   "source": [
    "v[1] = 2**64 # ograniczenie C, dostajemy błąd przepełnienia\n",
    "print(v)"
   ]
  },
  {
   "cell_type": "code",
   "execution_count": 36,
   "id": "c7642663",
   "metadata": {
    "slideshow": {
     "slide_type": "subslide"
    }
   },
   "outputs": [
    {
     "data": {
      "text/plain": [
       "dtype('int32')"
      ]
     },
     "execution_count": 36,
     "metadata": {},
     "output_type": "execute_result"
    }
   ],
   "source": [
    "v.dtype # jaki typ danych przechowuje macierz"
   ]
  },
  {
   "cell_type": "code",
   "execution_count": 37,
   "id": "232b772f",
   "metadata": {
    "slideshow": {
     "slide_type": "fragment"
    }
   },
   "outputs": [
    {
     "data": {
      "text/plain": [
       "array([[3.+0.j, 3.+0.j],\n",
       "       [3.+0.j, 3.+0.j]], dtype=complex64)"
      ]
     },
     "execution_count": 37,
     "metadata": {},
     "output_type": "execute_result"
    }
   ],
   "source": [
    "np.full((2, 2), 3, dtype=np.complex64)"
   ]
  },
  {
   "cell_type": "code",
   "execution_count": 38,
   "id": "fa50ab2e",
   "metadata": {
    "slideshow": {
     "slide_type": "subslide"
    }
   },
   "outputs": [
    {
     "name": "stdout",
     "output_type": "stream",
     "text": [
      "<U11\n",
      "['1' '3' 'hello']\n"
     ]
    }
   ],
   "source": [
    "v = np.array([1, 3, \"hello\"])\n",
    "print(v.dtype) # znjaduje wspólny typ danych. Wynik struktura unicode 11 znaków \n",
    "print(v)"
   ]
  },
  {
   "cell_type": "code",
   "execution_count": 39,
   "id": "1d288c7b",
   "metadata": {
    "slideshow": {
     "slide_type": "fragment"
    }
   },
   "outputs": [
    {
     "name": "stdout",
     "output_type": "stream",
     "text": [
      "['1' '4' 'hello']\n"
     ]
    }
   ],
   "source": [
    "v[1] = 4 # konwersja jest możliwa, więc działa\n",
    "print(v)"
   ]
  },
  {
   "cell_type": "code",
   "execution_count": 40,
   "id": "a34f04c7",
   "metadata": {
    "slideshow": {
     "slide_type": "subslide"
    }
   },
   "outputs": [
    {
     "name": "stdout",
     "output_type": "stream",
     "text": [
      "[1 3 2]\n"
     ]
    }
   ],
   "source": [
    "v = np.array([1, 3, 2])\n",
    "print(v)"
   ]
  },
  {
   "cell_type": "code",
   "execution_count": 42,
   "id": "44f0b5c8",
   "metadata": {
    "slideshow": {
     "slide_type": "-"
    }
   },
   "outputs": [
    {
     "ename": "ValueError",
     "evalue": "invalid literal for int() with base 10: 'hello'",
     "output_type": "error",
     "traceback": [
      "\u001b[1;31m---------------------------------------------------------------------------\u001b[0m",
      "\u001b[1;31mValueError\u001b[0m                                Traceback (most recent call last)",
      "Cell \u001b[1;32mIn [42], line 1\u001b[0m\n\u001b[1;32m----> 1\u001b[0m v[\u001b[39m1\u001b[39m] \u001b[39m=\u001b[39m \u001b[39m\"\u001b[39m\u001b[39mhello\u001b[39m\u001b[39m\"\u001b[39m \u001b[39m# konwersja nie jest możliwa, błąd podczas próby konwersji hello na int \u001b[39;00m\n\u001b[0;32m      2\u001b[0m \u001b[39mprint\u001b[39m(v)\n",
      "\u001b[1;31mValueError\u001b[0m: invalid literal for int() with base 10: 'hello'"
     ]
    }
   ],
   "source": [
    "v[1] = \"hello\" # konwersja nie jest możliwa, błąd podczas próby konwersji hello na int \n",
    "print(v)"
   ]
  },
  {
   "cell_type": "markdown",
   "id": "001802ca",
   "metadata": {
    "slideshow": {
     "slide_type": "slide"
    }
   },
   "source": [
    "### Operacje na macierzach"
   ]
  },
  {
   "cell_type": "code",
   "execution_count": 43,
   "id": "324f1fb6",
   "metadata": {
    "slideshow": {
     "slide_type": "subslide"
    }
   },
   "outputs": [
    {
     "data": {
      "text/plain": [
       "array([[1., 0., 0., 0.],\n",
       "       [0., 1., 0., 0.],\n",
       "       [0., 0., 1., 0.],\n",
       "       [0., 0., 0., 1.]])"
      ]
     },
     "execution_count": 43,
     "metadata": {},
     "output_type": "execute_result"
    }
   ],
   "source": [
    "M # dla przypomienia"
   ]
  },
  {
   "cell_type": "code",
   "execution_count": 44,
   "id": "147615ab",
   "metadata": {},
   "outputs": [
    {
     "data": {
      "text/plain": [
       "array([[  0,   1,   2,   3],\n",
       "       [  4, 100,   6,   7],\n",
       "       [  8, 200, 102,  11],\n",
       "       [ 12,  13,  14,  15]])"
      ]
     },
     "execution_count": 44,
     "metadata": {},
     "output_type": "execute_result"
    }
   ],
   "source": [
    "A # dla przypomienia"
   ]
  },
  {
   "cell_type": "code",
   "execution_count": 45,
   "id": "6ad08964",
   "metadata": {
    "slideshow": {
     "slide_type": "subslide"
    }
   },
   "outputs": [
    {
     "data": {
      "text/plain": [
       "array([[2., 1., 1., 1.],\n",
       "       [1., 2., 1., 1.],\n",
       "       [1., 1., 2., 1.],\n",
       "       [1., 1., 1., 2.]])"
      ]
     },
     "execution_count": 45,
     "metadata": {},
     "output_type": "execute_result"
    }
   ],
   "source": [
    "M + 1"
   ]
  },
  {
   "cell_type": "code",
   "execution_count": 46,
   "id": "8984e963",
   "metadata": {
    "slideshow": {
     "slide_type": "fragment"
    }
   },
   "outputs": [
    {
     "data": {
      "text/plain": [
       "array([[2., 0., 0., 0.],\n",
       "       [0., 2., 0., 0.],\n",
       "       [0., 0., 2., 0.],\n",
       "       [0., 0., 0., 2.]])"
      ]
     },
     "execution_count": 46,
     "metadata": {},
     "output_type": "execute_result"
    }
   ],
   "source": [
    "2 * M"
   ]
  },
  {
   "cell_type": "code",
   "execution_count": 47,
   "id": "10328ae9",
   "metadata": {
    "slideshow": {
     "slide_type": "subslide"
    }
   },
   "outputs": [
    {
     "data": {
      "text/plain": [
       "array([[  1.,   1.,   2.,   3.],\n",
       "       [  4., 101.,   6.,   7.],\n",
       "       [  8., 200., 103.,  11.],\n",
       "       [ 12.,  13.,  14.,  16.]])"
      ]
     },
     "execution_count": 47,
     "metadata": {},
     "output_type": "execute_result"
    }
   ],
   "source": [
    "M + A"
   ]
  },
  {
   "cell_type": "code",
   "execution_count": 48,
   "id": "d1711036",
   "metadata": {
    "slideshow": {
     "slide_type": "fragment"
    }
   },
   "outputs": [
    {
     "data": {
      "text/plain": [
       "array([[  0.,   0.,   0.,   0.],\n",
       "       [  0., 100.,   0.,   0.],\n",
       "       [  0.,   0., 102.,   0.],\n",
       "       [  0.,   0.,   0.,  15.]])"
      ]
     },
     "execution_count": 48,
     "metadata": {},
     "output_type": "execute_result"
    }
   ],
   "source": [
    "M * A # element po elemencie jak wyżej dodawanie "
   ]
  },
  {
   "cell_type": "code",
   "execution_count": 50,
   "id": "2d02882f",
   "metadata": {
    "slideshow": {
     "slide_type": "subslide"
    }
   },
   "outputs": [
    {
     "data": {
      "text/plain": [
       "array([[  0.,   1.,   2.,   3.],\n",
       "       [  4., 100.,   6.,   7.],\n",
       "       [  8., 200., 102.,  11.],\n",
       "       [ 12.,  13.,  14.,  15.]])"
      ]
     },
     "execution_count": 50,
     "metadata": {},
     "output_type": "execute_result"
    }
   ],
   "source": [
    "M.dot(A) # mnożenie macierzowe "
   ]
  },
  {
   "cell_type": "code",
   "execution_count": 51,
   "id": "411fb07d",
   "metadata": {
    "scrolled": true,
    "slideshow": {
     "slide_type": "fragment"
    }
   },
   "outputs": [
    {
     "data": {
      "text/plain": [
       "array([[  0.,   1.,   2.,   3.],\n",
       "       [  4., 100.,   6.,   7.],\n",
       "       [  8., 200., 102.,  11.],\n",
       "       [ 12.,  13.,  14.,  15.]])"
      ]
     },
     "execution_count": 51,
     "metadata": {},
     "output_type": "execute_result"
    }
   ],
   "source": [
    "M @ A # to samo co wyżej"
   ]
  },
  {
   "cell_type": "code",
   "execution_count": 53,
   "id": "6a72ac50",
   "metadata": {
    "slideshow": {
     "slide_type": "subslide"
    }
   },
   "outputs": [
    {
     "data": {
      "text/plain": [
       "array([[  0,   4,   8,  12],\n",
       "       [  1, 100, 200,  13],\n",
       "       [  2,   6, 102,  14],\n",
       "       [  3,   7,  11,  15]])"
      ]
     },
     "execution_count": 53,
     "metadata": {},
     "output_type": "execute_result"
    }
   ],
   "source": [
    "A.T # transpozycja macierzy"
   ]
  },
  {
   "cell_type": "code",
   "execution_count": 54,
   "id": "b4d3fdc6",
   "metadata": {
    "slideshow": {
     "slide_type": "subslide"
    }
   },
   "outputs": [],
   "source": [
    "B = np.array([[1, 2, 3, 4]])"
   ]
  },
  {
   "cell_type": "code",
   "execution_count": 56,
   "id": "bbae36a2",
   "metadata": {
    "slideshow": {
     "slide_type": "subslide"
    }
   },
   "outputs": [
    {
     "data": {
      "text/plain": [
       "array([[2., 2., 3., 4.],\n",
       "       [1., 3., 3., 4.],\n",
       "       [1., 2., 4., 4.],\n",
       "       [1., 2., 3., 5.]])"
      ]
     },
     "execution_count": 56,
     "metadata": {},
     "output_type": "execute_result"
    }
   ],
   "source": [
    "M + B # B dodała sie do każdego wiersza"
   ]
  },
  {
   "cell_type": "code",
   "execution_count": 59,
   "id": "c150ef3d",
   "metadata": {
    "scrolled": false,
    "slideshow": {
     "slide_type": "fragment"
    }
   },
   "outputs": [
    {
     "data": {
      "text/plain": [
       "array([[2., 1., 1., 1.],\n",
       "       [2., 3., 2., 2.],\n",
       "       [3., 3., 4., 3.],\n",
       "       [4., 4., 4., 5.]])"
      ]
     },
     "execution_count": 59,
     "metadata": {},
     "output_type": "execute_result"
    }
   ],
   "source": [
    "M + B.T # B.T dodała sie do każdej kolumny. Zachdzi tutaj Broadcasting czyli takie uzupełnianie wierszy, koulumn do doprawnego dadawania itp.\n",
    "# Dla zainteresowanych Broadcasting: https://docs.scipy.org/doc/numpy/user/basics.broadcasting.html"
   ]
  },
  {
   "cell_type": "markdown",
   "id": "93de71e2",
   "metadata": {
    "slideshow": {
     "slide_type": "notes"
    }
   },
   "source": [
    "Operacje z przypisaniem też działają."
   ]
  },
  {
   "cell_type": "code",
   "execution_count": 60,
   "id": "a44716f6",
   "metadata": {
    "slideshow": {
     "slide_type": "subslide"
    }
   },
   "outputs": [],
   "source": [
    "A[0, 1] = 0"
   ]
  },
  {
   "cell_type": "code",
   "execution_count": 62,
   "id": "d4e8207f",
   "metadata": {},
   "outputs": [
    {
     "data": {
      "text/plain": [
       "array([[False,  True, False, False],\n",
       "       [False, False, False, False],\n",
       "       [False, False, False, False],\n",
       "       [False, False, False, False]])"
      ]
     },
     "execution_count": 62,
     "metadata": {},
     "output_type": "execute_result"
    }
   ],
   "source": [
    "A == M  # nie używać w if'ach, element po elemencie"
   ]
  },
  {
   "cell_type": "code",
   "execution_count": 63,
   "id": "2c8b49af",
   "metadata": {
    "scrolled": true,
    "slideshow": {
     "slide_type": "fragment"
    }
   },
   "outputs": [
    {
     "ename": "ValueError",
     "evalue": "The truth value of an array with more than one element is ambiguous. Use a.any() or a.all()",
     "output_type": "error",
     "traceback": [
      "\u001b[1;31m---------------------------------------------------------------------------\u001b[0m",
      "\u001b[1;31mValueError\u001b[0m                                Traceback (most recent call last)",
      "Cell \u001b[1;32mIn [63], line 1\u001b[0m\n\u001b[1;32m----> 1\u001b[0m \u001b[39mif\u001b[39;00m A \u001b[39m==\u001b[39m M:\n\u001b[0;32m      2\u001b[0m     \u001b[39mprint\u001b[39m(\u001b[39m\"\u001b[39m\u001b[39mSą równe\u001b[39m\u001b[39m\"\u001b[39m)\n",
      "\u001b[1;31mValueError\u001b[0m: The truth value of an array with more than one element is ambiguous. Use a.any() or a.all()"
     ]
    }
   ],
   "source": [
    "if A == M:\n",
    "    print(\"Są równe\")"
   ]
  },
  {
   "cell_type": "code",
   "execution_count": 65,
   "id": "dc44818e",
   "metadata": {
    "scrolled": true,
    "slideshow": {
     "slide_type": "fragment"
    }
   },
   "outputs": [
    {
     "name": "stdout",
     "output_type": "stream",
     "text": [
      "False True\n"
     ]
    }
   ],
   "source": [
    "print(np.all(A == M), np.any(A == M)) # all sprawdza czy wszystkie elementy są równe, any sprawdza czy jakikolwiek element jest równe"
   ]
  },
  {
   "cell_type": "code",
   "execution_count": 66,
   "id": "582c110b",
   "metadata": {
    "slideshow": {
     "slide_type": "fragment"
    }
   },
   "outputs": [
    {
     "name": "stdout",
     "output_type": "stream",
     "text": [
      "False True\n"
     ]
    }
   ],
   "source": [
    "print((A == M).all(), (A == M).any())"
   ]
  },
  {
   "cell_type": "markdown",
   "id": "c386f03d",
   "metadata": {
    "slideshow": {
     "slide_type": "slide"
    }
   },
   "source": [
    "###  Wydajność"
   ]
  },
  {
   "cell_type": "code",
   "execution_count": 70,
   "id": "9f1a71a4",
   "metadata": {
    "slideshow": {
     "slide_type": "subslide"
    }
   },
   "outputs": [
    {
     "name": "stdout",
     "output_type": "stream",
     "text": [
      "[[       0        1        2 ...     9997     9998     9999]\n",
      " [   10000    10001    10002 ...    19997    19998    19999]\n",
      " [   20000    20001    20002 ...    29997    29998    29999]\n",
      " ...\n",
      " [99970000 99970001 99970002 ... 99979997 99979998 99979999]\n",
      " [99980000 99980001 99980002 ... 99989997 99989998 99989999]\n",
      " [99990000 99990001 99990002 ... 99999997 99999998 99999999]]\n"
     ]
    }
   ],
   "source": [
    "from itertools import product # implementuje iloczyn kartezjański zbiorów, umożliwa zapisanie w kompaktowy sposób pętli for\n",
    "import time\n",
    "\n",
    "SIZE = 10000 # tworzenie macierzy 10000x10000\n",
    "X = np.arange(SIZE**2).reshape((SIZE, SIZE))\n",
    "Y = np.arange(SIZE**2).reshape((SIZE, SIZE))\n",
    "print(X)"
   ]
  },
  {
   "cell_type": "code",
   "execution_count": 69,
   "id": "0e014396",
   "metadata": {
    "slideshow": {
     "slide_type": "subslide"
    }
   },
   "outputs": [
    {
     "name": "stdout",
     "output_type": "stream",
     "text": [
      "[[        0         2         4 ...     19994     19996     19998]\n",
      " [    20000     20002     20004 ...     39994     39996     39998]\n",
      " [    40000     40002     40004 ...     59994     59996     59998]\n",
      " ...\n",
      " [199940000 199940002 199940004 ... 199959994 199959996 199959998]\n",
      " [199960000 199960002 199960004 ... 199979994 199979996 199979998]\n",
      " [199980000 199980002 199980004 ... 199999994 199999996 199999998]]\n",
      "Run time = 65.31753635406494\n"
     ]
    }
   ],
   "source": [
    "start_time = time.time()\n",
    "for i, j in product(range(SIZE), range(SIZE)):\n",
    "    X[i, j] *= 2\n",
    "end_time = time.time()\n",
    "print(X)\n",
    "print(\"Run time = {}\".format(end_time - start_time))"
   ]
  },
  {
   "cell_type": "code",
   "execution_count": 71,
   "id": "80a1240a",
   "metadata": {
    "slideshow": {
     "slide_type": "fragment"
    }
   },
   "outputs": [
    {
     "name": "stdout",
     "output_type": "stream",
     "text": [
      "Run time = 0.14299964904785156\n"
     ]
    },
    {
     "data": {
      "text/plain": [
       "False"
      ]
     },
     "execution_count": 71,
     "metadata": {},
     "output_type": "execute_result"
    }
   ],
   "source": [
    "start_time = time.time()\n",
    "Y *= 2\n",
    "end_time = time.time()\n",
    "print(\"Run time = {}\".format(end_time - start_time))\n",
    "np.all(X == Y)"
   ]
  },
  {
   "cell_type": "markdown",
   "id": "b7ca3426",
   "metadata": {
    "slideshow": {
     "slide_type": "slide"
    }
   },
   "source": [
    "### Ciekawostki"
   ]
  },
  {
   "cell_type": "markdown",
   "id": "68f505c1",
   "metadata": {
    "slideshow": {
     "slide_type": "subslide"
    }
   },
   "source": [
    "https://docs.scipy.org/doc/numpy/user/quickstart.html#indexing-with-arrays-of-indices"
   ]
  },
  {
   "cell_type": "code",
   "execution_count": 72,
   "id": "2d31b628",
   "metadata": {},
   "outputs": [],
   "source": [
    "palette = np.array( [ [0,0,0],                # black\n",
    "                    [255,0,0],              # red\n",
    "                    [0,255,0],              # green\n",
    "                    [0,0,255],              # blue\n",
    "                    [255,255,255] ] )       # white\n",
    "\n",
    "                    # definiujemy paletę kolorów"
   ]
  },
  {
   "cell_type": "code",
   "execution_count": 73,
   "id": "d3d392ad",
   "metadata": {
    "slideshow": {
     "slide_type": "fragment"
    }
   },
   "outputs": [],
   "source": [
    "image = np.array( [ [ 0, 1, 2, 0 ],           # each value corresponds to a color in the palette\n",
    "                    [ 0, 3, 4, 0 ]  ] )\n",
    "\n",
    "                    # definiujemy obrazek"
   ]
  },
  {
   "cell_type": "code",
   "execution_count": 74,
   "id": "854843c2",
   "metadata": {
    "slideshow": {
     "slide_type": "fragment"
    }
   },
   "outputs": [
    {
     "data": {
      "text/plain": [
       "array([[[  0,   0,   0],\n",
       "        [255,   0,   0],\n",
       "        [  0, 255,   0],\n",
       "        [  0,   0,   0]],\n",
       "\n",
       "       [[  0,   0,   0],\n",
       "        [  0,   0, 255],\n",
       "        [255, 255, 255],\n",
       "        [  0,   0,   0]]])"
      ]
     },
     "execution_count": 74,
     "metadata": {},
     "output_type": "execute_result"
    }
   ],
   "source": [
    "palette[image]                            # the (2,4,3) color image\n",
    "# indeksując macierz image otrzymujemy macierz 2x4x3, gdzie każdy element to wektor koloru z palety, czyli obrazek w kolorze RGB"
   ]
  },
  {
   "cell_type": "markdown",
   "id": "5dbebd42",
   "metadata": {
    "slideshow": {
     "slide_type": "slide"
    }
   },
   "source": [
    "### Algebra liniowa"
   ]
  },
  {
   "cell_type": "code",
   "execution_count": 76,
   "id": "2572187f",
   "metadata": {
    "slideshow": {
     "slide_type": "subslide"
    }
   },
   "outputs": [
    {
     "name": "stdout",
     "output_type": "stream",
     "text": [
      "-2.0000000000000004\n"
     ]
    }
   ],
   "source": [
    "A = np.array([[1.0, 2], [3, 4]])\n",
    "print(np.linalg.det(A)) # wyznacznik macierzy"
   ]
  },
  {
   "cell_type": "code",
   "execution_count": 79,
   "id": "3f88434d",
   "metadata": {
    "slideshow": {
     "slide_type": "subslide"
    }
   },
   "outputs": [
    {
     "name": "stdout",
     "output_type": "stream",
     "text": [
      "[[-2.   1. ]\n",
      " [ 1.5 -0.5]]\n",
      "[[1.0000000e+00 0.0000000e+00]\n",
      " [8.8817842e-16 1.0000000e+00]]\n",
      "[[1.00000000e+00 0.00000000e+00]\n",
      " [1.11022302e-16 1.00000000e+00]]\n"
     ]
    }
   ],
   "source": [
    "B = np.linalg.inv(A) # znalezienie macierzy odwrotnej\n",
    "print(B)\n",
    "print(A.dot(B))\n",
    "print(B.dot(A)) # daje macierz jednostkową"
   ]
  },
  {
   "cell_type": "code",
   "execution_count": 80,
   "id": "7e6f5a7b",
   "metadata": {
    "slideshow": {
     "slide_type": "fragment"
    }
   },
   "outputs": [
    {
     "data": {
      "text/plain": [
       "(array([-0.37228132,  5.37228132]),\n",
       " array([[-0.82456484, -0.41597356],\n",
       "        [ 0.56576746, -0.90937671]]))"
      ]
     },
     "execution_count": 80,
     "metadata": {},
     "output_type": "execute_result"
    }
   ],
   "source": [
    "np.linalg.eig(A) # wartości własne wektorów"
   ]
  },
  {
   "cell_type": "code",
   "execution_count": 81,
   "id": "6609fef5",
   "metadata": {
    "slideshow": {
     "slide_type": "subslide"
    }
   },
   "outputs": [
    {
     "data": {
      "text/plain": [
       "['LinAlgError',\n",
       " '__all__',\n",
       " '__builtins__',\n",
       " '__cached__',\n",
       " '__doc__',\n",
       " '__file__',\n",
       " '__loader__',\n",
       " '__name__',\n",
       " '__package__',\n",
       " '__path__',\n",
       " '__spec__',\n",
       " '_umath_linalg',\n",
       " 'cholesky',\n",
       " 'cond',\n",
       " 'det',\n",
       " 'eig',\n",
       " 'eigh',\n",
       " 'eigvals',\n",
       " 'eigvalsh',\n",
       " 'inv',\n",
       " 'linalg',\n",
       " 'lstsq',\n",
       " 'matrix_power',\n",
       " 'matrix_rank',\n",
       " 'multi_dot',\n",
       " 'norm',\n",
       " 'pinv',\n",
       " 'qr',\n",
       " 'slogdet',\n",
       " 'solve',\n",
       " 'svd',\n",
       " 'tensorinv',\n",
       " 'tensorsolve',\n",
       " 'test']"
      ]
     },
     "execution_count": 81,
     "metadata": {},
     "output_type": "execute_result"
    }
   ],
   "source": [
    "dir(np.linalg)"
   ]
  },
  {
   "cell_type": "markdown",
   "id": "799e937f",
   "metadata": {
    "slideshow": {
     "slide_type": "slide"
    }
   },
   "source": [
    "### Losowość\n",
    "\n",
    "https://numpy.org/doc/stable/reference/random/generator.html#distributions"
   ]
  },
  {
   "cell_type": "code",
   "execution_count": 83,
   "id": "965231fc",
   "metadata": {
    "slideshow": {
     "slide_type": "subslide"
    }
   },
   "outputs": [
    {
     "data": {
      "text/plain": [
       "['__class__',\n",
       " '__delattr__',\n",
       " '__dir__',\n",
       " '__doc__',\n",
       " '__eq__',\n",
       " '__format__',\n",
       " '__ge__',\n",
       " '__getattribute__',\n",
       " '__getstate__',\n",
       " '__gt__',\n",
       " '__hash__',\n",
       " '__init__',\n",
       " '__init_subclass__',\n",
       " '__le__',\n",
       " '__lt__',\n",
       " '__ne__',\n",
       " '__new__',\n",
       " '__reduce__',\n",
       " '__reduce_ex__',\n",
       " '__repr__',\n",
       " '__setattr__',\n",
       " '__setstate__',\n",
       " '__sizeof__',\n",
       " '__str__',\n",
       " '__subclasshook__',\n",
       " '_bit_generator',\n",
       " '_poisson_lam_max',\n",
       " 'beta',\n",
       " 'binomial',\n",
       " 'bit_generator',\n",
       " 'bytes',\n",
       " 'chisquare',\n",
       " 'choice',\n",
       " 'dirichlet',\n",
       " 'exponential',\n",
       " 'f',\n",
       " 'gamma',\n",
       " 'geometric',\n",
       " 'gumbel',\n",
       " 'hypergeometric',\n",
       " 'integers',\n",
       " 'laplace',\n",
       " 'logistic',\n",
       " 'lognormal',\n",
       " 'logseries',\n",
       " 'multinomial',\n",
       " 'multivariate_hypergeometric',\n",
       " 'multivariate_normal',\n",
       " 'negative_binomial',\n",
       " 'noncentral_chisquare',\n",
       " 'noncentral_f',\n",
       " 'normal',\n",
       " 'pareto',\n",
       " 'permutation',\n",
       " 'permuted',\n",
       " 'poisson',\n",
       " 'power',\n",
       " 'random',\n",
       " 'rayleigh',\n",
       " 'shuffle',\n",
       " 'standard_cauchy',\n",
       " 'standard_exponential',\n",
       " 'standard_gamma',\n",
       " 'standard_normal',\n",
       " 'standard_t',\n",
       " 'triangular',\n",
       " 'uniform',\n",
       " 'vonmises',\n",
       " 'wald',\n",
       " 'weibull',\n",
       " 'zipf']"
      ]
     },
     "execution_count": 83,
     "metadata": {},
     "output_type": "execute_result"
    }
   ],
   "source": [
    "dir(np.random.default_rng()) # wiele rozkladów prawdopodobieństwa"
   ]
  },
  {
   "cell_type": "code",
   "execution_count": 84,
   "id": "e132188b",
   "metadata": {
    "slideshow": {
     "slide_type": "subslide"
    }
   },
   "outputs": [
    {
     "data": {
      "text/plain": [
       "array([3.86768128, 0.39868794, 0.75165338, 0.06059661, 1.57045777,\n",
       "       1.65934985, 0.43837895, 1.91390379, 2.04112768, 3.23627499,\n",
       "       2.08558501, 1.38988742, 0.1057689 , 0.60220177, 1.15923385,\n",
       "       2.33728007, 0.51603047, 1.06776412, 0.82483936, 1.28381185,\n",
       "       0.28104471, 3.95336328, 0.02168778, 1.91204286, 0.14418166,\n",
       "       1.26364433, 0.25042407, 0.7869649 , 1.32232202, 0.48380512,\n",
       "       2.02695324, 0.28861596, 2.92851804, 3.47300939, 1.81217327,\n",
       "       0.34521705, 0.13181208, 0.07517358, 0.00920027, 0.22304721,\n",
       "       0.41655159, 0.84157866, 3.41389438, 0.8851338 , 0.26092205,\n",
       "       1.2929252 , 0.8912304 , 0.58886367, 0.24114972, 0.25278624,\n",
       "       0.21696978, 0.90446983, 0.03468641, 1.06656939, 0.06775867,\n",
       "       0.56165026, 0.23033269, 2.06433295, 0.17576101, 0.04520967,\n",
       "       1.5635382 , 6.82197086, 0.7430024 , 1.07920236, 0.38670188,\n",
       "       2.11615594, 0.34721814, 1.82827638, 2.5977513 , 0.25742607,\n",
       "       0.49772289, 0.51219523, 4.45633838, 2.56482445, 0.7451263 ,\n",
       "       1.9817258 , 0.163821  , 1.1153784 , 0.04345476, 0.41207319,\n",
       "       2.08279036, 0.29632666, 0.06292778, 0.48413542, 1.39420627,\n",
       "       1.83765344, 0.56501914, 0.40763649, 0.59965726, 0.15061398,\n",
       "       0.37730593, 0.13822203, 1.99152938, 2.02786472, 0.4409499 ,\n",
       "       7.78250359, 1.06738034, 1.79325375, 0.06389426, 1.20049699])"
      ]
     },
     "execution_count": 84,
     "metadata": {},
     "output_type": "execute_result"
    }
   ],
   "source": [
    "np.random.default_rng().gamma(1, 1, 100)"
   ]
  },
  {
   "cell_type": "markdown",
   "id": "7ded3329",
   "metadata": {
    "slideshow": {
     "slide_type": "skip"
    }
   },
   "source": [
    "Lektura dodatkowa:\n",
    " - http://cs231n.github.io/python-numpy-tutorial/  -> sekcja Numpy\n",
    " - https://docs.scipy.org/doc/numpy/user/quickstart.html\n",
    " - https://pythongeeks.org/numpy-in-python/"
   ]
  }
 ],
 "metadata": {
  "celltoolbar": "Slideshow",
  "kernelspec": {
   "display_name": "Python 3",
   "language": "python",
   "name": "python3"
  },
  "language_info": {
   "codemirror_mode": {
    "name": "ipython",
    "version": 3
   },
   "file_extension": ".py",
   "mimetype": "text/x-python",
   "name": "python",
   "nbconvert_exporter": "python",
   "pygments_lexer": "ipython3",
   "version": "3.10.9"
  },
  "vscode": {
   "interpreter": {
    "hash": "d5a4eec0f89c02024410392738afe4e55f5cd470d4beb3f4f756e4a1d55a9a27"
   }
  }
 },
 "nbformat": 4,
 "nbformat_minor": 5
}
