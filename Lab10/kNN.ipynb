{
 "cells": [
  {
   "cell_type": "markdown",
   "id": "bb5f388b",
   "metadata": {
    "slideshow": {
     "slide_type": "slide"
    }
   },
   "source": [
    "# Języki i Biblioteki Analizy Danych\n",
    "## Laboratorium 9.: Algorytm kNN\n",
    "#### mgr inż. Zbigniew Kaleta"
   ]
  },
  {
   "cell_type": "markdown",
   "id": "1808dfb6",
   "metadata": {
    "slideshow": {
     "slide_type": "subslide"
    }
   },
   "source": [
    "Algorytm k najbliższych sąsiadów (ang. k-nearest neighbors; kNN)\n",
    " - jeden z najprostszych i najbardziej intuicyjnych algorytmów uczenia maszynowego\n",
    " - etap \"treningu\" polega po prostu na zapamiętaniu wszystkich przypadków uczących"
   ]
  },
  {
   "cell_type": "markdown",
   "id": "166dbdab",
   "metadata": {
    "slideshow": {
     "slide_type": "subslide"
    }
   },
   "source": [
    "Wymaga:\n",
    " - ustalenia parametru k\n",
    " - ustalenia metryki w przestrzeni obserwacji"
   ]
  },
  {
   "cell_type": "markdown",
   "id": "73922d1c",
   "metadata": {
    "slideshow": {
     "slide_type": "subslide"
    }
   },
   "source": [
    "Etap predykcji polega na obliczeniu odległości przypadku badanego do wszystkich przypadków uczących.\n",
    "\n",
    "Następnie spośród wszystkich przypadków uczących wybieramy k najbliższych w sensie wybranej metryki.\n",
    "\n",
    "Badany przypadek otrzymuje taką etykietę, jaka dominuje wśród wybranych w poprzednim kroku przypadków."
   ]
  },
  {
   "cell_type": "markdown",
   "id": "782f4786",
   "metadata": {
    "slideshow": {
     "slide_type": "slide"
    }
   },
   "source": [
    "Numer | Wzrost [m] | Waga [kg] | Ocena\n",
    "---|---|---|:---:\n",
    "0 | 1.60 |  70 | overweight\n",
    "1 | 1.67 |  50 | underweight\n",
    "2 | 1.86 |  76 | ok\n",
    "3 | 1.90 |  47 | underweight\n",
    "4 | 1.78 |  58 | ok\n",
    "5 | 1.62 |  47 | underweight\n",
    "6 | 1.77 |  63 | ok\n",
    "7 | 1.79 |  61 | ok\n",
    "8 | 1.61 |  78 | overweight\n",
    "9 | 1.64 |  50 | ok\n",
    "10 | 1.77 |  78 | ok\n",
    "11 | 1.66 |  55 | ok\n",
    "12 | 1.56 |  80 | overweight\n",
    "13 | 1.56 |  65 | overweight\n",
    "14 | 1.75 |  60 | ok\n",
    "15 | 1.59 |  56 | ok\n",
    "16 | 1.88 |  53 | underweight\n",
    "17 | 1.60 |  62 | ok\n",
    "18 | 1.50 |  58 | overweight\n",
    "19 | 1.72 |  50 | underweight\n",
    "20 | 1.61 |  56 | ok\n",
    "21 | 1.83 |  41 | underweight\n",
    "22 | 1.67 |  70 | overweight\n",
    "23 | 1.69 |  46 | underweight\n",
    "24 | 1.82 |  67 | ok\n",
    "25 | 1.88 |  76 | ok\n",
    "26 | 1.57 |  77 | overweight\n",
    "27 | 1.81 |  45 | underweight\n",
    "28 | 1.65 |  71 | overweight\n",
    "29 | 1.53 |  80 | overweight"
   ]
  },
  {
   "cell_type": "markdown",
   "id": "7c04f82e",
   "metadata": {
    "slideshow": {
     "slide_type": "subslide"
    }
   },
   "source": [
    "Przypadek testowy: wzrost = 1.68 m, waga = 51 kg"
   ]
  },
  {
   "cell_type": "markdown",
   "id": "ba82592d",
   "metadata": {
    "slideshow": {
     "slide_type": "fragment"
    }
   },
   "source": [
    "Najbliżsi sąsiedzi: próbki 19 (niedowaga), 1 (niedowaga), 9 (ok), 16 (niedowaga), 11 (ok)"
   ]
  },
  {
   "cell_type": "markdown",
   "id": "2439a2cb",
   "metadata": {
    "slideshow": {
     "slide_type": "fragment"
    }
   },
   "source": [
    "Czy to są dobrze przygotowane dane?"
   ]
  },
  {
   "cell_type": "markdown",
   "id": "7ded3329",
   "metadata": {
    "slideshow": {
     "slide_type": "skip"
    }
   },
   "source": [
    "Lektura dodatkowa:\n",
    " - https://www.ibm.com/topics/knn\n",
    " - https://en.wikipedia.org/wiki/K-nearest_neighbors_algorithm"
   ]
  }
 ],
 "metadata": {
  "celltoolbar": "Slideshow",
  "kernelspec": {
   "display_name": "voicelab",
   "language": "python",
   "name": "voicelab"
  },
  "language_info": {
   "codemirror_mode": {
    "name": "ipython",
    "version": 3
   },
   "file_extension": ".py",
   "mimetype": "text/x-python",
   "name": "python",
   "nbconvert_exporter": "python",
   "pygments_lexer": "ipython3",
   "version": "3.10.6"
  }
 },
 "nbformat": 4,
 "nbformat_minor": 5
}
