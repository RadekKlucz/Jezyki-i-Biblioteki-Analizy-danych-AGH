{
 "cells": [
  {
   "cell_type": "markdown",
   "metadata": {
    "slideshow": {
     "slide_type": "slide"
    }
   },
   "source": [
    "# Języki i Biblioteki Analizy Danych\n",
    "\n",
    "## Laboratorium 2.: Dekompozycja kodu\n",
    "\n",
    "#### mgr inż. Zbigniew Kaleta"
   ]
  },
  {
   "cell_type": "markdown",
   "metadata": {
    "slideshow": {
     "slide_type": "slide"
    }
   },
   "source": [
    "Dekompozycja kodu to wszystko, co pozwala nam tworzyć kod modułowy, a nie monolityczny.\n",
    "\n",
    "Cele dekompozycji:\n",
    "- wielokrotne użycie kodu (raz \"tłumaczymy\" komputerowi, jak się liczy silnię i później możemy ją liczyć dowolnie dużo razy)\n",
    "- mniejszy rozmiar kodu (wynika wprost z poprzedniego), więc łatwiej się w nim połapać\n",
    "- wyższy poziom abstrakcji - łatwiej zdefiniować skomplikowaną operację mówiąc językiem operacji trochę prostszych, niż operacji elementarnych\n"
   ]
  },
  {
   "cell_type": "markdown",
   "metadata": {},
   "source": [
    "Radek: Czyli po prostu uporządkowanie sobie kodu żeby to było czytelne i nie było niepotrzebie powtarzane "
   ]
  },
  {
   "cell_type": "markdown",
   "metadata": {
    "slideshow": {
     "slide_type": "skip"
    }
   },
   "source": [
    "Co robi poniższy program?"
   ]
  },
  {
   "cell_type": "code",
   "execution_count": 1,
   "metadata": {
    "slideshow": {
     "slide_type": "slide"
    }
   },
   "outputs": [
    {
     "name": "stdout",
     "output_type": "stream",
     "text": [
      "[1.0, 4.0, 6.0, 4.0, 1.0]\n"
     ]
    }
   ],
   "source": [
    "n = 4\n",
    "result = []\n",
    "for k in range(n + 1):\n",
    "    numerator = 1\n",
    "    denominator1 = 1\n",
    "    denominator2 = 1\n",
    "    for i in range(2, n + 1):\n",
    "        numerator *= i\n",
    "    for i in range(2, k + 1):\n",
    "        denominator1 *= i\n",
    "    for i in range(2, n - k + 1):\n",
    "        denominator2 *= i\n",
    "    result += [numerator / (denominator1 * denominator2)]\n",
    "\n",
    "print(result)"
   ]
  },
  {
   "cell_type": "markdown",
   "metadata": {
    "slideshow": {
     "slide_type": "skip"
    }
   },
   "source": [
    "A ten?"
   ]
  },
  {
   "cell_type": "code",
   "execution_count": 2,
   "metadata": {
    "slideshow": {
     "slide_type": "slide"
    }
   },
   "outputs": [
    {
     "name": "stdout",
     "output_type": "stream",
     "text": [
      "[1.0, 4.0, 6.0, 4.0, 1.0]\n"
     ]
    }
   ],
   "source": [
    "def factorial(n):  # silnia\n",
    "    res = 1\n",
    "    for k in range(2, n + 1):\n",
    "        res *= k\n",
    "    return res\n",
    "\n",
    "def newton(n, k):\n",
    "    return factorial(n) / (factorial(k) * factorial(n - k))\n",
    "\n",
    "def pascal_triangle(n):\n",
    "    result = []\n",
    "    for k in range(n + 1):\n",
    "        result += [newton(n, k)]\n",
    "    return result\n",
    "\n",
    "print(pascal_triangle(4))"
   ]
  },
  {
   "cell_type": "markdown",
   "metadata": {
    "slideshow": {
     "slide_type": "slide"
    }
   },
   "source": [
    "$ (a + b)^n = \\Sigma_{k=0}^n {n \\choose k} a^k b^{n-k} $"
   ]
  },
  {
   "cell_type": "markdown",
   "metadata": {
    "slideshow": {
     "slide_type": "notes"
    }
   },
   "source": [
    "Jak widać drugi program jest akurat dłuższy o 1 linię, ale dużo łatwiejszy w zrozumieniu.\n",
    "\n",
    "Im większy im bardziej skomplikowany program tym różnica w czytelności większa, a długość programów monolitycznych rośnie dużo szybciej niż modułowych."
   ]
  },
  {
   "cell_type": "markdown",
   "metadata": {
    "slideshow": {
     "slide_type": "slide"
    }
   },
   "source": [
    "Narzędzia dekompozycji kodu:\n",
    "- funkcje\n",
    "- klasy (więcej na lab. 5. i 7.)\n",
    "- moduły (więcej na lab. 4. i 10.)\n",
    "- pakiety (więcej na lab. 10.) - to jest folder z modułami wraz ze szczególnym plikiem init"
   ]
  },
  {
   "cell_type": "markdown",
   "metadata": {
    "slideshow": {
     "slide_type": "notes"
    }
   },
   "source": [
    "Funkcje - wydzielone, parametryzowane fragmenty kodu, służące do wielokrotnego wykorzystania\n",
    "\n",
    "Klasy - szablony obiektów\n",
    "\n",
    "Obiekty - grupują dane (atrybuty) i wykonywane na nich operacje (metody)\n",
    "\n",
    "Moduły - zestawy funkcji lub klas (lub = or); w uproszczeniu - plik `.py`\n",
    "\n",
    "Pakiety - zastawy modułów i pakietów (tak, to jest definicja rekurencyjna); w uproszczeniu - katalog z plikami `.py`, zawierający plik `__init__.py`"
   ]
  },
  {
   "cell_type": "markdown",
   "metadata": {
    "slideshow": {
     "slide_type": "slide"
    }
   },
   "source": [
    "Metody pisania kodu:\n",
    "- top-down - od ogółu do szczegółu - piszemy główną funkcję programu przy pomocy funkcji poziomu niższego o 1 (mowa o poziomie abstrakcji), nie przejmując się tym, że one jeszcze nie są zdefiniowane; następnie uzupełniamy brakujące funkcje, za każdym razem schodząc o 1 poziom - czyli wpierw definiujemy funkcje main(), a później uzupełniamy o kolejne funkcje, które będą robić coś konkretnego. To podejście stosuje się na etapie konstruowania projektu, przed pisaniem\n",
    "\n",
    "\n",
    "- bottom-up - odwrotnie - najpierw definiujemy wszystkie funkcje, które uważamy, że będą potrzebne, a które jesteśmy w stanie zdefiniować, a później z nich składamy funkcje bardziej skomplikowane - zaczynamy od małych konkretnych funkcji a kończymy na main(). Podejście stosowane podczas pisania kodu\n",
    "\n",
    "Często system projektuje się z góry na dół, a implementuje z dołu do góry (czemu? odpowiedź na następnym laboratorium)."
   ]
  },
  {
   "cell_type": "markdown",
   "metadata": {
    "slideshow": {
     "slide_type": "skip"
    }
   },
   "source": [
    "Lektura dodatkowa:\n",
    "\n",
    "- https://www.bbc.co.uk/bitesize/topics/zkcqn39/articles/z8ngr82\n",
    "- https://en.wikipedia.org/wiki/Decomposition_(computer_science)"
   ]
  }
 ],
 "metadata": {
  "celltoolbar": "Slideshow",
  "kernelspec": {
   "display_name": "Python 3.10.7 64-bit (microsoft store)",
   "language": "python",
   "name": "python3"
  },
  "language_info": {
   "codemirror_mode": {
    "name": "ipython",
    "version": 3
   },
   "file_extension": ".py",
   "mimetype": "text/x-python",
   "name": "python",
   "nbconvert_exporter": "python",
   "pygments_lexer": "ipython3",
   "version": "3.10.7"
  },
  "vscode": {
   "interpreter": {
    "hash": "d5a4eec0f89c02024410392738afe4e55f5cd470d4beb3f4f756e4a1d55a9a27"
   }
  }
 },
 "nbformat": 4,
 "nbformat_minor": 2
}
