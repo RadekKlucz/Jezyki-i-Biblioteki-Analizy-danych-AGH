{
 "cells": [
  {
   "cell_type": "markdown",
   "metadata": {
    "slideshow": {
     "slide_type": "slide"
    }
   },
   "source": [
    "# Języki i Biblioteki Analizy Danych\n",
    "\n",
    "## Laboratorium 2.: Wyjątki\n",
    "\n",
    "#### mgr inż. Zbigniew Kaleta"
   ]
  },
  {
   "cell_type": "markdown",
   "metadata": {
    "slideshow": {
     "slide_type": "subslide"
    }
   },
   "source": [
    "Wyjątki służą do __sygnalizacji__ sytuacji błędnej, awaryjnej, _wyjątkowej_.\n",
    "\n",
    "Jeśli w programie zdarzy się coś, co się zdarzyć nie powinno, to najprawdopodobniej nie da się kontynuować normalnego działania, bo będzie ono dawało błędne wyniki. Wtedy __rzucamy__ wyjątek.\n",
    "\n",
    "Rzucenie wyjątku przerywa normalne wykonanie programu."
   ]
  },
  {
   "cell_type": "markdown",
   "metadata": {
    "slideshow": {
     "slide_type": "subslide"
    }
   },
   "source": [
    "Przykłady sytuacji awaryjnych:\n",
    "- próba dzielenia przez 0\n",
    "- wyjście poza zakres tablicy\n",
    "- próba otwarcia nieistniejącego pliku\n",
    "- w miejscu gdzie spodziewaliśmy się liczby znaleźliśmy napis\n",
    "- brak miejsca na dysku"
   ]
  },
  {
   "cell_type": "markdown",
   "metadata": {
    "slideshow": {
     "slide_type": "subslide"
    }
   },
   "source": [
    "W niektórych sytuacjach Pythona sam sygnalizuje błąd wykonania przez rzucenie wyjątku."
   ]
  },
  {
   "cell_type": "code",
   "execution_count": 1,
   "metadata": {
    "slideshow": {
     "slide_type": "subslide"
    }
   },
   "outputs": [
    {
     "ename": "TypeError",
     "evalue": "unsupported operand type(s) for +: 'int' and 'str'",
     "output_type": "error",
     "traceback": [
      "\u001b[1;31m---------------------------------------------------------------------------\u001b[0m",
      "\u001b[1;31mTypeError\u001b[0m                                 Traceback (most recent call last)",
      "Cell \u001b[1;32mIn [1], line 1\u001b[0m\n\u001b[1;32m----> 1\u001b[0m \u001b[39m5\u001b[39m \u001b[39m+\u001b[39m \u001b[39m'\u001b[39m\u001b[39m5\u001b[39m\u001b[39m'\u001b[39m\n",
      "\u001b[1;31mTypeError\u001b[0m: unsupported operand type(s) for +: 'int' and 'str'"
     ]
    }
   ],
   "source": [
    "5 + '5'"
   ]
  },
  {
   "cell_type": "markdown",
   "metadata": {
    "slideshow": {
     "slide_type": "subslide"
    }
   },
   "source": [
    "W innych robimy to my"
   ]
  },
  {
   "cell_type": "code",
   "execution_count": 2,
   "metadata": {
    "scrolled": true,
    "slideshow": {
     "slide_type": "subslide"
    }
   },
   "outputs": [
    {
     "ename": "ValueError",
     "evalue": "Radius must be a positive number",
     "output_type": "error",
     "traceback": [
      "\u001b[1;31m---------------------------------------------------------------------------\u001b[0m",
      "\u001b[1;31mValueError\u001b[0m                                Traceback (most recent call last)",
      "Cell \u001b[1;32mIn [2], line 4\u001b[0m\n\u001b[0;32m      1\u001b[0m radius \u001b[39m=\u001b[39m \u001b[39m-\u001b[39m\u001b[39m1\u001b[39m\n\u001b[0;32m      3\u001b[0m \u001b[39mif\u001b[39;00m radius \u001b[39m<\u001b[39m\u001b[39m=\u001b[39m \u001b[39m0\u001b[39m:\n\u001b[1;32m----> 4\u001b[0m     \u001b[39mraise\u001b[39;00m \u001b[39mValueError\u001b[39;00m(\u001b[39m\"\u001b[39m\u001b[39mRadius must be a positive number\u001b[39m\u001b[39m\"\u001b[39m)\n",
      "\u001b[1;31mValueError\u001b[0m: Radius must be a positive number"
     ]
    }
   ],
   "source": [
    "radius = -1\n",
    "\n",
    "if radius <= 0:\n",
    "    raise ValueError(\"Radius must be a positive number\")"
   ]
  },
  {
   "cell_type": "code",
   "execution_count": 4,
   "metadata": {},
   "outputs": [
    {
     "ename": "ValueError",
     "evalue": "Low variable",
     "output_type": "error",
     "traceback": [
      "\u001b[1;31m---------------------------------------------------------------------------\u001b[0m",
      "\u001b[1;31mValueError\u001b[0m                                Traceback (most recent call last)",
      "Cell \u001b[1;32mIn [4], line 4\u001b[0m\n\u001b[0;32m      1\u001b[0m x \u001b[39m=\u001b[39m \u001b[39m2\u001b[39m\n\u001b[0;32m      3\u001b[0m \u001b[39mif\u001b[39;00m x \u001b[39m<\u001b[39m \u001b[39m4\u001b[39m:\n\u001b[1;32m----> 4\u001b[0m     \u001b[39mraise\u001b[39;00m \u001b[39mValueError\u001b[39;00m(\u001b[39m'\u001b[39m\u001b[39mLow variable\u001b[39m\u001b[39m'\u001b[39m)\n",
      "\u001b[1;31mValueError\u001b[0m: Low variable"
     ]
    }
   ],
   "source": [
    "x = 2\n",
    "\n",
    "if x < 4:\n",
    "    raise ValueError('Low variable') # The raise statement allows the programmer to force a specified exception to occur."
   ]
  },
  {
   "cell_type": "code",
   "execution_count": 5,
   "metadata": {},
   "outputs": [
    {
     "ename": "ValueError",
     "evalue": "Hello there!",
     "output_type": "error",
     "traceback": [
      "\u001b[1;31m---------------------------------------------------------------------------\u001b[0m",
      "\u001b[1;31mValueError\u001b[0m                                Traceback (most recent call last)",
      "Cell \u001b[1;32mIn [5], line 1\u001b[0m\n\u001b[1;32m----> 1\u001b[0m \u001b[39mraise\u001b[39;00m \u001b[39mValueError\u001b[39;00m(\u001b[39m'\u001b[39m\u001b[39mHello there!\u001b[39m\u001b[39m'\u001b[39m)\n",
      "\u001b[1;31mValueError\u001b[0m: Hello there!"
     ]
    }
   ],
   "source": [
    "raise ValueError('Hello there!')"
   ]
  },
  {
   "cell_type": "markdown",
   "metadata": {
    "slideshow": {
     "slide_type": "subslide"
    }
   },
   "source": [
    "Zdecydowana większość typów wyjątków w Pythonie ma nazwy kończące się słowem Error, a nie Exception. Nie istnieje rozróżnienie na błędy i wyjątki jak w Javie."
   ]
  },
  {
   "cell_type": "markdown",
   "metadata": {
    "slideshow": {
     "slide_type": "subslide"
    }
   },
   "source": [
    "Jeśli wyjątek nie zostanie __złapany__, to zakończy działanie programu z komunikatem o błędzie.\n",
    "\n",
    "Ponieważ taki komunikat jest mało czytelny dla użytkownika końcowego, zwykle chcemy wyjątek złapać i __obsłużyć__, nawet jeśli jedyne co zrobimy to wyświetlenie bardziej czytelnego komunikatu i zakończenie programu.\n",
    "\n",
    "Do łapania wyjątków w Pythonie służy konstrukcja try-except"
   ]
  },
  {
   "cell_type": "code",
   "execution_count": 6,
   "metadata": {
    "slideshow": {
     "slide_type": "subslide"
    }
   },
   "outputs": [
    {
     "name": "stdout",
     "output_type": "stream",
     "text": [
      "no-no\n"
     ]
    }
   ],
   "source": [
    "try:\n",
    "    5 + '5'\n",
    "except TypeError:\n",
    "    print('no-no')"
   ]
  },
  {
   "cell_type": "markdown",
   "metadata": {
    "slideshow": {
     "slide_type": "subslide"
    }
   },
   "source": [
    "Jeżeli w bloku try (bezpośrednio lub we wnętrzu wywołanej z niego funkcji) zostanie rzucony wyjątek, jego wykonanie natychmiast jest przerywane i jest wykonywany blok except, pasujący do typu rzuconego wyjątku."
   ]
  },
  {
   "cell_type": "code",
   "execution_count": 7,
   "metadata": {
    "slideshow": {
     "slide_type": "subslide"
    }
   },
   "outputs": [
    {
     "name": "stdout",
     "output_type": "stream",
     "text": [
      "no-no\n",
      "The end!\n"
     ]
    }
   ],
   "source": [
    "def foo():\n",
    "    5 + '5'\n",
    "    print(\"Hello\")\n",
    "    \n",
    "try:\n",
    "    foo()\n",
    "    print(\"world!\")\n",
    "except TypeError:\n",
    "    print('no-no')\n",
    "print(\"The end!\")"
   ]
  },
  {
   "cell_type": "markdown",
   "metadata": {
    "slideshow": {
     "slide_type": "subslide"
    }
   },
   "source": [
    "Proszę zauważyć, że żaden z komunikatów \"Hello\" ani \"world!\" nie został wypisany - wykonanie kodu w bloku try zostało przerwane i nie zostało wznowione."
   ]
  },
  {
   "cell_type": "markdown",
   "metadata": {
    "slideshow": {
     "slide_type": "subslide"
    }
   },
   "source": [
    "Czasami obiekt wyjątku zawiera jakieś dodatkowe informacje, po które chcemy sięgnąć, więc potrzebujemy dostępu do niego."
   ]
  },
  {
   "cell_type": "code",
   "execution_count": 8,
   "metadata": {
    "slideshow": {
     "slide_type": "subslide"
    }
   },
   "outputs": [
    {
     "name": "stdout",
     "output_type": "stream",
     "text": [
      "<class 'TypeError'> unsupported operand type(s) for +: 'int' and 'str'\n"
     ]
    }
   ],
   "source": [
    "try:\n",
    "    5 + '5'\n",
    "except TypeError as e:\n",
    "    print(type(e), e)"
   ]
  },
  {
   "cell_type": "markdown",
   "metadata": {
    "slideshow": {
     "slide_type": "subslide"
    }
   },
   "source": [
    "W Pythonie 2 to samo można było osiągąć przy pomocy innej składni:"
   ]
  },
  {
   "cell_type": "code",
   "execution_count": null,
   "metadata": {
    "slideshow": {
     "slide_type": "fragment"
    }
   },
   "outputs": [],
   "source": [
    "%%python2\n",
    "\n",
    "try:\n",
    "    [][0]\n",
    "except IndexError, e:\n",
    "    print(e)"
   ]
  },
  {
   "cell_type": "markdown",
   "metadata": {
    "slideshow": {
     "slide_type": "subslide"
    }
   },
   "source": [
    "Jeden blok try może mieć wiele bloków except, obsługujących wyjątki różnych typów."
   ]
  },
  {
   "cell_type": "code",
   "execution_count": 9,
   "metadata": {
    "slideshow": {
     "slide_type": "subslide"
    }
   },
   "outputs": [
    {
     "name": "stdout",
     "output_type": "stream",
     "text": [
      "it's only key error\n"
     ]
    }
   ],
   "source": [
    "try:\n",
    "    dict()[3]\n",
    "except TypeError as e:\n",
    "    print(type(e), e)\n",
    "except KeyError as e:\n",
    "    print(\"it's only key error\")"
   ]
  },
  {
   "cell_type": "markdown",
   "metadata": {
    "slideshow": {
     "slide_type": "subslide"
    }
   },
   "source": [
    "Jeżeli chcemy wyjątki kilku typów obsłużyć w ten sam sposób, możemy to zrobić przy pomocy jednego bloku except, wymieniając wszystkie obsługiwane typy w postaci krotki. W tym przypadku nawiasy wokół krotki są konieczne."
   ]
  },
  {
   "cell_type": "code",
   "execution_count": 10,
   "metadata": {
    "slideshow": {
     "slide_type": "subslide"
    }
   },
   "outputs": [
    {
     "name": "stdout",
     "output_type": "stream",
     "text": [
      "<class 'TypeError'> unsupported operand type(s) for +: 'int' and 'str'\n"
     ]
    }
   ],
   "source": [
    "try:\n",
    "    5 + '5'\n",
    "except (TypeError, KeyError) as e:\n",
    "    print(type(e), e)"
   ]
  },
  {
   "cell_type": "code",
   "execution_count": null,
   "metadata": {
    "slideshow": {
     "slide_type": "fragment"
    }
   },
   "outputs": [],
   "source": [
    "try:\n",
    "    5 + '5'\n",
    "except TypeError, KeyError as e:\n",
    "    print(type(e), e)"
   ]
  },
  {
   "cell_type": "markdown",
   "metadata": {
    "slideshow": {
     "slide_type": "subslide"
    }
   },
   "source": [
    "Można też deklarować własne typy wyjątków."
   ]
  },
  {
   "cell_type": "code",
   "execution_count": 12,
   "metadata": {
    "slideshow": {
     "slide_type": "subslide"
    }
   },
   "outputs": [
    {
     "name": "stdout",
     "output_type": "stream",
     "text": [
      "good good good\n"
     ]
    }
   ],
   "source": [
    "class WrongAnswerError(Exception): # zawsze musi być dziedziczenie klasy Exception dla nowych wyjątków\n",
    "    pass\n",
    "\n",
    "try:\n",
    "    raise WrongAnswerError('wrong wrong wrong!') # podnieś błąd \n",
    "except WrongAnswerError: # błąd podniesiony i wykonuje except\n",
    "    print('good good good')"
   ]
  },
  {
   "cell_type": "markdown",
   "metadata": {
    "slideshow": {
     "slide_type": "subslide"
    }
   },
   "source": [
    "Korzyści z własnych typów wyjątków:\n",
    "- możemy mu nadać nazwę oddającą charakter błędu (zamiast stosować jokera w postaci `ValueError`)\n",
    "- pozwalamy sobie na sygnalizowanie różnych błędów i obsługiwanie ich osobnymi blokami `except`\n",
    "\n",
    "Każdy wyjątek __musi__ dziedziczyć z klasy `BaseException`, a zwykle dziedziczy z `Exception` (`Exception` jest bezpośrednim potomkiem `BaseException`, więc wymóg dziedziczenia z `BaseException` jest tutaj spełniony)."
   ]
  },
  {
   "cell_type": "code",
   "execution_count": 15,
   "metadata": {
    "slideshow": {
     "slide_type": "subslide"
    }
   },
   "outputs": [
    {
     "ename": "A",
     "evalue": "a",
     "output_type": "error",
     "traceback": [
      "\u001b[1;31m---------------------------------------------------------------------------\u001b[0m",
      "\u001b[1;31mA\u001b[0m                                         Traceback (most recent call last)",
      "Cell \u001b[1;32mIn [15], line 4\u001b[0m\n\u001b[0;32m      1\u001b[0m \u001b[39mclass\u001b[39;00m \u001b[39mA\u001b[39;00m(\u001b[39mException\u001b[39;00m):\n\u001b[0;32m      2\u001b[0m     \u001b[39mpass\u001b[39;00m\n\u001b[1;32m----> 4\u001b[0m \u001b[39mraise\u001b[39;00m A(\u001b[39m'\u001b[39m\u001b[39ma\u001b[39m\u001b[39m'\u001b[39m)\n",
      "\u001b[1;31mA\u001b[0m: a"
     ]
    }
   ],
   "source": [
    "class A(Exception):\n",
    "    pass\n",
    "\n",
    "raise A('a')"
   ]
  },
  {
   "cell_type": "markdown",
   "metadata": {
    "slideshow": {
     "slide_type": "fragment"
    }
   },
   "source": [
    "exception Exception\n",
    "\n",
    "    All built-in, non-system-exiting exceptions are derived from this class. All user-defined exceptions should also be derived from this class."
   ]
  },
  {
   "cell_type": "markdown",
   "metadata": {
    "slideshow": {
     "slide_type": "subslide"
    }
   },
   "source": [
    "Blok `try` może także posiadać bloki `else` i `finally`.\n",
    "\n",
    "Blok `else` jest wykonywany bezpośrednio po bloku `try`, jeżeli wykonanie dojdzie normalnie do jego końca (czyli nie zostanie rzucony wyjątek, ani wykonany `return`).\n",
    "\n",
    "Blok `finally` jest wykonywany zawsze:\n",
    "- jeżeli w bloku `try` nie wystąpił wyjątek, to bezpośrednio po `try`, lub `else`\n",
    "- jeżeli wystąpił i został obsłużony w bloku `except`, to bezpośrednio po tym bloku `except`\n",
    "- jeżeli wystąpił i nie został obsłużony, to bezpośrednio po bloku `try`\n",
    "\n",
    "Blok `else` jest rzadko wykorzystywany - zwykle można osiągnąć ten sam skutek umieszczając kod po całej konstrukcji try-except.\n",
    "\n",
    "Po bloku `try` może być dowolnie dużo bloków `except` (każdy obsługujący inny typ wyjątku), jeden blok `else` i jeden blok `finally` (w tej kolejności), przy czym __musi__ wystąpić przynajmniej jeden `except` lub `finally`."
   ]
  },
  {
   "cell_type": "code",
   "execution_count": null,
   "metadata": {
    "slideshow": {
     "slide_type": "subslide"
    }
   },
   "outputs": [],
   "source": [
    "try:\n",
    "    pass\n",
    "except WrongAnswerError:\n",
    "    print('good good good')\n",
    "else:\n",
    "    print('Uhm...')\n",
    "finally:\n",
    "    print('bye!')"
   ]
  },
  {
   "cell_type": "markdown",
   "metadata": {
    "slideshow": {
     "slide_type": "subslide"
    }
   },
   "source": [
    "Uwaga na funkcje i instrukcję `return`: `return` powinien być albo w bloku `try`, albo `except`, albo `finally`, ale nigdy więcej niż w jednym z nich. Użycie kilku `return`'ów w różnych blokach jest formalnie poprawne, ale to piekło do debugowania.\n",
    "\n",
    "Analogicznie, należy unikać rzucania wyjątku w bloku `finally` czy `else`, choć to jest mniej problematyczne."
   ]
  },
  {
   "cell_type": "code",
   "execution_count": null,
   "metadata": {
    "slideshow": {
     "slide_type": "subslide"
    }
   },
   "outputs": [],
   "source": [
    "try:\n",
    "    pass\n",
    "except WrongAnswerError:\n",
    "    print('good good good')\n",
    "else:\n",
    "    raise WrongAnswerError('wrong wrong wrong!')\n",
    "finally:\n",
    "    print('bye!')"
   ]
  },
  {
   "cell_type": "markdown",
   "metadata": {
    "slideshow": {
     "slide_type": "subslide"
    }
   },
   "source": [
    "Typy wyjątków, które warto znać:\n",
    "- TypeError - Raised when an operation or function is applied to an object of inappropriate type. The associated value is a string giving details about the type mismatch.\n",
    "- ValueError - Raised when an operation or function receives an argument that has the right type but an inappropriate value, and the situation is not described by a more precise exception such as IndexError.\n",
    "- IndexError - Raised when a sequence subscript is out of range.\n",
    "- KeyError - Raised when a mapping (dictionary) key is not found in the set of existing keys.\n",
    "- NameError - Raised when a local or global name is not found. This applies only to unqualified names. The associated value is an error message that includes the name that could not be found\n",
    "- AttributeError - Raised when an attribute reference or assignment fails.\n",
    "- ImportError - Raised when the import statement has troubles trying to load a module. Also raised when the “from list” in from ... import has a name that cannot be found.\n",
    "\n",
    "[https://docs.python.org/3/library/exceptions.html#exception-hierarchy]"
   ]
  },
  {
   "cell_type": "markdown",
   "metadata": {
    "slideshow": {
     "slide_type": "slide"
    }
   },
   "source": [
    "## Jak wyglądał świat przed wynalezieniem wyjątków, czyli obsługa socketów w C"
   ]
  },
  {
   "cell_type": "raw",
   "metadata": {
    "slideshow": {
     "slide_type": "subslide"
    }
   },
   "source": [
    "#include <sys/socket.h>\n",
    "#include <sys/types.h>\n",
    "#include <netinet/in.h>\n",
    "#include <netdb.h>\n",
    "#include <stdio.h>\n",
    "#include <string.h>\n",
    "#include <stdlib.h>\n",
    "#include <unistd.h>\n",
    "#include <errno.h>\n",
    "#include <arpa/inet.h> \n",
    "\n",
    "int main(int argc, char *argv[]) {\n",
    "    int sockfd = 0, n = 0;\n",
    "    char recvBuff[1024];\n",
    "    struct sockaddr_in serv_addr; \n",
    "\n",
    "    if(argc != 2) {\n",
    "        printf(\"\\n Usage: %s <ip of server> \\n\",argv[0]);\n",
    "        return 1;\n",
    "    } \n",
    "\n",
    "    memset(recvBuff, '0',sizeof(recvBuff));\n",
    "    if((sockfd = socket(AF_INET, SOCK_STREAM, 0)) < 0) {\n",
    "        printf(\"\\n Error : Could not create socket \\n\");\n",
    "        return 1;\n",
    "    } \n",
    "\n",
    "    memset(&serv_addr, '0', sizeof(serv_addr)); \n",
    "\n",
    "    serv_addr.sin_family = AF_INET;\n",
    "    serv_addr.sin_port = htons(5000); \n",
    "\n",
    "    if(inet_pton(AF_INET, argv[1], &serv_addr.sin_addr)<=0) {\n",
    "        printf(\"\\n inet_pton error occured\\n\");\n",
    "        return 1;\n",
    "    } \n",
    "\n",
    "    if( connect(sockfd, (struct sockaddr *)&serv_addr, sizeof(serv_addr)) < 0) {\n",
    "       printf(\"\\n Error : Connect Failed \\n\");\n",
    "       return 1;\n",
    "    } \n",
    "\n",
    "    while ( (n = read(sockfd, recvBuff, sizeof(recvBuff)-1)) > 0) {\n",
    "        recvBuff[n] = 0;\n",
    "        if(fputs(recvBuff, stdout) == EOF) {\n",
    "            printf(\"\\n Error : Fputs error\\n\");\n",
    "        }\n",
    "    } \n",
    "\n",
    "    if(n < 0) {\n",
    "        printf(\"\\n Read error \\n\");\n",
    "    } \n",
    "\n",
    "    return 0;\n",
    "}"
   ]
  },
  {
   "cell_type": "markdown",
   "metadata": {},
   "source": [
    "Źródło: [https://www.thegeekstuff.com/2011/12/c-socket-programming/?utm_source=feedburner]\n",
    "\n",
    "Co robi powyższy kod? Obsługuje wyjątki w C "
   ]
  },
  {
   "cell_type": "markdown",
   "metadata": {
    "slideshow": {
     "slide_type": "slide"
    }
   },
   "source": [
    "## Asercje"
   ]
  },
  {
   "cell_type": "markdown",
   "metadata": {
    "slideshow": {
     "slide_type": "subslide"
    }
   },
   "source": [
    "Asercje są łatwym i wygodnym sposobem dodania kontroli poprawności działania do naszego kodu.\n",
    "Przyjmują postać: `assert <warunek, który oczekujemy, że będzie prawdziwy>, <komunikat dlaczego ma być prawdziwy>`\n",
    "\n",
    "Przykładowo zamiast przedstawionego wcześniej kodu:"
   ]
  },
  {
   "cell_type": "code",
   "execution_count": 16,
   "metadata": {
    "scrolled": false,
    "slideshow": {
     "slide_type": "subslide"
    }
   },
   "outputs": [
    {
     "ename": "ValueError",
     "evalue": "Radius must be a positive number",
     "output_type": "error",
     "traceback": [
      "\u001b[1;31m---------------------------------------------------------------------------\u001b[0m",
      "\u001b[1;31mValueError\u001b[0m                                Traceback (most recent call last)",
      "Cell \u001b[1;32mIn [16], line 4\u001b[0m\n\u001b[0;32m      1\u001b[0m radius \u001b[39m=\u001b[39m \u001b[39m-\u001b[39m\u001b[39m1\u001b[39m\n\u001b[0;32m      3\u001b[0m \u001b[39mif\u001b[39;00m radius \u001b[39m<\u001b[39m\u001b[39m=\u001b[39m \u001b[39m0\u001b[39m:\n\u001b[1;32m----> 4\u001b[0m     \u001b[39mraise\u001b[39;00m \u001b[39mValueError\u001b[39;00m(\u001b[39m\"\u001b[39m\u001b[39mRadius must be a positive number\u001b[39m\u001b[39m\"\u001b[39m)\n",
      "\u001b[1;31mValueError\u001b[0m: Radius must be a positive number"
     ]
    }
   ],
   "source": [
    "radius = -1\n",
    "\n",
    "if radius <= 0:\n",
    "    raise ValueError(\"Radius must be a positive number\")"
   ]
  },
  {
   "cell_type": "markdown",
   "metadata": {
    "slideshow": {
     "slide_type": "subslide"
    }
   },
   "source": [
    "Możemy napisać krócej:"
   ]
  },
  {
   "cell_type": "code",
   "execution_count": 17,
   "metadata": {
    "slideshow": {
     "slide_type": "fragment"
    }
   },
   "outputs": [
    {
     "ename": "AssertionError",
     "evalue": "Radius must be a positive number",
     "output_type": "error",
     "traceback": [
      "\u001b[1;31m---------------------------------------------------------------------------\u001b[0m",
      "\u001b[1;31mAssertionError\u001b[0m                            Traceback (most recent call last)",
      "Cell \u001b[1;32mIn [17], line 3\u001b[0m\n\u001b[0;32m      1\u001b[0m radius \u001b[39m=\u001b[39m \u001b[39m-\u001b[39m\u001b[39m1\u001b[39m\n\u001b[1;32m----> 3\u001b[0m \u001b[39massert\u001b[39;00m radius \u001b[39m>\u001b[39m \u001b[39m0\u001b[39m, \u001b[39m\"\u001b[39m\u001b[39mRadius must be a positive number\u001b[39m\u001b[39m\"\u001b[39m\n",
      "\u001b[1;31mAssertionError\u001b[0m: Radius must be a positive number"
     ]
    }
   ],
   "source": [
    "radius = -1\n",
    "\n",
    "assert radius > 0, \"Radius must be a positive number\""
   ]
  },
  {
   "cell_type": "markdown",
   "metadata": {
    "slideshow": {
     "slide_type": "subslide"
    }
   },
   "source": [
    "Najważniejsza różnica jest taka, że nie mamy możliwości wyboru typu wyjątku, jaki zostanie rzucony - zawsze będzie to `AssertionError`."
   ]
  },
  {
   "cell_type": "markdown",
   "metadata": {
    "slideshow": {
     "slide_type": "subslide"
    }
   },
   "source": [
    "Asercje służą przede wszystkim do sprawdzania poprawności argumentów wywołania funkcji, lub wyników pośrednich (jeżeli w kodzie jest błąd, który powoduje błędne wyniki, to używanie asercji pozwoli nam szybciej go wykryć i zawęzić obszar poszukiwań)."
   ]
  },
  {
   "cell_type": "markdown",
   "metadata": {
    "slideshow": {
     "slide_type": "subslide"
    }
   },
   "source": [
    "Technicznie `AssertionError` jest normalnym wyjątkiem."
   ]
  },
  {
   "cell_type": "code",
   "execution_count": 18,
   "metadata": {
    "slideshow": {
     "slide_type": "subslide"
    }
   },
   "outputs": [
    {
     "data": {
      "text/plain": [
       "(Exception,)"
      ]
     },
     "execution_count": 18,
     "metadata": {},
     "output_type": "execute_result"
    }
   ],
   "source": [
    "AssertionError.__bases__"
   ]
  },
  {
   "cell_type": "code",
   "execution_count": 19,
   "metadata": {
    "slideshow": {
     "slide_type": "fragment"
    }
   },
   "outputs": [],
   "source": [
    "try:\n",
    "    assert 0 > 1\n",
    "except:\n",
    "    pass"
   ]
  },
  {
   "cell_type": "markdown",
   "metadata": {
    "slideshow": {
     "slide_type": "slide"
    }
   },
   "source": [
    "## Zasady postępowania z wyjątkami"
   ]
  },
  {
   "cell_type": "markdown",
   "metadata": {
    "slideshow": {
     "slide_type": "subslide"
    }
   },
   "source": [
    "#### Blok except musi mieć możliwie specyficzny wyjątek"
   ]
  },
  {
   "cell_type": "markdown",
   "metadata": {},
   "source": [
    "Proszę __nigdy__ nie używać konstrukcji `except Exception:`, lub (jeszcze gorzej) `except:` (bez podanego typu wyjątku). \n",
    "\n",
    "Powoduje to wrzucenie wszystkich możliwych błędów do jednego worka, włącznie z `AssertionError`, `NameError` czy `KeyboardInterrupt` i ogromnie obniża czytelność kodu.\n",
    "\n",
    "A za rzucenie `Exception` powinni odbierać prawo wykonywania zawodu."
   ]
  },
  {
   "cell_type": "code",
   "execution_count": 20,
   "metadata": {
    "scrolled": true,
    "slideshow": {
     "slide_type": "subslide"
    }
   },
   "outputs": [
    {
     "name": "stdout",
     "output_type": "stream",
     "text": [
      "Caught\n"
     ]
    }
   ],
   "source": [
    "try:\n",
    "    raise BaseException()\n",
    "except:\n",
    "    print(\"Caught\")"
   ]
  },
  {
   "cell_type": "code",
   "execution_count": 21,
   "metadata": {
    "slideshow": {
     "slide_type": "subslide"
    }
   },
   "outputs": [
    {
     "name": "stdout",
     "output_type": "stream",
     "text": [
      "Podałeś niepoprawne a\n"
     ]
    }
   ],
   "source": [
    "try:\n",
    "    a = int(input(\"Podaj a \"))\n",
    "    prunt(\"a do kwadratu wynosi\", a**2)\n",
    "except:\n",
    "    print(\"Podałeś niepoprawne a\")  # Czy aby na pewno? Miłego debuggowania."
   ]
  },
  {
   "cell_type": "markdown",
   "metadata": {
    "slideshow": {
     "slide_type": "subslide"
    }
   },
   "source": [
    "#### Blok except musi obsłużyć złapany wyjątek"
   ]
  },
  {
   "cell_type": "markdown",
   "metadata": {
    "slideshow": {
     "slide_type": "subslide"
    }
   },
   "source": [
    "Jeżeli wyjątek został złapany i obsłużony przez blok `except`, program wznawia normalne działanie od miejsca za tym blokiem. W związku z tym kod w `except` powinien doprowadzić program do stanu poprawnego, w którym można bezpiecznie działać dalej. Jeżeli nie jesteśmy w stanie tego zrobić, albo nie powinniśmy w ogóle łapać tego wyjątku, albo rzucić go dalej przy pomocy `raise`.\n",
    "\n",
    "Błędem jest złapanie wyjątku nisko (blisko miejsca, w którym został rzucony), wypisanie komunikatu i kontynuowanie pracy, mimo że błąd tak naprawdę nie został naprawiony. (patrz także następna zasada)"
   ]
  },
  {
   "cell_type": "code",
   "execution_count": 22,
   "metadata": {
    "slideshow": {
     "slide_type": "subslide"
    }
   },
   "outputs": [
    {
     "name": "stdout",
     "output_type": "stream",
     "text": [
      "Promień musi być dodatni\n",
      "-6.283185307179586\n"
     ]
    }
   ],
   "source": [
    "import math\n",
    "\n",
    "def perimeter(r):\n",
    "    try:\n",
    "        assert r > 0, \"Promień musi być dodatni\"\n",
    "    except AssertionError:\n",
    "        print(\"Promień musi być dodatni\")\n",
    "    return 2 * math.pi * r\n",
    "\n",
    "\n",
    "print(perimeter(-1))"
   ]
  },
  {
   "cell_type": "code",
   "execution_count": 23,
   "metadata": {
    "slideshow": {
     "slide_type": "subslide"
    }
   },
   "outputs": [
    {
     "name": "stdout",
     "output_type": "stream",
     "text": [
      "I don't know what to do!\n"
     ]
    },
    {
     "ename": "TypeError",
     "evalue": "unsupported operand type(s) for +: 'int' and 'str'",
     "output_type": "error",
     "traceback": [
      "\u001b[1;31m---------------------------------------------------------------------------\u001b[0m",
      "\u001b[1;31mTypeError\u001b[0m                                 Traceback (most recent call last)",
      "Cell \u001b[1;32mIn [23], line 2\u001b[0m\n\u001b[0;32m      1\u001b[0m \u001b[39mtry\u001b[39;00m:\n\u001b[1;32m----> 2\u001b[0m     \u001b[39m5\u001b[39m \u001b[39m+\u001b[39m \u001b[39m'\u001b[39m\u001b[39m5\u001b[39m\u001b[39m'\u001b[39m\n\u001b[0;32m      3\u001b[0m \u001b[39mexcept\u001b[39;00m \u001b[39mTypeError\u001b[39;00m:\n\u001b[0;32m      4\u001b[0m     \u001b[39mprint\u001b[39m(\u001b[39m\"\u001b[39m\u001b[39mI don\u001b[39m\u001b[39m'\u001b[39m\u001b[39mt know what to do!\u001b[39m\u001b[39m\"\u001b[39m)\n",
      "\u001b[1;31mTypeError\u001b[0m: unsupported operand type(s) for +: 'int' and 'str'"
     ]
    }
   ],
   "source": [
    "try:\n",
    "    5 + '5'\n",
    "except TypeError:\n",
    "    print(\"I don't know what to do!\")\n",
    "    raise"
   ]
  },
  {
   "cell_type": "markdown",
   "metadata": {
    "slideshow": {
     "slide_type": "subslide"
    }
   },
   "source": [
    "#### \"Rzucaj wcześnie, łap późno\""
   ]
  },
  {
   "cell_type": "markdown",
   "metadata": {
    "slideshow": {
     "slide_type": "subslide"
    }
   },
   "source": [
    "Wyjątki należy rzucać najwcześniej jak to możliwe, czyli od razu, gdy jesteśmy w stanie wykryć błąd. Pozwala to najlepiej wyśledzić przyczynę błędu. Poza tym (prozaiczna kwestia) nie marnujemy czasu na obliczenia, które za chwilę i tak trzeba będzie przerwać, z powodu błędu, który dało się wykryć wcześniej.\n",
    "\n",
    "Przykładowo:\n",
    "- jeśli sprawdzamy poprawność argumentów funkcji, to róbmy to na samym jej początku, a nie dopiero, gdy potrzebujemy ich użyć\n",
    "- jeżeli przyjmujemy wejście od użytkownika, to od razu skontrolujmy jego poprawność (użytkownikowi nie wolno ufać)\n",
    "\n",
    "Wyjątki łapiemy wtedy, gdy jesteśmy w stanie jakoś naprawić błąd. Czasami jest to dość blisko miejsca ich rzucenia (np. jeśli błąd wystąpił podczas komunikacji z użytkownikiem), a czasami dopiero na najwyższym poziomie wykonania programu (jeżeli jedyne co możemy zrobić, to zakończyć program z jakimś zrozumiałym dla użytkownika komunikatem; to jest jedna z niewielu sytuacji, kiedy dopuszczalne jest łapanie wszystkich typów jednym blokiem `except`). Jeżeli pisząc funkcję mamy wątpliwość w jaki sposób wyjątek obsłużyć, to prawdopodobnie nie powinniśmy tego robić, tylko zostawić to kodowi, który będzie tę funkcję wywoływał."
   ]
  },
  {
   "cell_type": "markdown",
   "metadata": {
    "slideshow": {
     "slide_type": "subslide"
    }
   },
   "source": [
    "#### Wyjątki nie są niczym złym"
   ]
  },
  {
   "cell_type": "markdown",
   "metadata": {
    "slideshow": {
     "slide_type": "subslide"
    }
   },
   "source": [
    "To nie wyjątki są złe, tylko awarie. Jeśli doszło do jakiejś sytuacji awaryjnej, to prawidłowe zasygnalizowanie jej, z przekazaniem odpowiednich informacji, pomoże wykryć jej źródło i naprawić błąd. Jest to dużo lepsze niż udawanie, że nic się nie stało i zwracanie złych wyników."
   ]
  },
  {
   "cell_type": "markdown",
   "metadata": {
    "slideshow": {
     "slide_type": "subslide"
    }
   },
   "source": [
    "#### \"Łatwiej prosić o wybaczenie, niż o pozwolenie\""
   ]
  },
  {
   "cell_type": "markdown",
   "metadata": {
    "slideshow": {
     "slide_type": "subslide"
    }
   },
   "source": [
    "W Pythonie przyjęło się, że nie sprawdzamy możliwości wykonania operacji, tylko próbujemy ją wykonać i obsługujemy ew. wyjątki. Przykładowo, przed odczytaniem elementu z listy nie sprawdzamy, czy indeks mieści się w odpowiednim zakresie, tylko jesteśmy gotowi na IndexError.\n",
    "\n",
    "Konsekwencją tego podejścia jest fakt, że implementowane przez nas operacje nie powinny nigdy zwracać błędnych wyników, tylko rzucać wyjątki.\n",
    "\n",
    "Wracając do przykładu z liczeniem obwodu koła:\n",
    "- mnożenie liczby ujemnej przez pi nie powoduje rzucenia wyjątku, więc nie możemy się powołać na powyższą zasadę\n",
    "- osoba wywołująca naszą funkcję ma prawo nie sprawdzać poprawności promienia, zakładając, że błędną wartość funkcja zasygnalizuje wyjątkiem"
   ]
  },
  {
   "cell_type": "markdown",
   "metadata": {
    "slideshow": {
     "slide_type": "subslide"
    }
   },
   "source": [
    "Lektura dodatkowa:\n",
    "\n",
    "- https://www.pythonforthelab.com/blog/learning-not-to-handle-exceptions/\n",
    "- https://realpython.com/python-exceptions/\n",
    "- https://realpython.com/the-most-diabolical-python-antipattern/\n",
    "- https://softwareengineering.stackexchange.com/questions/231057/exceptions-why-throw-early-why-catch-late\n",
    "- https://pl.python.org/docs/tut/node10.html (Python 2)"
   ]
  }
 ],
 "metadata": {
  "celltoolbar": "Slideshow",
  "kernelspec": {
   "display_name": "Python 3.10.7 64-bit (microsoft store)",
   "language": "python",
   "name": "python3"
  },
  "language_info": {
   "codemirror_mode": {
    "name": "ipython",
    "version": 3
   },
   "file_extension": ".py",
   "mimetype": "text/x-python",
   "name": "python",
   "nbconvert_exporter": "python",
   "pygments_lexer": "ipython3",
   "version": "3.10.7"
  },
  "vscode": {
   "interpreter": {
    "hash": "d5a4eec0f89c02024410392738afe4e55f5cd470d4beb3f4f756e4a1d55a9a27"
   }
  }
 },
 "nbformat": 4,
 "nbformat_minor": 2
}
