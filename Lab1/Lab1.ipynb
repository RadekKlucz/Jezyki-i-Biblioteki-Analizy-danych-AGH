{
 "cells": [
  {
   "cell_type": "markdown",
   "metadata": {
    "slideshow": {
     "slide_type": "slide"
    }
   },
   "source": [
    "# Języki i Biblioteki Analizy Danych\n",
    "## Laboratorium 1."
   ]
  },
  {
   "cell_type": "markdown",
   "metadata": {
    "slideshow": {
     "slide_type": "slide"
    }
   },
   "source": [
    "mgr inż. Zbigniew Kaleta (zkaleta@agh.edu.pl)\n",
    "\n",
    "Termin konsultacji: piątek 12:00 pok. 4.60 lub po umówieniu mailowym"
   ]
  },
  {
   "cell_type": "markdown",
   "metadata": {
    "slideshow": {
     "slide_type": "subslide"
    }
   },
   "source": [
    "## Zasady oceny\n",
    "- zadania domowe: 7 * 4 pkt. = 28 pkt.\n",
    "- \"wejściówki\": 4 * 2 pkt. = 8 pkt.\n",
    "- aktywność na zajęciach: 3 pkt. (maks. 0,5 pkt. na jednych zajęciach)\n",
    "\n",
    "Maks: 36 pkt.\n",
    "\n",
    "Skala ocen zgodnie z regulaminem studiów"
   ]
  },
  {
   "cell_type": "markdown",
   "metadata": {
    "slideshow": {
     "slide_type": "slide"
    }
   },
   "source": [
    "## Narzędzia:\n",
    "+ Spyder https://docs.spyder-ide.org/current/installation.html\n",
    "+ PyCharm https://www.jetbrains.com/pycharm/\n",
    "+ Jupyter Notebook https://jupyter.org/\n",
    "+ RISE https://rise.readthedocs.io/en/stable/"
   ]
  },
  {
   "cell_type": "markdown",
   "metadata": {
    "slideshow": {
     "slide_type": "slide"
    }
   },
   "source": [
    "## Virtualenv"
   ]
  },
  {
   "cell_type": "markdown",
   "metadata": {},
   "source": [
    "https://virtualenv.pypa.io/en/latest/"
   ]
  },
  {
   "cell_type": "markdown",
   "metadata": {},
   "source": [
    "Virtualenv to narzędzie do tworzenia i zarządzania środowiskami wirtualnymi (duh) w Pythonie. Każde środowisko może mieć własny interpreter i zestaw bibliotek.\n",
    "Część viertualenv'a została włączona do standardu Pythona jako moduł venv."
   ]
  },
  {
   "cell_type": "markdown",
   "metadata": {},
   "source": [
    "<dirname> - nie musi być to katalog z głównym plikiem do wykonania. Wirtualne środowisko może zostać stworzone koło folderu zawirającego projekt (wirtualne środowisko będzie je zawierało)"
   ]
  },
  {
   "cell_type": "markdown",
   "metadata": {
    "slideshow": {
     "slide_type": "subslide"
    }
   },
   "source": [
    "$ virtualenv &lt;dirname&gt;"
   ]
  },
  {
   "cell_type": "markdown",
   "metadata": {},
   "source": [
    "$ rm -rf \\<dirname\\> (usunięcie wirtualnego środowiska)"
   ]
  },
  {
   "cell_type": "markdown",
   "metadata": {
    "slideshow": {
     "slide_type": "fragment"
    }
   },
   "source": [
    "$ virtualenv --python /usr/bin/python3 --system-site-packages --always-copy &lt;dirname&gt;\n",
    "\n",
    "--relocatable (tutaj chodzi o lokalną wersję python oraz przekopiowanie paczek, które domyślnie są zaistalowane na naszym kompie)"
   ]
  },
  {
   "cell_type": "markdown",
   "metadata": {
    "slideshow": {
     "slide_type": "fragment"
    }
   },
   "source": [
    "$ source &lt;dirname&gt;/bin/activate (aktywujemy środowisko)"
   ]
  },
  {
   "cell_type": "markdown",
   "metadata": {
    "slideshow": {
     "slide_type": "fragment"
    }
   },
   "source": [
    "$ deactivate"
   ]
  },
  {
   "cell_type": "markdown",
   "metadata": {
    "slideshow": {
     "slide_type": "subslide"
    }
   },
   "source": [
    "W bashu można sobie przygotować aliasy/funkcje do wygodniejszego używania.\n",
    "\n",
    "PyCharm integruje się z virtualenvem."
   ]
  },
  {
   "cell_type": "markdown",
   "metadata": {
    "slideshow": {
     "slide_type": "slide"
    }
   },
   "source": [
    "## PyPI i Pip"
   ]
  },
  {
   "cell_type": "markdown",
   "metadata": {
    "slideshow": {
     "slide_type": "fragment"
    }
   },
   "source": [
    "$ pip3 install &lt;package-name&gt;\n",
    "\n",
    "$ pip3 install --user &lt;package-name&gt;\n",
    "\n",
    "$ pip3 install --user git+https://&lt;URL&gt;"
   ]
  },
  {
   "cell_type": "markdown",
   "metadata": {
    "slideshow": {
     "slide_type": "fragment"
    }
   },
   "source": [
    "$ pip3 install --upgrade &lt;package-name&gt;"
   ]
  },
  {
   "cell_type": "markdown",
   "metadata": {
    "slideshow": {
     "slide_type": "fragment"
    }
   },
   "source": [
    "$ pip3 uninstall --yes &lt;package-name&gt;"
   ]
  },
  {
   "cell_type": "markdown",
   "metadata": {
    "slideshow": {
     "slide_type": "subslide"
    }
   },
   "source": [
    "$ pip3 freeze > requirements.txt"
   ]
  },
  {
   "cell_type": "markdown",
   "metadata": {
    "slideshow": {
     "slide_type": "fragment"
    }
   },
   "source": [
    "$ pip3 install -r requirements.txt"
   ]
  },
  {
   "cell_type": "markdown",
   "metadata": {
    "slideshow": {
     "slide_type": "subslide"
    }
   },
   "source": [
    "#### Patrz także:\n",
    "- conda\n",
    "- pipenv\n",
    "- poetry\n",
    "- hatch"
   ]
  },
  {
   "cell_type": "markdown",
   "metadata": {
    "slideshow": {
     "slide_type": "subslide"
    }
   },
   "source": [
    "https://janakiev.com/blog/jupyter-virtual-envs/"
   ]
  },
  {
   "cell_type": "markdown",
   "metadata": {
    "slideshow": {
     "slide_type": "subslide"
    }
   },
   "source": [
    "### Zadanie:\n",
    "- stworzyć i aktywować środowisko wirtualne\n",
    "- uruchomić program: \n",
    "- wygenerować plik requirements.txt\n",
    "- utworzyć i aktywować nowe środowisko wirtualne\n",
    "- uruchomić program jeszcze raz"
   ]
  },
  {
   "cell_type": "markdown",
   "metadata": {
    "slideshow": {
     "slide_type": "subslide"
    }
   },
   "source": [
    "&lt;venv path&gt;/lib/python3.8/site-packages"
   ]
  },
  {
   "cell_type": "markdown",
   "metadata": {
    "slideshow": {
     "slide_type": "slide"
    }
   },
   "source": [
    "## Git\n",
    "\n",
    "https://try.github.io/"
   ]
  },
  {
   "cell_type": "markdown",
   "metadata": {
    "slideshow": {
     "slide_type": "subslide"
    }
   },
   "source": [
    "- git clone &lt;repository&gt;\n",
    "- git add &lt;filename&gt;\n",
    "- git commit\n",
    "- git push"
   ]
  },
  {
   "cell_type": "markdown",
   "metadata": {
    "slideshow": {
     "slide_type": "fragment"
    }
   },
   "source": [
    "- git status\n",
    "- git diff &lt;filename&gt;\n",
    "- git restore --staged &lt;filename&gt;\n",
    "- git rm &lt;filename&gt;"
   ]
  },
  {
   "cell_type": "markdown",
   "metadata": {
    "slideshow": {
     "slide_type": "subslide"
    }
   },
   "source": [
    "### Zadanie:\n",
    "- stworzyć prywatne repozytorium na githubie\n",
    "- sklonować repozytorium na swój komputer\n",
    "- dodać przykładowy kod\n",
    "- dodać plik .gitignore"
   ]
  },
  {
   "cell_type": "markdown",
   "metadata": {
    "slideshow": {
     "slide_type": "slide"
    }
   },
   "source": [
    "## Cechy Pythona\n",
    "\n",
    "### Cechy rozpoznawcze:\n",
    "- wcięcia są elementem składni\n",
    "- dynamiczna typizacja (*duck typing*)\n",
    "- w pełni obiektowy\n",
    "- bardzo wysokiego poziomu\n",
    "- język skryptowy (interpretowany), ale również kompilowany do *bytecode*'u"
   ]
  },
  {
   "cell_type": "markdown",
   "metadata": {
    "slideshow": {
     "slide_type": "subslide"
    }
   },
   "source": [
    "### Zalety:\n",
    "- szybkość pisania\n",
    "- czytelność i zwięzłość\n",
    "- bogactwo materiałów i bibliotek\n",
    "- wcięcia są elementem składni\n",
    "- liberalny interpreter"
   ]
  },
  {
   "cell_type": "markdown",
   "metadata": {
    "slideshow": {
     "slide_type": "fragment"
    }
   },
   "source": [
    "### Wady:\n",
    "- szybkość działania\n",
    "- GIL - upośledzona wielowątkowość\n",
    "- niekompatybilne linie 2.x i 3.x\n",
    "- liberalny interpreter"
   ]
  },
  {
   "cell_type": "markdown",
   "metadata": {
    "slideshow": {
     "slide_type": "slide"
    }
   },
   "source": [
    "## Szablon programu"
   ]
  },
  {
   "cell_type": "code",
   "execution_count": null,
   "metadata": {},
   "outputs": [],
   "source": [
    "print(\"Hello world\")"
   ]
  },
  {
   "cell_type": "code",
   "execution_count": null,
   "metadata": {
    "slideshow": {
     "slide_type": "subslide"
    }
   },
   "outputs": [],
   "source": [
    "def main():\n",
    "    print(\"Hello world\")\n",
    "\n",
    "    \n",
    "if __name__ == \"__main__\":\n",
    "    main()"
   ]
  },
  {
   "cell_type": "markdown",
   "metadata": {
    "slideshow": {
     "slide_type": "slide"
    }
   },
   "source": [
    "## PEP - Python Enhancement Proposal\n",
    "\n",
    "- PEP 20 - The Zen of Python\n",
    "\n",
    "- PEP 8 - zasady formatowania kodu"
   ]
  },
  {
   "cell_type": "code",
   "execution_count": null,
   "metadata": {
    "slideshow": {
     "slide_type": "fragment"
    }
   },
   "outputs": [],
   "source": [
    "import this"
   ]
  },
  {
   "cell_type": "markdown",
   "metadata": {
    "slideshow": {
     "slide_type": "slide"
    }
   },
   "source": [
    "## Jak uruchomić program w Pythonie?\n",
    "* nie uruchamiać - pisać wprost w interpreterze (dobre jako kalkulator lub do najprostszych testów)\n",
    "* python &lt;nazwa pliku&gt; (patrz także: *shebang*)\n",
    "* python -m &lt;pakiet&gt;.&lt;moduł&gt;\n",
    "* sposób mieszany: python -i &lt;nazwa pliku&gt;\n",
    "* wpisując w interpreterze *import &lt;nazwa modułu&gt;*"
   ]
  },
  {
   "cell_type": "markdown",
   "metadata": {
    "slideshow": {
     "slide_type": "slide"
    }
   },
   "source": [
    "## Importowanie i funkcja dir"
   ]
  },
  {
   "cell_type": "code",
   "execution_count": 1,
   "metadata": {
    "scrolled": true
   },
   "outputs": [
    {
     "name": "stdout",
     "output_type": "stream",
     "text": [
      "Global ['In', 'Out', '_', '__', '___', '__builtin__', '__builtins__', '__doc__', '__loader__', '__name__', '__package__', '__spec__', '__vsc_ipynb_file__', '_dh', '_i', '_i1', '_ih', '_ii', '_iii', '_oh', 'exit', 'get_ipython', 'math', 'os', 'quit', 'sqrt', 'sys']\n",
      "\n",
      "Module ['__doc__', '__loader__', '__name__', '__package__', '__spec__', 'acos', 'acosh', 'asin', 'asinh', 'atan', 'atan2', 'atanh', 'ceil', 'comb', 'copysign', 'cos', 'cosh', 'degrees', 'dist', 'e', 'erf', 'erfc', 'exp', 'expm1', 'fabs', 'factorial', 'floor', 'fmod', 'frexp', 'fsum', 'gamma', 'gcd', 'hypot', 'inf', 'isclose', 'isfinite', 'isinf', 'isnan', 'isqrt', 'lcm', 'ldexp', 'lgamma', 'log', 'log10', 'log1p', 'log2', 'modf', 'nan', 'nextafter', 'perm', 'pi', 'pow', 'prod', 'radians', 'remainder', 'sin', 'sinh', 'sqrt', 'tan', 'tanh', 'tau', 'trunc', 'ulp']\n",
      "\n",
      "? ['__add__', '__class__', '__contains__', '__delattr__', '__dir__', '__doc__', '__eq__', '__format__', '__ge__', '__getattribute__', '__getitem__', '__getnewargs__', '__gt__', '__hash__', '__init__', '__init_subclass__', '__iter__', '__le__', '__len__', '__lt__', '__mod__', '__mul__', '__ne__', '__new__', '__reduce__', '__reduce_ex__', '__repr__', '__rmod__', '__rmul__', '__setattr__', '__sizeof__', '__str__', '__subclasshook__', 'capitalize', 'casefold', 'center', 'count', 'encode', 'endswith', 'expandtabs', 'find', 'format', 'format_map', 'index', 'isalnum', 'isalpha', 'isascii', 'isdecimal', 'isdigit', 'isidentifier', 'islower', 'isnumeric', 'isprintable', 'isspace', 'istitle', 'isupper', 'join', 'ljust', 'lower', 'lstrip', 'maketrans', 'partition', 'removeprefix', 'removesuffix', 'replace', 'rfind', 'rindex', 'rjust', 'rpartition', 'rsplit', 'rstrip', 'split', 'splitlines', 'startswith', 'strip', 'swapcase', 'title', 'translate', 'upper', 'zfill']\n",
      "\n",
      "Local ['a']\n"
     ]
    }
   ],
   "source": [
    "import math\n",
    "from math import sqrt\n",
    "\n",
    "print(\"Global\", dir(), end=\"\\n\\n\")\n",
    "print(\"Module\", dir(math), end=\"\\n\\n\")\n",
    "print(\"?\", dir('math'), end=\"\\n\\n\")\n",
    "\n",
    "def f():\n",
    "    a = 3\n",
    "    print(\"Local\", dir())\n",
    "    b = 4\n",
    "\n",
    "f()"
   ]
  }
 ],
 "metadata": {
  "celltoolbar": "Slideshow",
  "kernelspec": {
   "display_name": "Python 3.10.7 64-bit (microsoft store)",
   "language": "python",
   "name": "python3"
  },
  "language_info": {
   "codemirror_mode": {
    "name": "ipython",
    "version": 3
   },
   "file_extension": ".py",
   "mimetype": "text/x-python",
   "name": "python",
   "nbconvert_exporter": "python",
   "pygments_lexer": "ipython3",
   "version": "3.10.8"
  },
  "vscode": {
   "interpreter": {
    "hash": "d5a4eec0f89c02024410392738afe4e55f5cd470d4beb3f4f756e4a1d55a9a27"
   }
  }
 },
 "nbformat": 4,
 "nbformat_minor": 1
}
