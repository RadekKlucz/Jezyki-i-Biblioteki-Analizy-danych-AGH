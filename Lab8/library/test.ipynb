{
 "cells": [
  {
   "cell_type": "code",
   "execution_count": 2,
   "metadata": {},
   "outputs": [],
   "source": [
    "import json\n",
    "import hashlib"
   ]
  },
  {
   "cell_type": "code",
   "execution_count": null,
   "metadata": {},
   "outputs": [],
   "source": [
    "password1 = \"bib1\"\n",
    "hash1 = hashlib.md5(password1.encode()).hexdigest()\n",
    "\n",
    "password2 = \"bib2\"\n",
    "hash2 = hashlib.md5(password2.encode()).hexdigest()\n",
    "\n",
    "mylist = [{\"id_number\":\"1\", \"password\":hash1}, {\"id_number\":\"2\", \"password\":hash2}]\n",
    "jsonString = json.dumps(mylist, indent=4)\n",
    "\n",
    "\n",
    "with open(\"credentials_librarian.json\", \"w\") as file:\n",
    "    file.write(jsonString)\n",
    "    "
   ]
  },
  {
   "cell_type": "code",
   "execution_count": 77,
   "metadata": {},
   "outputs": [],
   "source": [
    "numer_ksiazki_1 = \"1\"\n",
    "numer_ksiazki_2 = \"2\" \n",
    "\n",
    "book_name_1 = \"Potop\"\n",
    "book_name_2 = \"Krzyzacy\"\n",
    "\n",
    "autor_1 = \"Sienkiewicz\"\n",
    "autor_2 = \"Sienkiewicz\"\n",
    "\n",
    "opis_1 = \"Bardzo duzo Szwedow\"\n",
    "\n",
    "opis_2 = \"Bitwa pod Grunwaldem\"\n",
    "\n",
    "wypozyczona_przez_1 = \"User1\"\n",
    "wypozyczona_przez_2 = \"\"\n",
    "\n",
    "\n",
    "rezerwacja_1 = False\n",
    "rezerwacja_2 = False\n",
    "\n",
    "zarezerwowane_na_dzien_1 = \"2022/03/29\"\n",
    "zarezerwowane_na_dzien_2 = \"\"\n",
    "\n",
    "w_bibliotece_1 = False\n",
    "w_bibliotece_2 = True\n",
    "\n",
    "data_wypozyczenia_start_1 = \"2022/03/14\"\n",
    "data_wypozyczenia_koniec_1 = \"2022/03/28\"\n",
    "data_wypozyczenia_start_2 = \"\"\n",
    "data_wypozyczenia_koniec_2 = \"\"\n",
    "\n",
    "\n",
    "myBooks = [{\"bookID\":numer_ksiazki_1, \"title\":book_name_1, \"author\":autor_1, \"description\":opis_1, \"checked-out by\":wypozyczona_przez_1, \"reservation\":rezerwacja_1, \"reservation date\":zarezerwowane_na_dzien_1, \n",
    "            \"in library\":w_bibliotece_1, \"check-out date\":data_wypozyczenia_start_1, 'due date':data_wypozyczenia_koniec_1},\n",
    "            {\"bookID\":numer_ksiazki_2, \"title\":book_name_2, \"author\":autor_2, \"description\":opis_2, \"checked-out by\":wypozyczona_przez_2, \"reservation\":rezerwacja_2, \"reservation date\":zarezerwowane_na_dzien_2, \n",
    "            \"in library\":w_bibliotece_2, \"check-out date\":data_wypozyczenia_start_2, 'due date':data_wypozyczenia_koniec_2}]\n",
    "\n",
    "jsonString = json.dumps(myBooks, indent=4)\n",
    "\n",
    "\n",
    "with open(\"library.json\", \"w\") as file:\n",
    "    file.write(jsonString)"
   ]
  },
  {
   "cell_type": "code",
   "execution_count": null,
   "metadata": {},
   "outputs": [],
   "source": [
    "user1 = \"user1\"\n",
    "password1 = \"1\"\n",
    "hash1 = hashlib.md5(password1.encode()).hexdigest()\n",
    "\n",
    "mylist = [{\"username\":user1, \"password\":hash1}]\n",
    "jsonString = json.dumps(mylist, indent=4)\n",
    "\n",
    "\n",
    "with open(\"credentials_user.json\", \"w\") as file:\n",
    "    file.write(jsonString)"
   ]
  }
 ],
 "metadata": {
  "kernelspec": {
   "display_name": "Python 3",
   "language": "python",
   "name": "python3"
  },
  "language_info": {
   "codemirror_mode": {
    "name": "ipython",
    "version": 3
   },
   "file_extension": ".py",
   "mimetype": "text/x-python",
   "name": "python",
   "nbconvert_exporter": "python",
   "pygments_lexer": "ipython3",
   "version": "3.10.9 (tags/v3.10.9:1dd9be6, Dec  6 2022, 20:01:21) [MSC v.1934 64 bit (AMD64)]"
  },
  "orig_nbformat": 4,
  "vscode": {
   "interpreter": {
    "hash": "d5a4eec0f89c02024410392738afe4e55f5cd470d4beb3f4f756e4a1d55a9a27"
   }
  }
 },
 "nbformat": 4,
 "nbformat_minor": 2
}
